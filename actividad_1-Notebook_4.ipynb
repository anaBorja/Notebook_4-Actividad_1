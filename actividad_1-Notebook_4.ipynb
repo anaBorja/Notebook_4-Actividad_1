{
 "cells": [
  {
   "cell_type": "code",
   "execution_count": 0,
   "metadata": {
    "application/vnd.databricks.v1+cell": {
     "cellMetadata": {
      "byteLimit": 2048000,
      "rowLimit": 10000
     },
     "inputWidgets": {},
     "nuid": "63019740-cc0b-448f-b62e-0a74f148f5e1",
     "showTitle": false,
     "tableResultSettingsMap": {},
     "title": ""
    }
   },
   "outputs": [],
   "source": [
    "# Configuración de conexión JDBC\n",
    "jdbcHostname = \"databricks-sql-server-ac.database.windows.net\"  # Servidor SQL\n",
    "jdbcPort = 1433\n",
    "jdbcDatabase = \"sample_db\"  # Nombre exacto de tu base de datos\n",
    "jdbcUsername = \"adminuser\"  # Cambiar por tu usuario configurado\n",
    "jdbcPassword = \"Acbp.1995\"  # Cambiar por la contraseña configurada\n",
    "\n",
    "jdbcUrl = f\"jdbc:sqlserver://{jdbcHostname}:{jdbcPort};databaseName={jdbcDatabase}\"\n",
    "\n",
    "# Propiedades de conexión\n",
    "connectionProperties = {\n",
    "    \"user\": jdbcUsername,\n",
    "    \"password\": jdbcPassword,\n",
    "    \"driver\": \"com.microsoft.sqlserver.jdbc.SQLServerDriver\"\n",
    "}"
   ]
  },
  {
   "cell_type": "code",
   "execution_count": 0,
   "metadata": {
    "application/vnd.databricks.v1+cell": {
     "cellMetadata": {
      "byteLimit": 2048000,
      "rowLimit": 10000
     },
     "inputWidgets": {},
     "nuid": "35bd3028-74b3-4f65-a03f-e89b4a460122",
     "showTitle": false,
     "tableResultSettingsMap": {},
     "title": ""
    }
   },
   "outputs": [
    {
     "output_type": "stream",
     "name": "stdout",
     "output_type": "stream",
     "text": [
      "+------------+--------------------+\n|TABLE_SCHEMA|          TABLE_NAME|\n+------------+--------------------+\n|     SalesLT|            Customer|\n|     SalesLT|        ProductModel|\n|     SalesLT|  ProductDescription|\n|     SalesLT|             Product|\n|     SalesLT|ProductModelProdu...|\n|     SalesLT|     ProductCategory|\n|         dbo|        BuildVersion|\n|         dbo|            ErrorLog|\n|     SalesLT|             Address|\n|     SalesLT|     CustomerAddress|\n|     SalesLT|    SalesOrderDetail|\n|     SalesLT|    SalesOrderHeader|\n+------------+--------------------+\n\n"
     ]
    }
   ],
   "source": [
    "query = \"(SELECT TABLE_SCHEMA, TABLE_NAME FROM INFORMATION_SCHEMA.TABLES WHERE TABLE_TYPE = 'BASE TABLE') AS t\"\n",
    "\n",
    "df = spark.read.jdbc(url=jdbcUrl, table=query, properties=connectionProperties)\n",
    "\n",
    "df.show()"
   ]
  },
  {
   "cell_type": "code",
   "execution_count": 0,
   "metadata": {
    "application/vnd.databricks.v1+cell": {
     "cellMetadata": {
      "byteLimit": 2048000,
      "rowLimit": 10000
     },
     "inputWidgets": {},
     "nuid": "6b40ab53-e571-48d1-ac25-bb2d128d415d",
     "showTitle": false,
     "tableResultSettingsMap": {},
     "title": ""
    }
   },
   "outputs": [
    {
     "output_type": "stream",
     "name": "stdout",
     "output_type": "stream",
     "text": [
      "+---------+--------------------+-------------+-----+------------+---------+----+-------+-----------------+--------------+-------------------+-------------------+----------------+--------------------+----------------------+--------------------+--------------------+\n|ProductID|                Name|ProductNumber|Color|StandardCost|ListPrice|Size| Weight|ProductCategoryID|ProductModelID|      SellStartDate|        SellEndDate|DiscontinuedDate|      ThumbNailPhoto|ThumbnailPhotoFileName|             rowguid|        ModifiedDate|\n+---------+--------------------+-------------+-----+------------+---------+----+-------+-----------------+--------------+-------------------+-------------------+----------------+--------------------+----------------------+--------------------+--------------------+\n|      680|HL Road Frame - B...|   FR-R92B-58|Black|   1059.3100|1431.5000|  58|1016.04|               18|             6|2002-06-01 00:00:00|               null|            null|[47 49 46 38 39 6...|  no_image_availabl...|43DD68D6-14A4-461...|2008-03-11 10:01:...|\n|      706|HL Road Frame - R...|   FR-R92R-58|  Red|   1059.3100|1431.5000|  58|1016.04|               18|             6|2002-06-01 00:00:00|               null|            null|[47 49 46 38 39 6...|  no_image_availabl...|9540FF17-2712-4C9...|2008-03-11 10:01:...|\n|      707|Sport-100 Helmet,...|    HL-U509-R|  Red|     13.0863|  34.9900|null|   null|               35|            33|2005-07-01 00:00:00|               null|            null|[47 49 46 38 39 6...|  no_image_availabl...|2E1EF41A-C08A-4FF...|2008-03-11 10:01:...|\n|      708|Sport-100 Helmet,...|      HL-U509|Black|     13.0863|  34.9900|null|   null|               35|            33|2005-07-01 00:00:00|               null|            null|[47 49 46 38 39 6...|  no_image_availabl...|A25A44FB-C2DE-426...|2008-03-11 10:01:...|\n|      709|Mountain Bike Soc...|    SO-B909-M|White|      3.3963|   9.5000|   M|   null|               27|            18|2005-07-01 00:00:00|2006-06-30 00:00:00|            null|[47 49 46 38 39 6...|  no_image_availabl...|18F95F47-1540-4E0...|2008-03-11 10:01:...|\n|      710|Mountain Bike Soc...|    SO-B909-L|White|      3.3963|   9.5000|   L|   null|               27|            18|2005-07-01 00:00:00|2006-06-30 00:00:00|            null|[47 49 46 38 39 6...|  no_image_availabl...|161C035E-21B3-4E1...|2008-03-11 10:01:...|\n|      711|Sport-100 Helmet,...|    HL-U509-B| Blue|     13.0863|  34.9900|null|   null|               35|            33|2005-07-01 00:00:00|               null|            null|[47 49 46 38 39 6...|  no_image_availabl...|FD7C0858-4179-48C...|2008-03-11 10:01:...|\n|      712|        AWC Logo Cap|      CA-1098|Multi|      6.9223|   8.9900|null|   null|               23|             2|2005-07-01 00:00:00|               null|            null|[47 49 46 38 39 6...|  no_image_availabl...|B9EDE243-A6F4-462...|2008-03-11 10:01:...|\n|      713|Long-Sleeve Logo ...|    LJ-0192-S|Multi|     38.4923|  49.9900|   S|   null|               25|            11|2005-07-01 00:00:00|               null|            null|[47 49 46 38 39 6...|  awc_jersey_male_s...|FD449C82-A259-4FA...|2008-03-11 10:01:...|\n|      714|Long-Sleeve Logo ...|    LJ-0192-M|Multi|     38.4923|  49.9900|   M|   null|               25|            11|2005-07-01 00:00:00|               null|            null|[47 49 46 38 39 6...|  awc_jersey_male_s...|6A290063-A0CF-432...|2008-03-11 10:01:...|\n+---------+--------------------+-------------+-----+------------+---------+----+-------+-----------------+--------------+-------------------+-------------------+----------------+--------------------+----------------------+--------------------+--------------------+\n\n"
     ]
    }
   ],
   "source": [
    "query = \"(SELECT TOP 10 * FROM SalesLT.Product) AS temp\"  # Cambia por una tabla válida si es necesario\n",
    "\n",
    "# Leer datos desde SQL Server\n",
    "try:\n",
    "    df = spark.read.jdbc(url=jdbcUrl, table=query, properties=connectionProperties)\n",
    "    df.show()  # Mostrar los datos\n",
    "except Exception as e:\n",
    "    print(f\"Error al conectar: {e}\")"
   ]
  },
  {
   "cell_type": "code",
   "execution_count": 0,
   "metadata": {
    "application/vnd.databricks.v1+cell": {
     "cellMetadata": {
      "byteLimit": 2048000,
      "rowLimit": 10000
     },
     "inputWidgets": {},
     "nuid": "8951ab6b-ffa1-43db-8f7d-63b01f2ea925",
     "showTitle": false,
     "tableResultSettingsMap": {},
     "title": ""
    }
   },
   "outputs": [],
   "source": [
    "query = \"(SELECT * FROM SalesLT.Product) AS temp\"\n",
    "df = spark.read.jdbc(url=jdbcUrl, table=query, properties=connectionProperties)\n",
    "df.createOrReplaceTempView(\"Product\")\n"
   ]
  },
  {
   "cell_type": "code",
   "execution_count": 0,
   "metadata": {
    "application/vnd.databricks.v1+cell": {
     "cellMetadata": {
      "byteLimit": 2048000,
      "implicitDf": true,
      "rowLimit": 10000
     },
     "inputWidgets": {},
     "nuid": "7e7727a5-d065-4a25-80a6-e146dc5524e7",
     "showTitle": false,
     "tableResultSettingsMap": {},
     "title": ""
    }
   },
   "outputs": [
    {
     "output_type": "display_data",
     "data": {
      "text/html": [
       "<style scoped>\n",
       "  .table-result-container {\n",
       "    max-height: 300px;\n",
       "    overflow: auto;\n",
       "  }\n",
       "  table, th, td {\n",
       "    border: 1px solid black;\n",
       "    border-collapse: collapse;\n",
       "  }\n",
       "  th, td {\n",
       "    padding: 5px;\n",
       "  }\n",
       "  th {\n",
       "    text-align: left;\n",
       "  }\n",
       "</style><div class='table-result-container'><table class='table-result'><thead style='background-color: white'><tr><th>ProductID</th><th>Name</th><th>ListPrice</th></tr></thead><tbody><tr><td>749</td><td>Road-150 Red, 62</td><td>3578.2700</td></tr><tr><td>753</td><td>Road-150 Red, 56</td><td>3578.2700</td></tr><tr><td>750</td><td>Road-150 Red, 44</td><td>3578.2700</td></tr><tr><td>751</td><td>Road-150 Red, 48</td><td>3578.2700</td></tr><tr><td>752</td><td>Road-150 Red, 52</td><td>3578.2700</td></tr></tbody></table></div>"
      ]
     },
     "metadata": {
      "application/vnd.databricks.v1+output": {
       "addedWidgets": {},
       "aggData": [],
       "aggError": "",
       "aggOverflow": false,
       "aggSchema": [],
       "aggSeriesLimitReached": false,
       "aggType": "",
       "arguments": {},
       "columnCustomDisplayInfos": {},
       "data": [
        [
         749,
         "Road-150 Red, 62",
         "3578.2700"
        ],
        [
         753,
         "Road-150 Red, 56",
         "3578.2700"
        ],
        [
         750,
         "Road-150 Red, 44",
         "3578.2700"
        ],
        [
         751,
         "Road-150 Red, 48",
         "3578.2700"
        ],
        [
         752,
         "Road-150 Red, 52",
         "3578.2700"
        ]
       ],
       "datasetInfos": [],
       "dbfsResultPath": null,
       "isJsonSchema": true,
       "metadata": {},
       "overflow": false,
       "plotOptions": {
        "customPlotOptions": {},
        "displayType": "table",
        "pivotAggregation": null,
        "pivotColumns": null,
        "xColumns": null,
        "yColumns": null
       },
       "removedWidgets": [],
       "schema": [
        {
         "metadata": "{\"scale\":0}",
         "name": "ProductID",
         "type": "\"integer\""
        },
        {
         "metadata": "{\"scale\":0}",
         "name": "Name",
         "type": "\"string\""
        },
        {
         "metadata": "{\"scale\":4}",
         "name": "ListPrice",
         "type": "\"decimal(19,4)\""
        }
       ],
       "type": "table"
      }
     },
     "output_type": "display_data"
    }
   ],
   "source": [
    "%sql\n",
    "SELECT ProductID, Name, ListPrice\n",
    "FROM Product\n",
    "ORDER BY ListPrice DESC\n",
    "LIMIT 5;"
   ]
  },
  {
   "cell_type": "markdown",
   "metadata": {
    "application/vnd.databricks.v1+cell": {
     "cellMetadata": {},
     "inputWidgets": {},
     "nuid": "9a700633-716a-4aa4-bf2e-9b03f076b809",
     "showTitle": false,
     "tableResultSettingsMap": {},
     "title": ""
    }
   },
   "source": [
    "## 1.Listat todas las tablas disponibles"
   ]
  },
  {
   "cell_type": "code",
   "execution_count": 0,
   "metadata": {
    "application/vnd.databricks.v1+cell": {
     "cellMetadata": {
      "byteLimit": 2048000,
      "rowLimit": 10000
     },
     "inputWidgets": {},
     "nuid": "736e364d-b188-48cc-ba5c-fbf6a13e018b",
     "showTitle": false,
     "tableResultSettingsMap": {},
     "title": ""
    }
   },
   "outputs": [],
   "source": [
    "query = \"(SELECT TABLE_NAME FROM INFORMATION_SCHEMA.TABLES WHERE TABLE_TYPE = 'BASE TABLE') AS temp\"\n",
    "df_tables = spark.read.jdbc(url=jdbcUrl, table=query, properties=connectionProperties)\n",
    "\n",
    "# Crear una vista temporal\n",
    "df_tables.createOrReplaceTempView(\"temp_tables\")"
   ]
  },
  {
   "cell_type": "code",
   "execution_count": 0,
   "metadata": {
    "application/vnd.databricks.v1+cell": {
     "cellMetadata": {
      "byteLimit": 2048000,
      "implicitDf": true,
      "rowLimit": 10000
     },
     "inputWidgets": {},
     "nuid": "86315edc-5a5a-489f-8470-9a544ad0a03f",
     "showTitle": false,
     "tableResultSettingsMap": {},
     "title": ""
    }
   },
   "outputs": [
    {
     "output_type": "display_data",
     "data": {
      "text/html": [
       "<style scoped>\n",
       "  .table-result-container {\n",
       "    max-height: 300px;\n",
       "    overflow: auto;\n",
       "  }\n",
       "  table, th, td {\n",
       "    border: 1px solid black;\n",
       "    border-collapse: collapse;\n",
       "  }\n",
       "  th, td {\n",
       "    padding: 5px;\n",
       "  }\n",
       "  th {\n",
       "    text-align: left;\n",
       "  }\n",
       "</style><div class='table-result-container'><table class='table-result'><thead style='background-color: white'><tr><th>TABLE_NAME</th></tr></thead><tbody><tr><td>Customer</td></tr><tr><td>ProductModel</td></tr><tr><td>ProductDescription</td></tr><tr><td>Product</td></tr><tr><td>ProductModelProductDescription</td></tr><tr><td>ProductCategory</td></tr><tr><td>BuildVersion</td></tr><tr><td>ErrorLog</td></tr><tr><td>Address</td></tr><tr><td>CustomerAddress</td></tr><tr><td>SalesOrderDetail</td></tr><tr><td>SalesOrderHeader</td></tr></tbody></table></div>"
      ]
     },
     "metadata": {
      "application/vnd.databricks.v1+output": {
       "addedWidgets": {},
       "aggData": [],
       "aggError": "",
       "aggOverflow": false,
       "aggSchema": [],
       "aggSeriesLimitReached": false,
       "aggType": "",
       "arguments": {},
       "columnCustomDisplayInfos": {},
       "data": [
        [
         "Customer"
        ],
        [
         "ProductModel"
        ],
        [
         "ProductDescription"
        ],
        [
         "Product"
        ],
        [
         "ProductModelProductDescription"
        ],
        [
         "ProductCategory"
        ],
        [
         "BuildVersion"
        ],
        [
         "ErrorLog"
        ],
        [
         "Address"
        ],
        [
         "CustomerAddress"
        ],
        [
         "SalesOrderDetail"
        ],
        [
         "SalesOrderHeader"
        ]
       ],
       "datasetInfos": [],
       "dbfsResultPath": null,
       "isJsonSchema": true,
       "metadata": {},
       "overflow": false,
       "plotOptions": {
        "customPlotOptions": {},
        "displayType": "table",
        "pivotAggregation": null,
        "pivotColumns": null,
        "xColumns": null,
        "yColumns": null
       },
       "removedWidgets": [],
       "schema": [
        {
         "metadata": "{\"scale\":0}",
         "name": "TABLE_NAME",
         "type": "\"string\""
        }
       ],
       "type": "table"
      }
     },
     "output_type": "display_data"
    }
   ],
   "source": [
    "%sql\n",
    "SELECT TABLE_NAME\n",
    "FROM temp_tables\n"
   ]
  },
  {
   "cell_type": "markdown",
   "metadata": {
    "application/vnd.databricks.v1+cell": {
     "cellMetadata": {},
     "inputWidgets": {},
     "nuid": "c2b72959-d787-4d05-9e49-73b684f9c32f",
     "showTitle": false,
     "tableResultSettingsMap": {},
     "title": ""
    }
   },
   "source": [
    "## 2. Productos con precios mayores a $50"
   ]
  },
  {
   "cell_type": "code",
   "execution_count": 0,
   "metadata": {
    "application/vnd.databricks.v1+cell": {
     "cellMetadata": {
      "byteLimit": 2048000,
      "rowLimit": 10000
     },
     "inputWidgets": {},
     "nuid": "5e04df06-cde5-4a62-b2da-a6ed1b07e0ca",
     "showTitle": false,
     "tableResultSettingsMap": {},
     "title": ""
    }
   },
   "outputs": [],
   "source": [
    "query = \"(SELECT * FROM SalesLT.Product) AS temp\"\n",
    "df_filtered = spark.read.jdbc(url=jdbcUrl, table=query, properties=connectionProperties)\n",
    "df_filtered.createOrReplaceTempView(\"precios_mayores\")"
   ]
  },
  {
   "cell_type": "code",
   "execution_count": 0,
   "metadata": {
    "application/vnd.databricks.v1+cell": {
     "cellMetadata": {
      "byteLimit": 2048000,
      "implicitDf": true,
      "rowLimit": 10000
     },
     "inputWidgets": {},
     "nuid": "438ae0f1-dd35-45ed-8407-b58cff4fb1f0",
     "showTitle": false,
     "tableResultSettingsMap": {},
     "title": ""
    }
   },
   "outputs": [
    {
     "output_type": "display_data",
     "data": {
      "text/html": [
       "<style scoped>\n",
       "  .table-result-container {\n",
       "    max-height: 300px;\n",
       "    overflow: auto;\n",
       "  }\n",
       "  table, th, td {\n",
       "    border: 1px solid black;\n",
       "    border-collapse: collapse;\n",
       "  }\n",
       "  th, td {\n",
       "    padding: 5px;\n",
       "  }\n",
       "  th {\n",
       "    text-align: left;\n",
       "  }\n",
       "</style><div class='table-result-container'><table class='table-result'><thead style='background-color: white'><tr><th>ProductID</th><th>Name</th><th>ListPrice</th></tr></thead><tbody><tr><td>680</td><td>HL Road Frame - Black, 58</td><td>1431.5000</td></tr><tr><td>706</td><td>HL Road Frame - Red, 58</td><td>1431.5000</td></tr><tr><td>717</td><td>HL Road Frame - Red, 62</td><td>1431.5000</td></tr><tr><td>718</td><td>HL Road Frame - Red, 44</td><td>1431.5000</td></tr><tr><td>719</td><td>HL Road Frame - Red, 48</td><td>1431.5000</td></tr><tr><td>720</td><td>HL Road Frame - Red, 52</td><td>1431.5000</td></tr><tr><td>721</td><td>HL Road Frame - Red, 56</td><td>1431.5000</td></tr><tr><td>722</td><td>LL Road Frame - Black, 58</td><td>337.2200</td></tr><tr><td>723</td><td>LL Road Frame - Black, 60</td><td>337.2200</td></tr><tr><td>724</td><td>LL Road Frame - Black, 62</td><td>337.2200</td></tr><tr><td>725</td><td>LL Road Frame - Red, 44</td><td>337.2200</td></tr><tr><td>726</td><td>LL Road Frame - Red, 48</td><td>337.2200</td></tr><tr><td>727</td><td>LL Road Frame - Red, 52</td><td>337.2200</td></tr><tr><td>728</td><td>LL Road Frame - Red, 58</td><td>337.2200</td></tr><tr><td>729</td><td>LL Road Frame - Red, 60</td><td>337.2200</td></tr><tr><td>730</td><td>LL Road Frame - Red, 62</td><td>337.2200</td></tr><tr><td>731</td><td>ML Road Frame - Red, 44</td><td>594.8300</td></tr><tr><td>732</td><td>ML Road Frame - Red, 48</td><td>594.8300</td></tr><tr><td>733</td><td>ML Road Frame - Red, 52</td><td>594.8300</td></tr><tr><td>734</td><td>ML Road Frame - Red, 58</td><td>594.8300</td></tr><tr><td>735</td><td>ML Road Frame - Red, 60</td><td>594.8300</td></tr><tr><td>736</td><td>LL Road Frame - Black, 44</td><td>337.2200</td></tr><tr><td>737</td><td>LL Road Frame - Black, 48</td><td>337.2200</td></tr><tr><td>738</td><td>LL Road Frame - Black, 52</td><td>337.2200</td></tr><tr><td>739</td><td>HL Mountain Frame - Silver, 42</td><td>1364.5000</td></tr><tr><td>740</td><td>HL Mountain Frame - Silver, 44</td><td>1364.5000</td></tr><tr><td>741</td><td>HL Mountain Frame - Silver, 48</td><td>1364.5000</td></tr><tr><td>742</td><td>HL Mountain Frame - Silver, 46</td><td>1364.5000</td></tr><tr><td>743</td><td>HL Mountain Frame - Black, 42</td><td>1349.6000</td></tr><tr><td>744</td><td>HL Mountain Frame - Black, 44</td><td>1349.6000</td></tr><tr><td>745</td><td>HL Mountain Frame - Black, 48</td><td>1349.6000</td></tr><tr><td>746</td><td>HL Mountain Frame - Black, 46</td><td>1349.6000</td></tr><tr><td>747</td><td>HL Mountain Frame - Black, 38</td><td>1349.6000</td></tr><tr><td>748</td><td>HL Mountain Frame - Silver, 38</td><td>1364.5000</td></tr><tr><td>749</td><td>Road-150 Red, 62</td><td>3578.2700</td></tr><tr><td>750</td><td>Road-150 Red, 44</td><td>3578.2700</td></tr><tr><td>751</td><td>Road-150 Red, 48</td><td>3578.2700</td></tr><tr><td>752</td><td>Road-150 Red, 52</td><td>3578.2700</td></tr><tr><td>753</td><td>Road-150 Red, 56</td><td>3578.2700</td></tr><tr><td>754</td><td>Road-450 Red, 58</td><td>1457.9900</td></tr><tr><td>755</td><td>Road-450 Red, 60</td><td>1457.9900</td></tr><tr><td>756</td><td>Road-450 Red, 44</td><td>1457.9900</td></tr><tr><td>757</td><td>Road-450 Red, 48</td><td>1457.9900</td></tr><tr><td>758</td><td>Road-450 Red, 52</td><td>1457.9900</td></tr><tr><td>759</td><td>Road-650 Red, 58</td><td>782.9900</td></tr><tr><td>760</td><td>Road-650 Red, 60</td><td>782.9900</td></tr><tr><td>761</td><td>Road-650 Red, 62</td><td>782.9900</td></tr><tr><td>762</td><td>Road-650 Red, 44</td><td>782.9900</td></tr><tr><td>763</td><td>Road-650 Red, 48</td><td>782.9900</td></tr><tr><td>764</td><td>Road-650 Red, 52</td><td>782.9900</td></tr><tr><td>765</td><td>Road-650 Black, 58</td><td>782.9900</td></tr><tr><td>766</td><td>Road-650 Black, 60</td><td>782.9900</td></tr><tr><td>767</td><td>Road-650 Black, 62</td><td>782.9900</td></tr><tr><td>768</td><td>Road-650 Black, 44</td><td>782.9900</td></tr><tr><td>769</td><td>Road-650 Black, 48</td><td>782.9900</td></tr><tr><td>770</td><td>Road-650 Black, 52</td><td>782.9900</td></tr><tr><td>771</td><td>Mountain-100 Silver, 38</td><td>3399.9900</td></tr><tr><td>772</td><td>Mountain-100 Silver, 42</td><td>3399.9900</td></tr><tr><td>773</td><td>Mountain-100 Silver, 44</td><td>3399.9900</td></tr><tr><td>774</td><td>Mountain-100 Silver, 48</td><td>3399.9900</td></tr><tr><td>775</td><td>Mountain-100 Black, 38</td><td>3374.9900</td></tr><tr><td>776</td><td>Mountain-100 Black, 42</td><td>3374.9900</td></tr><tr><td>777</td><td>Mountain-100 Black, 44</td><td>3374.9900</td></tr><tr><td>778</td><td>Mountain-100 Black, 48</td><td>3374.9900</td></tr><tr><td>779</td><td>Mountain-200 Silver, 38</td><td>2319.9900</td></tr><tr><td>780</td><td>Mountain-200 Silver, 42</td><td>2319.9900</td></tr><tr><td>781</td><td>Mountain-200 Silver, 46</td><td>2319.9900</td></tr><tr><td>782</td><td>Mountain-200 Black, 38</td><td>2294.9900</td></tr><tr><td>783</td><td>Mountain-200 Black, 42</td><td>2294.9900</td></tr><tr><td>784</td><td>Mountain-200 Black, 46</td><td>2294.9900</td></tr><tr><td>785</td><td>Mountain-300 Black, 38</td><td>1079.9900</td></tr><tr><td>786</td><td>Mountain-300 Black, 40</td><td>1079.9900</td></tr><tr><td>787</td><td>Mountain-300 Black, 44</td><td>1079.9900</td></tr><tr><td>788</td><td>Mountain-300 Black, 48</td><td>1079.9900</td></tr><tr><td>789</td><td>Road-250 Red, 44</td><td>2443.3500</td></tr><tr><td>790</td><td>Road-250 Red, 48</td><td>2443.3500</td></tr><tr><td>791</td><td>Road-250 Red, 52</td><td>2443.3500</td></tr><tr><td>792</td><td>Road-250 Red, 58</td><td>2443.3500</td></tr><tr><td>793</td><td>Road-250 Black, 44</td><td>2443.3500</td></tr><tr><td>794</td><td>Road-250 Black, 48</td><td>2443.3500</td></tr><tr><td>795</td><td>Road-250 Black, 52</td><td>2443.3500</td></tr><tr><td>796</td><td>Road-250 Black, 58</td><td>2443.3500</td></tr><tr><td>797</td><td>Road-550-W Yellow, 38</td><td>1120.4900</td></tr><tr><td>798</td><td>Road-550-W Yellow, 40</td><td>1120.4900</td></tr><tr><td>799</td><td>Road-550-W Yellow, 42</td><td>1120.4900</td></tr><tr><td>800</td><td>Road-550-W Yellow, 44</td><td>1120.4900</td></tr><tr><td>801</td><td>Road-550-W Yellow, 48</td><td>1120.4900</td></tr><tr><td>802</td><td>LL Fork</td><td>148.2200</td></tr><tr><td>803</td><td>ML Fork</td><td>175.4900</td></tr><tr><td>804</td><td>HL Fork</td><td>229.4900</td></tr><tr><td>806</td><td>ML Headset</td><td>102.2900</td></tr><tr><td>807</td><td>HL Headset</td><td>124.7300</td></tr><tr><td>809</td><td>ML Mountain Handlebars</td><td>61.9200</td></tr><tr><td>810</td><td>HL Mountain Handlebars</td><td>120.2700</td></tr><tr><td>812</td><td>ML Road Handlebars</td><td>61.9200</td></tr><tr><td>813</td><td>HL Road Handlebars</td><td>120.2700</td></tr><tr><td>814</td><td>ML Mountain Frame - Black, 38</td><td>348.7600</td></tr><tr><td>815</td><td>LL Mountain Front Wheel</td><td>60.7450</td></tr><tr><td>816</td><td>ML Mountain Front Wheel</td><td>209.0250</td></tr><tr><td>817</td><td>HL Mountain Front Wheel</td><td>300.2150</td></tr><tr><td>818</td><td>LL Road Front Wheel</td><td>85.5650</td></tr><tr><td>819</td><td>ML Road Front Wheel</td><td>248.3850</td></tr><tr><td>820</td><td>HL Road Front Wheel</td><td>330.0600</td></tr><tr><td>821</td><td>Touring Front Wheel</td><td>218.0100</td></tr><tr><td>822</td><td>ML Road Frame-W - Yellow, 38</td><td>594.8300</td></tr><tr><td>823</td><td>LL Mountain Rear Wheel</td><td>87.7450</td></tr><tr><td>824</td><td>ML Mountain Rear Wheel</td><td>236.0250</td></tr><tr><td>825</td><td>HL Mountain Rear Wheel</td><td>327.2150</td></tr><tr><td>826</td><td>LL Road Rear Wheel</td><td>112.5650</td></tr><tr><td>827</td><td>ML Road Rear Wheel</td><td>275.3850</td></tr><tr><td>828</td><td>HL Road Rear Wheel</td><td>357.0600</td></tr><tr><td>829</td><td>Touring Rear Wheel</td><td>245.0100</td></tr><tr><td>830</td><td>ML Mountain Frame - Black, 40</td><td>348.7600</td></tr><tr><td>831</td><td>ML Mountain Frame - Black, 44</td><td>348.7600</td></tr><tr><td>832</td><td>ML Mountain Frame - Black, 48</td><td>348.7600</td></tr><tr><td>833</td><td>ML Road Frame-W - Yellow, 40</td><td>594.8300</td></tr><tr><td>834</td><td>ML Road Frame-W - Yellow, 42</td><td>594.8300</td></tr><tr><td>835</td><td>ML Road Frame-W - Yellow, 44</td><td>594.8300</td></tr><tr><td>836</td><td>ML Road Frame-W - Yellow, 48</td><td>594.8300</td></tr><tr><td>837</td><td>HL Road Frame - Black, 62</td><td>1431.5000</td></tr><tr><td>838</td><td>HL Road Frame - Black, 44</td><td>1431.5000</td></tr><tr><td>839</td><td>HL Road Frame - Black, 48</td><td>1431.5000</td></tr><tr><td>840</td><td>HL Road Frame - Black, 52</td><td>1431.5000</td></tr><tr><td>841</td><td>Men's Sports Shorts, S</td><td>59.9900</td></tr><tr><td>842</td><td>Touring-Panniers, Large</td><td>125.0000</td></tr><tr><td>849</td><td>Men's Sports Shorts, M</td><td>59.9900</td></tr><tr><td>850</td><td>Men's Sports Shorts, L</td><td>59.9900</td></tr><tr><td>851</td><td>Men's Sports Shorts, XL</td><td>59.9900</td></tr><tr><td>852</td><td>Women's Tights, S</td><td>74.9900</td></tr><tr><td>853</td><td>Women's Tights, M</td><td>74.9900</td></tr><tr><td>854</td><td>Women's Tights, L</td><td>74.9900</td></tr><tr><td>855</td><td>Men's Bib-Shorts, S</td><td>89.9900</td></tr><tr><td>856</td><td>Men's Bib-Shorts, M</td><td>89.9900</td></tr><tr><td>857</td><td>Men's Bib-Shorts, L</td><td>89.9900</td></tr><tr><td>864</td><td>Classic Vest, S</td><td>63.5000</td></tr><tr><td>865</td><td>Classic Vest, M</td><td>63.5000</td></tr><tr><td>866</td><td>Classic Vest, L</td><td>63.5000</td></tr><tr><td>867</td><td>Women's Mountain Shorts, S</td><td>69.9900</td></tr><tr><td>868</td><td>Women's Mountain Shorts, M</td><td>69.9900</td></tr><tr><td>869</td><td>Women's Mountain Shorts, L</td><td>69.9900</td></tr><tr><td>876</td><td>Hitch Rack - 4-Bike</td><td>120.0000</td></tr><tr><td>879</td><td>All-Purpose Bike Stand</td><td>159.0000</td></tr><tr><td>880</td><td>Hydration Pack - 70 oz.</td><td>54.9900</td></tr><tr><td>881</td><td>Short-Sleeve Classic Jersey, S</td><td>53.9900</td></tr><tr><td>882</td><td>Short-Sleeve Classic Jersey, M</td><td>53.9900</td></tr><tr><td>883</td><td>Short-Sleeve Classic Jersey, L</td><td>53.9900</td></tr><tr><td>884</td><td>Short-Sleeve Classic Jersey, XL</td><td>53.9900</td></tr><tr><td>885</td><td>HL Touring Frame - Yellow, 60</td><td>1003.9100</td></tr><tr><td>886</td><td>LL Touring Frame - Yellow, 62</td><td>333.4200</td></tr><tr><td>887</td><td>HL Touring Frame - Yellow, 46</td><td>1003.9100</td></tr><tr><td>888</td><td>HL Touring Frame - Yellow, 50</td><td>1003.9100</td></tr><tr><td>889</td><td>HL Touring Frame - Yellow, 54</td><td>1003.9100</td></tr><tr><td>890</td><td>HL Touring Frame - Blue, 46</td><td>1003.9100</td></tr><tr><td>891</td><td>HL Touring Frame - Blue, 50</td><td>1003.9100</td></tr><tr><td>892</td><td>HL Touring Frame - Blue, 54</td><td>1003.9100</td></tr><tr><td>893</td><td>HL Touring Frame - Blue, 60</td><td>1003.9100</td></tr><tr><td>894</td><td>Rear Derailleur</td><td>121.4600</td></tr><tr><td>895</td><td>LL Touring Frame - Blue, 50</td><td>333.4200</td></tr><tr><td>896</td><td>LL Touring Frame - Blue, 54</td><td>333.4200</td></tr><tr><td>897</td><td>LL Touring Frame - Blue, 58</td><td>333.4200</td></tr><tr><td>898</td><td>LL Touring Frame - Blue, 62</td><td>333.4200</td></tr><tr><td>899</td><td>LL Touring Frame - Yellow, 44</td><td>333.4200</td></tr><tr><td>900</td><td>LL Touring Frame - Yellow, 50</td><td>333.4200</td></tr><tr><td>901</td><td>LL Touring Frame - Yellow, 54</td><td>333.4200</td></tr><tr><td>902</td><td>LL Touring Frame - Yellow, 58</td><td>333.4200</td></tr><tr><td>903</td><td>LL Touring Frame - Blue, 44</td><td>333.4200</td></tr><tr><td>904</td><td>ML Mountain Frame-W - Silver, 40</td><td>364.0900</td></tr><tr><td>905</td><td>ML Mountain Frame-W - Silver, 42</td><td>364.0900</td></tr><tr><td>906</td><td>ML Mountain Frame-W - Silver, 46</td><td>364.0900</td></tr><tr><td>907</td><td>Rear Brakes</td><td>106.5000</td></tr><tr><td>910</td><td>HL Mountain Seat/Saddle</td><td>52.6400</td></tr><tr><td>913</td><td>HL Road Seat/Saddle</td><td>52.6400</td></tr><tr><td>916</td><td>HL Touring Seat/Saddle</td><td>52.6400</td></tr><tr><td>917</td><td>LL Mountain Frame - Silver, 42</td><td>264.0500</td></tr><tr><td>918</td><td>LL Mountain Frame - Silver, 44</td><td>264.0500</td></tr><tr><td>919</td><td>LL Mountain Frame - Silver, 48</td><td>264.0500</td></tr><tr><td>920</td><td>LL Mountain Frame - Silver, 52</td><td>264.0500</td></tr><tr><td>924</td><td>LL Mountain Frame - Black, 42</td><td>249.7900</td></tr><tr><td>925</td><td>LL Mountain Frame - Black, 44</td><td>249.7900</td></tr><tr><td>926</td><td>LL Mountain Frame - Black, 48</td><td>249.7900</td></tr><tr><td>927</td><td>LL Mountain Frame - Black, 52</td><td>249.7900</td></tr><tr><td>936</td><td>ML Mountain Pedal</td><td>62.0900</td></tr><tr><td>937</td><td>HL Mountain Pedal</td><td>80.9900</td></tr><tr><td>939</td><td>ML Road Pedal</td><td>62.0900</td></tr><tr><td>940</td><td>HL Road Pedal</td><td>80.9900</td></tr><tr><td>941</td><td>Touring Pedal</td><td>80.9900</td></tr><tr><td>942</td><td>ML Mountain Frame-W - Silver, 38</td><td>364.0900</td></tr><tr><td>943</td><td>LL Mountain Frame - Black, 40</td><td>249.7900</td></tr><tr><td>944</td><td>LL Mountain Frame - Silver, 40</td><td>264.0500</td></tr><tr><td>945</td><td>Front Derailleur</td><td>91.4900</td></tr><tr><td>947</td><td>HL Touring Handlebars</td><td>91.5700</td></tr><tr><td>948</td><td>Front Brakes</td><td>106.5000</td></tr><tr><td>949</td><td>LL Crankset</td><td>175.4900</td></tr><tr><td>950</td><td>ML Crankset</td><td>256.4900</td></tr><tr><td>951</td><td>HL Crankset</td><td>404.9900</td></tr><tr><td>953</td><td>Touring-2000 Blue, 60</td><td>1214.8500</td></tr><tr><td>954</td><td>Touring-1000 Yellow, 46</td><td>2384.0700</td></tr><tr><td>955</td><td>Touring-1000 Yellow, 50</td><td>2384.0700</td></tr><tr><td>956</td><td>Touring-1000 Yellow, 54</td><td>2384.0700</td></tr><tr><td>957</td><td>Touring-1000 Yellow, 60</td><td>2384.0700</td></tr><tr><td>958</td><td>Touring-3000 Blue, 54</td><td>742.3500</td></tr><tr><td>959</td><td>Touring-3000 Blue, 58</td><td>742.3500</td></tr><tr><td>960</td><td>Touring-3000 Blue, 62</td><td>742.3500</td></tr><tr><td>961</td><td>Touring-3000 Yellow, 44</td><td>742.3500</td></tr><tr><td>962</td><td>Touring-3000 Yellow, 50</td><td>742.3500</td></tr><tr><td>963</td><td>Touring-3000 Yellow, 54</td><td>742.3500</td></tr><tr><td>964</td><td>Touring-3000 Yellow, 58</td><td>742.3500</td></tr><tr><td>965</td><td>Touring-3000 Yellow, 62</td><td>742.3500</td></tr><tr><td>966</td><td>Touring-1000 Blue, 46</td><td>2384.0700</td></tr><tr><td>967</td><td>Touring-1000 Blue, 50</td><td>2384.0700</td></tr><tr><td>968</td><td>Touring-1000 Blue, 54</td><td>2384.0700</td></tr><tr><td>969</td><td>Touring-1000 Blue, 60</td><td>2384.0700</td></tr><tr><td>970</td><td>Touring-2000 Blue, 46</td><td>1214.8500</td></tr><tr><td>971</td><td>Touring-2000 Blue, 50</td><td>1214.8500</td></tr><tr><td>972</td><td>Touring-2000 Blue, 54</td><td>1214.8500</td></tr><tr><td>973</td><td>Road-350-W Yellow, 40</td><td>1700.9900</td></tr><tr><td>974</td><td>Road-350-W Yellow, 42</td><td>1700.9900</td></tr><tr><td>975</td><td>Road-350-W Yellow, 44</td><td>1700.9900</td></tr><tr><td>976</td><td>Road-350-W Yellow, 48</td><td>1700.9900</td></tr><tr><td>977</td><td>Road-750 Black, 58</td><td>539.9900</td></tr><tr><td>978</td><td>Touring-3000 Blue, 44</td><td>742.3500</td></tr><tr><td>979</td><td>Touring-3000 Blue, 50</td><td>742.3500</td></tr><tr><td>980</td><td>Mountain-400-W Silver, 38</td><td>769.4900</td></tr><tr><td>981</td><td>Mountain-400-W Silver, 40</td><td>769.4900</td></tr><tr><td>982</td><td>Mountain-400-W Silver, 42</td><td>769.4900</td></tr><tr><td>983</td><td>Mountain-400-W Silver, 46</td><td>769.4900</td></tr><tr><td>984</td><td>Mountain-500 Silver, 40</td><td>564.9900</td></tr><tr><td>985</td><td>Mountain-500 Silver, 42</td><td>564.9900</td></tr><tr><td>986</td><td>Mountain-500 Silver, 44</td><td>564.9900</td></tr><tr><td>987</td><td>Mountain-500 Silver, 48</td><td>564.9900</td></tr><tr><td>988</td><td>Mountain-500 Silver, 52</td><td>564.9900</td></tr><tr><td>989</td><td>Mountain-500 Black, 40</td><td>539.9900</td></tr><tr><td>990</td><td>Mountain-500 Black, 42</td><td>539.9900</td></tr><tr><td>991</td><td>Mountain-500 Black, 44</td><td>539.9900</td></tr><tr><td>992</td><td>Mountain-500 Black, 48</td><td>539.9900</td></tr><tr><td>993</td><td>Mountain-500 Black, 52</td><td>539.9900</td></tr><tr><td>994</td><td>LL Bottom Bracket</td><td>53.9900</td></tr><tr><td>995</td><td>ML Bottom Bracket</td><td>101.2400</td></tr><tr><td>996</td><td>HL Bottom Bracket</td><td>121.4900</td></tr><tr><td>997</td><td>Road-750 Black, 44</td><td>539.9900</td></tr><tr><td>998</td><td>Road-750 Black, 48</td><td>539.9900</td></tr><tr><td>999</td><td>Road-750 Black, 52</td><td>539.9900</td></tr></tbody></table></div>"
      ]
     },
     "metadata": {
      "application/vnd.databricks.v1+output": {
       "addedWidgets": {},
       "aggData": [],
       "aggError": "",
       "aggOverflow": false,
       "aggSchema": [],
       "aggSeriesLimitReached": false,
       "aggType": "",
       "arguments": {},
       "columnCustomDisplayInfos": {},
       "data": [
        [
         680,
         "HL Road Frame - Black, 58",
         "1431.5000"
        ],
        [
         706,
         "HL Road Frame - Red, 58",
         "1431.5000"
        ],
        [
         717,
         "HL Road Frame - Red, 62",
         "1431.5000"
        ],
        [
         718,
         "HL Road Frame - Red, 44",
         "1431.5000"
        ],
        [
         719,
         "HL Road Frame - Red, 48",
         "1431.5000"
        ],
        [
         720,
         "HL Road Frame - Red, 52",
         "1431.5000"
        ],
        [
         721,
         "HL Road Frame - Red, 56",
         "1431.5000"
        ],
        [
         722,
         "LL Road Frame - Black, 58",
         "337.2200"
        ],
        [
         723,
         "LL Road Frame - Black, 60",
         "337.2200"
        ],
        [
         724,
         "LL Road Frame - Black, 62",
         "337.2200"
        ],
        [
         725,
         "LL Road Frame - Red, 44",
         "337.2200"
        ],
        [
         726,
         "LL Road Frame - Red, 48",
         "337.2200"
        ],
        [
         727,
         "LL Road Frame - Red, 52",
         "337.2200"
        ],
        [
         728,
         "LL Road Frame - Red, 58",
         "337.2200"
        ],
        [
         729,
         "LL Road Frame - Red, 60",
         "337.2200"
        ],
        [
         730,
         "LL Road Frame - Red, 62",
         "337.2200"
        ],
        [
         731,
         "ML Road Frame - Red, 44",
         "594.8300"
        ],
        [
         732,
         "ML Road Frame - Red, 48",
         "594.8300"
        ],
        [
         733,
         "ML Road Frame - Red, 52",
         "594.8300"
        ],
        [
         734,
         "ML Road Frame - Red, 58",
         "594.8300"
        ],
        [
         735,
         "ML Road Frame - Red, 60",
         "594.8300"
        ],
        [
         736,
         "LL Road Frame - Black, 44",
         "337.2200"
        ],
        [
         737,
         "LL Road Frame - Black, 48",
         "337.2200"
        ],
        [
         738,
         "LL Road Frame - Black, 52",
         "337.2200"
        ],
        [
         739,
         "HL Mountain Frame - Silver, 42",
         "1364.5000"
        ],
        [
         740,
         "HL Mountain Frame - Silver, 44",
         "1364.5000"
        ],
        [
         741,
         "HL Mountain Frame - Silver, 48",
         "1364.5000"
        ],
        [
         742,
         "HL Mountain Frame - Silver, 46",
         "1364.5000"
        ],
        [
         743,
         "HL Mountain Frame - Black, 42",
         "1349.6000"
        ],
        [
         744,
         "HL Mountain Frame - Black, 44",
         "1349.6000"
        ],
        [
         745,
         "HL Mountain Frame - Black, 48",
         "1349.6000"
        ],
        [
         746,
         "HL Mountain Frame - Black, 46",
         "1349.6000"
        ],
        [
         747,
         "HL Mountain Frame - Black, 38",
         "1349.6000"
        ],
        [
         748,
         "HL Mountain Frame - Silver, 38",
         "1364.5000"
        ],
        [
         749,
         "Road-150 Red, 62",
         "3578.2700"
        ],
        [
         750,
         "Road-150 Red, 44",
         "3578.2700"
        ],
        [
         751,
         "Road-150 Red, 48",
         "3578.2700"
        ],
        [
         752,
         "Road-150 Red, 52",
         "3578.2700"
        ],
        [
         753,
         "Road-150 Red, 56",
         "3578.2700"
        ],
        [
         754,
         "Road-450 Red, 58",
         "1457.9900"
        ],
        [
         755,
         "Road-450 Red, 60",
         "1457.9900"
        ],
        [
         756,
         "Road-450 Red, 44",
         "1457.9900"
        ],
        [
         757,
         "Road-450 Red, 48",
         "1457.9900"
        ],
        [
         758,
         "Road-450 Red, 52",
         "1457.9900"
        ],
        [
         759,
         "Road-650 Red, 58",
         "782.9900"
        ],
        [
         760,
         "Road-650 Red, 60",
         "782.9900"
        ],
        [
         761,
         "Road-650 Red, 62",
         "782.9900"
        ],
        [
         762,
         "Road-650 Red, 44",
         "782.9900"
        ],
        [
         763,
         "Road-650 Red, 48",
         "782.9900"
        ],
        [
         764,
         "Road-650 Red, 52",
         "782.9900"
        ],
        [
         765,
         "Road-650 Black, 58",
         "782.9900"
        ],
        [
         766,
         "Road-650 Black, 60",
         "782.9900"
        ],
        [
         767,
         "Road-650 Black, 62",
         "782.9900"
        ],
        [
         768,
         "Road-650 Black, 44",
         "782.9900"
        ],
        [
         769,
         "Road-650 Black, 48",
         "782.9900"
        ],
        [
         770,
         "Road-650 Black, 52",
         "782.9900"
        ],
        [
         771,
         "Mountain-100 Silver, 38",
         "3399.9900"
        ],
        [
         772,
         "Mountain-100 Silver, 42",
         "3399.9900"
        ],
        [
         773,
         "Mountain-100 Silver, 44",
         "3399.9900"
        ],
        [
         774,
         "Mountain-100 Silver, 48",
         "3399.9900"
        ],
        [
         775,
         "Mountain-100 Black, 38",
         "3374.9900"
        ],
        [
         776,
         "Mountain-100 Black, 42",
         "3374.9900"
        ],
        [
         777,
         "Mountain-100 Black, 44",
         "3374.9900"
        ],
        [
         778,
         "Mountain-100 Black, 48",
         "3374.9900"
        ],
        [
         779,
         "Mountain-200 Silver, 38",
         "2319.9900"
        ],
        [
         780,
         "Mountain-200 Silver, 42",
         "2319.9900"
        ],
        [
         781,
         "Mountain-200 Silver, 46",
         "2319.9900"
        ],
        [
         782,
         "Mountain-200 Black, 38",
         "2294.9900"
        ],
        [
         783,
         "Mountain-200 Black, 42",
         "2294.9900"
        ],
        [
         784,
         "Mountain-200 Black, 46",
         "2294.9900"
        ],
        [
         785,
         "Mountain-300 Black, 38",
         "1079.9900"
        ],
        [
         786,
         "Mountain-300 Black, 40",
         "1079.9900"
        ],
        [
         787,
         "Mountain-300 Black, 44",
         "1079.9900"
        ],
        [
         788,
         "Mountain-300 Black, 48",
         "1079.9900"
        ],
        [
         789,
         "Road-250 Red, 44",
         "2443.3500"
        ],
        [
         790,
         "Road-250 Red, 48",
         "2443.3500"
        ],
        [
         791,
         "Road-250 Red, 52",
         "2443.3500"
        ],
        [
         792,
         "Road-250 Red, 58",
         "2443.3500"
        ],
        [
         793,
         "Road-250 Black, 44",
         "2443.3500"
        ],
        [
         794,
         "Road-250 Black, 48",
         "2443.3500"
        ],
        [
         795,
         "Road-250 Black, 52",
         "2443.3500"
        ],
        [
         796,
         "Road-250 Black, 58",
         "2443.3500"
        ],
        [
         797,
         "Road-550-W Yellow, 38",
         "1120.4900"
        ],
        [
         798,
         "Road-550-W Yellow, 40",
         "1120.4900"
        ],
        [
         799,
         "Road-550-W Yellow, 42",
         "1120.4900"
        ],
        [
         800,
         "Road-550-W Yellow, 44",
         "1120.4900"
        ],
        [
         801,
         "Road-550-W Yellow, 48",
         "1120.4900"
        ],
        [
         802,
         "LL Fork",
         "148.2200"
        ],
        [
         803,
         "ML Fork",
         "175.4900"
        ],
        [
         804,
         "HL Fork",
         "229.4900"
        ],
        [
         806,
         "ML Headset",
         "102.2900"
        ],
        [
         807,
         "HL Headset",
         "124.7300"
        ],
        [
         809,
         "ML Mountain Handlebars",
         "61.9200"
        ],
        [
         810,
         "HL Mountain Handlebars",
         "120.2700"
        ],
        [
         812,
         "ML Road Handlebars",
         "61.9200"
        ],
        [
         813,
         "HL Road Handlebars",
         "120.2700"
        ],
        [
         814,
         "ML Mountain Frame - Black, 38",
         "348.7600"
        ],
        [
         815,
         "LL Mountain Front Wheel",
         "60.7450"
        ],
        [
         816,
         "ML Mountain Front Wheel",
         "209.0250"
        ],
        [
         817,
         "HL Mountain Front Wheel",
         "300.2150"
        ],
        [
         818,
         "LL Road Front Wheel",
         "85.5650"
        ],
        [
         819,
         "ML Road Front Wheel",
         "248.3850"
        ],
        [
         820,
         "HL Road Front Wheel",
         "330.0600"
        ],
        [
         821,
         "Touring Front Wheel",
         "218.0100"
        ],
        [
         822,
         "ML Road Frame-W - Yellow, 38",
         "594.8300"
        ],
        [
         823,
         "LL Mountain Rear Wheel",
         "87.7450"
        ],
        [
         824,
         "ML Mountain Rear Wheel",
         "236.0250"
        ],
        [
         825,
         "HL Mountain Rear Wheel",
         "327.2150"
        ],
        [
         826,
         "LL Road Rear Wheel",
         "112.5650"
        ],
        [
         827,
         "ML Road Rear Wheel",
         "275.3850"
        ],
        [
         828,
         "HL Road Rear Wheel",
         "357.0600"
        ],
        [
         829,
         "Touring Rear Wheel",
         "245.0100"
        ],
        [
         830,
         "ML Mountain Frame - Black, 40",
         "348.7600"
        ],
        [
         831,
         "ML Mountain Frame - Black, 44",
         "348.7600"
        ],
        [
         832,
         "ML Mountain Frame - Black, 48",
         "348.7600"
        ],
        [
         833,
         "ML Road Frame-W - Yellow, 40",
         "594.8300"
        ],
        [
         834,
         "ML Road Frame-W - Yellow, 42",
         "594.8300"
        ],
        [
         835,
         "ML Road Frame-W - Yellow, 44",
         "594.8300"
        ],
        [
         836,
         "ML Road Frame-W - Yellow, 48",
         "594.8300"
        ],
        [
         837,
         "HL Road Frame - Black, 62",
         "1431.5000"
        ],
        [
         838,
         "HL Road Frame - Black, 44",
         "1431.5000"
        ],
        [
         839,
         "HL Road Frame - Black, 48",
         "1431.5000"
        ],
        [
         840,
         "HL Road Frame - Black, 52",
         "1431.5000"
        ],
        [
         841,
         "Men's Sports Shorts, S",
         "59.9900"
        ],
        [
         842,
         "Touring-Panniers, Large",
         "125.0000"
        ],
        [
         849,
         "Men's Sports Shorts, M",
         "59.9900"
        ],
        [
         850,
         "Men's Sports Shorts, L",
         "59.9900"
        ],
        [
         851,
         "Men's Sports Shorts, XL",
         "59.9900"
        ],
        [
         852,
         "Women's Tights, S",
         "74.9900"
        ],
        [
         853,
         "Women's Tights, M",
         "74.9900"
        ],
        [
         854,
         "Women's Tights, L",
         "74.9900"
        ],
        [
         855,
         "Men's Bib-Shorts, S",
         "89.9900"
        ],
        [
         856,
         "Men's Bib-Shorts, M",
         "89.9900"
        ],
        [
         857,
         "Men's Bib-Shorts, L",
         "89.9900"
        ],
        [
         864,
         "Classic Vest, S",
         "63.5000"
        ],
        [
         865,
         "Classic Vest, M",
         "63.5000"
        ],
        [
         866,
         "Classic Vest, L",
         "63.5000"
        ],
        [
         867,
         "Women's Mountain Shorts, S",
         "69.9900"
        ],
        [
         868,
         "Women's Mountain Shorts, M",
         "69.9900"
        ],
        [
         869,
         "Women's Mountain Shorts, L",
         "69.9900"
        ],
        [
         876,
         "Hitch Rack - 4-Bike",
         "120.0000"
        ],
        [
         879,
         "All-Purpose Bike Stand",
         "159.0000"
        ],
        [
         880,
         "Hydration Pack - 70 oz.",
         "54.9900"
        ],
        [
         881,
         "Short-Sleeve Classic Jersey, S",
         "53.9900"
        ],
        [
         882,
         "Short-Sleeve Classic Jersey, M",
         "53.9900"
        ],
        [
         883,
         "Short-Sleeve Classic Jersey, L",
         "53.9900"
        ],
        [
         884,
         "Short-Sleeve Classic Jersey, XL",
         "53.9900"
        ],
        [
         885,
         "HL Touring Frame - Yellow, 60",
         "1003.9100"
        ],
        [
         886,
         "LL Touring Frame - Yellow, 62",
         "333.4200"
        ],
        [
         887,
         "HL Touring Frame - Yellow, 46",
         "1003.9100"
        ],
        [
         888,
         "HL Touring Frame - Yellow, 50",
         "1003.9100"
        ],
        [
         889,
         "HL Touring Frame - Yellow, 54",
         "1003.9100"
        ],
        [
         890,
         "HL Touring Frame - Blue, 46",
         "1003.9100"
        ],
        [
         891,
         "HL Touring Frame - Blue, 50",
         "1003.9100"
        ],
        [
         892,
         "HL Touring Frame - Blue, 54",
         "1003.9100"
        ],
        [
         893,
         "HL Touring Frame - Blue, 60",
         "1003.9100"
        ],
        [
         894,
         "Rear Derailleur",
         "121.4600"
        ],
        [
         895,
         "LL Touring Frame - Blue, 50",
         "333.4200"
        ],
        [
         896,
         "LL Touring Frame - Blue, 54",
         "333.4200"
        ],
        [
         897,
         "LL Touring Frame - Blue, 58",
         "333.4200"
        ],
        [
         898,
         "LL Touring Frame - Blue, 62",
         "333.4200"
        ],
        [
         899,
         "LL Touring Frame - Yellow, 44",
         "333.4200"
        ],
        [
         900,
         "LL Touring Frame - Yellow, 50",
         "333.4200"
        ],
        [
         901,
         "LL Touring Frame - Yellow, 54",
         "333.4200"
        ],
        [
         902,
         "LL Touring Frame - Yellow, 58",
         "333.4200"
        ],
        [
         903,
         "LL Touring Frame - Blue, 44",
         "333.4200"
        ],
        [
         904,
         "ML Mountain Frame-W - Silver, 40",
         "364.0900"
        ],
        [
         905,
         "ML Mountain Frame-W - Silver, 42",
         "364.0900"
        ],
        [
         906,
         "ML Mountain Frame-W - Silver, 46",
         "364.0900"
        ],
        [
         907,
         "Rear Brakes",
         "106.5000"
        ],
        [
         910,
         "HL Mountain Seat/Saddle",
         "52.6400"
        ],
        [
         913,
         "HL Road Seat/Saddle",
         "52.6400"
        ],
        [
         916,
         "HL Touring Seat/Saddle",
         "52.6400"
        ],
        [
         917,
         "LL Mountain Frame - Silver, 42",
         "264.0500"
        ],
        [
         918,
         "LL Mountain Frame - Silver, 44",
         "264.0500"
        ],
        [
         919,
         "LL Mountain Frame - Silver, 48",
         "264.0500"
        ],
        [
         920,
         "LL Mountain Frame - Silver, 52",
         "264.0500"
        ],
        [
         924,
         "LL Mountain Frame - Black, 42",
         "249.7900"
        ],
        [
         925,
         "LL Mountain Frame - Black, 44",
         "249.7900"
        ],
        [
         926,
         "LL Mountain Frame - Black, 48",
         "249.7900"
        ],
        [
         927,
         "LL Mountain Frame - Black, 52",
         "249.7900"
        ],
        [
         936,
         "ML Mountain Pedal",
         "62.0900"
        ],
        [
         937,
         "HL Mountain Pedal",
         "80.9900"
        ],
        [
         939,
         "ML Road Pedal",
         "62.0900"
        ],
        [
         940,
         "HL Road Pedal",
         "80.9900"
        ],
        [
         941,
         "Touring Pedal",
         "80.9900"
        ],
        [
         942,
         "ML Mountain Frame-W - Silver, 38",
         "364.0900"
        ],
        [
         943,
         "LL Mountain Frame - Black, 40",
         "249.7900"
        ],
        [
         944,
         "LL Mountain Frame - Silver, 40",
         "264.0500"
        ],
        [
         945,
         "Front Derailleur",
         "91.4900"
        ],
        [
         947,
         "HL Touring Handlebars",
         "91.5700"
        ],
        [
         948,
         "Front Brakes",
         "106.5000"
        ],
        [
         949,
         "LL Crankset",
         "175.4900"
        ],
        [
         950,
         "ML Crankset",
         "256.4900"
        ],
        [
         951,
         "HL Crankset",
         "404.9900"
        ],
        [
         953,
         "Touring-2000 Blue, 60",
         "1214.8500"
        ],
        [
         954,
         "Touring-1000 Yellow, 46",
         "2384.0700"
        ],
        [
         955,
         "Touring-1000 Yellow, 50",
         "2384.0700"
        ],
        [
         956,
         "Touring-1000 Yellow, 54",
         "2384.0700"
        ],
        [
         957,
         "Touring-1000 Yellow, 60",
         "2384.0700"
        ],
        [
         958,
         "Touring-3000 Blue, 54",
         "742.3500"
        ],
        [
         959,
         "Touring-3000 Blue, 58",
         "742.3500"
        ],
        [
         960,
         "Touring-3000 Blue, 62",
         "742.3500"
        ],
        [
         961,
         "Touring-3000 Yellow, 44",
         "742.3500"
        ],
        [
         962,
         "Touring-3000 Yellow, 50",
         "742.3500"
        ],
        [
         963,
         "Touring-3000 Yellow, 54",
         "742.3500"
        ],
        [
         964,
         "Touring-3000 Yellow, 58",
         "742.3500"
        ],
        [
         965,
         "Touring-3000 Yellow, 62",
         "742.3500"
        ],
        [
         966,
         "Touring-1000 Blue, 46",
         "2384.0700"
        ],
        [
         967,
         "Touring-1000 Blue, 50",
         "2384.0700"
        ],
        [
         968,
         "Touring-1000 Blue, 54",
         "2384.0700"
        ],
        [
         969,
         "Touring-1000 Blue, 60",
         "2384.0700"
        ],
        [
         970,
         "Touring-2000 Blue, 46",
         "1214.8500"
        ],
        [
         971,
         "Touring-2000 Blue, 50",
         "1214.8500"
        ],
        [
         972,
         "Touring-2000 Blue, 54",
         "1214.8500"
        ],
        [
         973,
         "Road-350-W Yellow, 40",
         "1700.9900"
        ],
        [
         974,
         "Road-350-W Yellow, 42",
         "1700.9900"
        ],
        [
         975,
         "Road-350-W Yellow, 44",
         "1700.9900"
        ],
        [
         976,
         "Road-350-W Yellow, 48",
         "1700.9900"
        ],
        [
         977,
         "Road-750 Black, 58",
         "539.9900"
        ],
        [
         978,
         "Touring-3000 Blue, 44",
         "742.3500"
        ],
        [
         979,
         "Touring-3000 Blue, 50",
         "742.3500"
        ],
        [
         980,
         "Mountain-400-W Silver, 38",
         "769.4900"
        ],
        [
         981,
         "Mountain-400-W Silver, 40",
         "769.4900"
        ],
        [
         982,
         "Mountain-400-W Silver, 42",
         "769.4900"
        ],
        [
         983,
         "Mountain-400-W Silver, 46",
         "769.4900"
        ],
        [
         984,
         "Mountain-500 Silver, 40",
         "564.9900"
        ],
        [
         985,
         "Mountain-500 Silver, 42",
         "564.9900"
        ],
        [
         986,
         "Mountain-500 Silver, 44",
         "564.9900"
        ],
        [
         987,
         "Mountain-500 Silver, 48",
         "564.9900"
        ],
        [
         988,
         "Mountain-500 Silver, 52",
         "564.9900"
        ],
        [
         989,
         "Mountain-500 Black, 40",
         "539.9900"
        ],
        [
         990,
         "Mountain-500 Black, 42",
         "539.9900"
        ],
        [
         991,
         "Mountain-500 Black, 44",
         "539.9900"
        ],
        [
         992,
         "Mountain-500 Black, 48",
         "539.9900"
        ],
        [
         993,
         "Mountain-500 Black, 52",
         "539.9900"
        ],
        [
         994,
         "LL Bottom Bracket",
         "53.9900"
        ],
        [
         995,
         "ML Bottom Bracket",
         "101.2400"
        ],
        [
         996,
         "HL Bottom Bracket",
         "121.4900"
        ],
        [
         997,
         "Road-750 Black, 44",
         "539.9900"
        ],
        [
         998,
         "Road-750 Black, 48",
         "539.9900"
        ],
        [
         999,
         "Road-750 Black, 52",
         "539.9900"
        ]
       ],
       "datasetInfos": [],
       "dbfsResultPath": null,
       "isJsonSchema": true,
       "metadata": {},
       "overflow": false,
       "plotOptions": {
        "customPlotOptions": {},
        "displayType": "table",
        "pivotAggregation": null,
        "pivotColumns": null,
        "xColumns": null,
        "yColumns": null
       },
       "removedWidgets": [],
       "schema": [
        {
         "metadata": "{\"scale\":0}",
         "name": "ProductID",
         "type": "\"integer\""
        },
        {
         "metadata": "{\"scale\":0}",
         "name": "Name",
         "type": "\"string\""
        },
        {
         "metadata": "{\"scale\":4}",
         "name": "ListPrice",
         "type": "\"decimal(19,4)\""
        }
       ],
       "type": "table"
      }
     },
     "output_type": "display_data"
    }
   ],
   "source": [
    "%sql\n",
    "SELECT ProductID, Name, ListPrice \n",
    "FROM precios_mayores\n",
    "WHERE listPrice > 50;"
   ]
  },
  {
   "cell_type": "markdown",
   "metadata": {
    "application/vnd.databricks.v1+cell": {
     "cellMetadata": {},
     "inputWidgets": {},
     "nuid": "d2af606f-66d4-4383-8fd8-6bde320aa676",
     "showTitle": false,
     "tableResultSettingsMap": {},
     "title": ""
    }
   },
   "source": [
    "## 3. Contar productos por categoría. "
   ]
  },
  {
   "cell_type": "code",
   "execution_count": 0,
   "metadata": {
    "application/vnd.databricks.v1+cell": {
     "cellMetadata": {
      "byteLimit": 2048000,
      "implicitDf": true,
      "rowLimit": 10000
     },
     "inputWidgets": {},
     "nuid": "af98cf8a-b1b3-4ce0-b1e9-78a2d9ba7b93",
     "showTitle": false,
     "tableResultSettingsMap": {},
     "title": ""
    }
   },
   "outputs": [
    {
     "output_type": "display_data",
     "data": {
      "text/html": [
       "<style scoped>\n",
       "  .table-result-container {\n",
       "    max-height: 300px;\n",
       "    overflow: auto;\n",
       "  }\n",
       "  table, th, td {\n",
       "    border: 1px solid black;\n",
       "    border-collapse: collapse;\n",
       "  }\n",
       "  th, td {\n",
       "    padding: 5px;\n",
       "  }\n",
       "  th {\n",
       "    text-align: left;\n",
       "  }\n",
       "</style><div class='table-result-container'><table class='table-result'><thead style='background-color: white'><tr><th>ProductCategoryID</th><th>count(1)</th></tr></thead><tbody><tr><td>31</td><td>1</td></tr><tr><td>34</td><td>1</td></tr><tr><td>28</td><td>3</td></tr><tr><td>27</td><td>4</td></tr><tr><td>26</td><td>7</td></tr><tr><td>12</td><td>3</td></tr><tr><td>22</td><td>3</td></tr><tr><td>13</td><td>2</td></tr><tr><td>16</td><td>28</td></tr><tr><td>6</td><td>43</td></tr><tr><td>40</td><td>2</td></tr><tr><td>20</td><td>18</td></tr><tr><td>5</td><td>32</td></tr><tr><td>19</td><td>9</td></tr><tr><td>41</td><td>11</td></tr><tr><td>15</td><td>3</td></tr><tr><td>37</td><td>3</td></tr><tr><td>17</td><td>7</td></tr><tr><td>9</td><td>3</td></tr><tr><td>35</td><td>3</td></tr><tr><td>8</td><td>8</td></tr><tr><td>23</td><td>1</td></tr><tr><td>39</td><td>1</td></tr><tr><td>7</td><td>22</td></tr><tr><td>10</td><td>2</td></tr><tr><td>38</td><td>1</td></tr><tr><td>25</td><td>8</td></tr><tr><td>24</td><td>6</td></tr><tr><td>29</td><td>3</td></tr><tr><td>21</td><td>14</td></tr><tr><td>32</td><td>3</td></tr><tr><td>33</td><td>1</td></tr><tr><td>11</td><td>1</td></tr><tr><td>14</td><td>3</td></tr><tr><td>30</td><td>1</td></tr><tr><td>18</td><td>33</td></tr><tr><td>36</td><td>1</td></tr></tbody></table></div>"
      ]
     },
     "metadata": {
      "application/vnd.databricks.v1+output": {
       "addedWidgets": {},
       "aggData": [],
       "aggError": "",
       "aggOverflow": false,
       "aggSchema": [],
       "aggSeriesLimitReached": false,
       "aggType": "",
       "arguments": {},
       "columnCustomDisplayInfos": {},
       "data": [
        [
         31,
         1
        ],
        [
         34,
         1
        ],
        [
         28,
         3
        ],
        [
         27,
         4
        ],
        [
         26,
         7
        ],
        [
         12,
         3
        ],
        [
         22,
         3
        ],
        [
         13,
         2
        ],
        [
         16,
         28
        ],
        [
         6,
         43
        ],
        [
         40,
         2
        ],
        [
         20,
         18
        ],
        [
         5,
         32
        ],
        [
         19,
         9
        ],
        [
         41,
         11
        ],
        [
         15,
         3
        ],
        [
         37,
         3
        ],
        [
         17,
         7
        ],
        [
         9,
         3
        ],
        [
         35,
         3
        ],
        [
         8,
         8
        ],
        [
         23,
         1
        ],
        [
         39,
         1
        ],
        [
         7,
         22
        ],
        [
         10,
         2
        ],
        [
         38,
         1
        ],
        [
         25,
         8
        ],
        [
         24,
         6
        ],
        [
         29,
         3
        ],
        [
         21,
         14
        ],
        [
         32,
         3
        ],
        [
         33,
         1
        ],
        [
         11,
         1
        ],
        [
         14,
         3
        ],
        [
         30,
         1
        ],
        [
         18,
         33
        ],
        [
         36,
         1
        ]
       ],
       "datasetInfos": [],
       "dbfsResultPath": null,
       "isJsonSchema": true,
       "metadata": {},
       "overflow": false,
       "plotOptions": {
        "customPlotOptions": {},
        "displayType": "table",
        "pivotAggregation": null,
        "pivotColumns": null,
        "xColumns": null,
        "yColumns": null
       },
       "removedWidgets": [],
       "schema": [
        {
         "metadata": "{\"scale\":0}",
         "name": "ProductCategoryID",
         "type": "\"integer\""
        },
        {
         "metadata": "{\"__autoGeneratedAlias\":\"true\"}",
         "name": "count(1)",
         "type": "\"long\""
        }
       ],
       "type": "table"
      }
     },
     "output_type": "display_data"
    }
   ],
   "source": [
    "%sql\n",
    "SELECT ProductCategoryID, COUNT(*)\n",
    "FROM precios_mayores\n",
    "GROUP BY ProductCategoryID;"
   ]
  },
  {
   "cell_type": "markdown",
   "metadata": {
    "application/vnd.databricks.v1+cell": {
     "cellMetadata": {},
     "inputWidgets": {},
     "nuid": "13b5598e-d484-4f91-a584-c4b10607ec2c",
     "showTitle": false,
     "tableResultSettingsMap": {},
     "title": ""
    }
   },
   "source": [
    "## Contar el total de productos por tamaño."
   ]
  },
  {
   "cell_type": "code",
   "execution_count": 0,
   "metadata": {
    "application/vnd.databricks.v1+cell": {
     "cellMetadata": {
      "byteLimit": 2048000,
      "implicitDf": true,
      "rowLimit": 10000
     },
     "inputWidgets": {},
     "nuid": "2a9913c2-744f-4b45-b260-4108d4472ffb",
     "showTitle": false,
     "tableResultSettingsMap": {},
     "title": ""
    }
   },
   "outputs": [
    {
     "output_type": "display_data",
     "data": {
      "text/html": [
       "<style scoped>\n",
       "  .table-result-container {\n",
       "    max-height: 300px;\n",
       "    overflow: auto;\n",
       "  }\n",
       "  table, th, td {\n",
       "    border: 1px solid black;\n",
       "    border-collapse: collapse;\n",
       "  }\n",
       "  th, td {\n",
       "    padding: 5px;\n",
       "  }\n",
       "  th {\n",
       "    text-align: left;\n",
       "  }\n",
       "</style><div class='table-result-container'><table class='table-result'><thead style='background-color: white'><tr><th>Size</th><th>count</th></tr></thead><tbody><tr><td>null</td><td>84</td></tr><tr><td>44</td><td>29</td></tr><tr><td>48</td><td>25</td></tr><tr><td>52</td><td>16</td></tr><tr><td>42</td><td>15</td></tr><tr><td>58</td><td>15</td></tr><tr><td>38</td><td>12</td></tr><tr><td>46</td><td>11</td></tr><tr><td>M</td><td>11</td></tr><tr><td>L</td><td>11</td></tr><tr><td>60</td><td>11</td></tr><tr><td>40</td><td>11</td></tr><tr><td>62</td><td>11</td></tr><tr><td>54</td><td>9</td></tr><tr><td>S</td><td>9</td></tr><tr><td>50</td><td>9</td></tr><tr><td>XL</td><td>3</td></tr><tr><td>56</td><td>2</td></tr><tr><td>70</td><td>1</td></tr></tbody></table></div>"
      ]
     },
     "metadata": {
      "application/vnd.databricks.v1+output": {
       "addedWidgets": {},
       "aggData": [],
       "aggError": "",
       "aggOverflow": false,
       "aggSchema": [],
       "aggSeriesLimitReached": false,
       "aggType": "",
       "arguments": {},
       "columnCustomDisplayInfos": {},
       "data": [
        [
         null,
         84
        ],
        [
         "44",
         29
        ],
        [
         "48",
         25
        ],
        [
         "52",
         16
        ],
        [
         "42",
         15
        ],
        [
         "58",
         15
        ],
        [
         "38",
         12
        ],
        [
         "46",
         11
        ],
        [
         "M",
         11
        ],
        [
         "L",
         11
        ],
        [
         "60",
         11
        ],
        [
         "40",
         11
        ],
        [
         "62",
         11
        ],
        [
         "54",
         9
        ],
        [
         "S",
         9
        ],
        [
         "50",
         9
        ],
        [
         "XL",
         3
        ],
        [
         "56",
         2
        ],
        [
         "70",
         1
        ]
       ],
       "datasetInfos": [],
       "dbfsResultPath": null,
       "isJsonSchema": true,
       "metadata": {},
       "overflow": false,
       "plotOptions": {
        "customPlotOptions": {},
        "displayType": "table",
        "pivotAggregation": null,
        "pivotColumns": null,
        "xColumns": null,
        "yColumns": null
       },
       "removedWidgets": [],
       "schema": [
        {
         "metadata": "{\"scale\":0}",
         "name": "Size",
         "type": "\"string\""
        },
        {
         "metadata": "{}",
         "name": "count",
         "type": "\"long\""
        }
       ],
       "type": "table"
      }
     },
     "output_type": "display_data"
    }
   ],
   "source": [
    "%sql\n",
    "SELECT Size, COUNT(*) AS count\n",
    "FROM precios_mayores\n",
    "GROUP BY Size\n",
    "ORDER BY count DESC;"
   ]
  },
  {
   "cell_type": "markdown",
   "metadata": {
    "application/vnd.databricks.v1+cell": {
     "cellMetadata": {},
     "inputWidgets": {},
     "nuid": "e1be6649-4ec0-4db4-a56c-b13406211e7b",
     "showTitle": false,
     "tableResultSettingsMap": {},
     "title": ""
    }
   },
   "source": [
    "## 6. Calcular el precio promedio de los productos.\n"
   ]
  },
  {
   "cell_type": "code",
   "execution_count": 0,
   "metadata": {
    "application/vnd.databricks.v1+cell": {
     "cellMetadata": {
      "byteLimit": 2048000,
      "implicitDf": true,
      "rowLimit": 10000
     },
     "inputWidgets": {},
     "nuid": "ded05596-cd90-4c5d-8b61-3dff8605f855",
     "showTitle": false,
     "tableResultSettingsMap": {},
     "title": ""
    }
   },
   "outputs": [
    {
     "output_type": "display_data",
     "data": {
      "text/html": [
       "<style scoped>\n",
       "  .table-result-container {\n",
       "    max-height: 300px;\n",
       "    overflow: auto;\n",
       "  }\n",
       "  table, th, td {\n",
       "    border: 1px solid black;\n",
       "    border-collapse: collapse;\n",
       "  }\n",
       "  th, td {\n",
       "    padding: 5px;\n",
       "  }\n",
       "  th {\n",
       "    text-align: left;\n",
       "  }\n",
       "</style><div class='table-result-container'><table class='table-result'><thead style='background-color: white'><tr><th>avg(ListPrice)</th></tr></thead><tbody><tr><td>744.59522034</td></tr></tbody></table></div>"
      ]
     },
     "metadata": {
      "application/vnd.databricks.v1+output": {
       "addedWidgets": {},
       "aggData": [],
       "aggError": "",
       "aggOverflow": false,
       "aggSchema": [],
       "aggSeriesLimitReached": false,
       "aggType": "",
       "arguments": {},
       "columnCustomDisplayInfos": {},
       "data": [
        [
         "744.59522034"
        ]
       ],
       "datasetInfos": [],
       "dbfsResultPath": null,
       "isJsonSchema": true,
       "metadata": {},
       "overflow": false,
       "plotOptions": {
        "customPlotOptions": {},
        "displayType": "table",
        "pivotAggregation": null,
        "pivotColumns": null,
        "xColumns": null,
        "yColumns": null
       },
       "removedWidgets": [],
       "schema": [
        {
         "metadata": "{\"__autoGeneratedAlias\":\"true\"}",
         "name": "avg(ListPrice)",
         "type": "\"decimal(23,8)\""
        }
       ],
       "type": "table"
      }
     },
     "output_type": "display_data"
    }
   ],
   "source": [
    "%sql\n",
    "SELECT AVG(ListPrice)\n",
    "FROM precios_mayores"
   ]
  },
  {
   "cell_type": "code",
   "execution_count": 0,
   "metadata": {
    "application/vnd.databricks.v1+cell": {
     "cellMetadata": {
      "byteLimit": 2048000,
      "implicitDf": true,
      "rowLimit": 10000
     },
     "inputWidgets": {},
     "nuid": "d6a90536-aa9e-4003-8323-fb63e3f5ee9b",
     "showTitle": false,
     "tableResultSettingsMap": {},
     "title": ""
    }
   },
   "outputs": [
    {
     "output_type": "display_data",
     "data": {
      "text/html": [
       "<style scoped>\n",
       "  .table-result-container {\n",
       "    max-height: 300px;\n",
       "    overflow: auto;\n",
       "  }\n",
       "  table, th, td {\n",
       "    border: 1px solid black;\n",
       "    border-collapse: collapse;\n",
       "  }\n",
       "  th, td {\n",
       "    padding: 5px;\n",
       "  }\n",
       "  th {\n",
       "    text-align: left;\n",
       "  }\n",
       "</style><div class='table-result-container'><table class='table-result'><thead style='background-color: white'><tr><th>Name</th><th>avg(ListPrice)</th></tr></thead><tbody><tr><td>Touring-3000 Blue, 62</td><td>742.35000000</td></tr><tr><td>ML Mountain Handlebars</td><td>61.92000000</td></tr><tr><td>Touring-1000 Blue, 46</td><td>2384.07000000</td></tr><tr><td>Touring-2000 Blue, 46</td><td>1214.85000000</td></tr><tr><td>Hydration Pack - 70 oz.</td><td>54.99000000</td></tr><tr><td>Mountain-200 Black, 46</td><td>2294.99000000</td></tr><tr><td>HL Touring Frame - Yellow, 60</td><td>1003.91000000</td></tr><tr><td>LL Touring Frame - Blue, 50</td><td>333.42000000</td></tr><tr><td>Road-650 Red, 58</td><td>782.99000000</td></tr><tr><td>HL Bottom Bracket</td><td>121.49000000</td></tr><tr><td>Mountain-100 Silver, 38</td><td>3399.99000000</td></tr><tr><td>ML Mountain Frame - Black, 48</td><td>348.76000000</td></tr><tr><td>HL Mountain Frame - Black, 38</td><td>1349.60000000</td></tr><tr><td>LL Touring Frame - Yellow, 44</td><td>333.42000000</td></tr><tr><td>Mountain-500 Silver, 48</td><td>564.99000000</td></tr><tr><td>HL Road Frame - Red, 52</td><td>1431.50000000</td></tr><tr><td>LL Headset</td><td>34.20000000</td></tr><tr><td>Cable Lock</td><td>25.00000000</td></tr><tr><td>HL Road Seat/Saddle</td><td>52.64000000</td></tr><tr><td>ML Crankset</td><td>256.49000000</td></tr><tr><td>ML Mountain Frame - Black, 38</td><td>348.76000000</td></tr><tr><td>Mountain-500 Silver, 44</td><td>564.99000000</td></tr><tr><td>Road-450 Red, 52</td><td>1457.99000000</td></tr><tr><td>Mountain-100 Black, 48</td><td>3374.99000000</td></tr><tr><td>Road-550-W Yellow, 48</td><td>1120.49000000</td></tr><tr><td>LL Mountain Frame - Silver, 48</td><td>264.05000000</td></tr><tr><td>Road-550-W Yellow, 44</td><td>1120.49000000</td></tr><tr><td>HL Touring Frame - Blue, 54</td><td>1003.91000000</td></tr><tr><td>AWC Logo Cap</td><td>8.99000000</td></tr><tr><td>ML Road Frame-W - Yellow, 38</td><td>594.83000000</td></tr><tr><td>HL Road Frame - Red, 58</td><td>1431.50000000</td></tr><tr><td>Road-650 Red, 52</td><td>782.99000000</td></tr><tr><td>HL Mountain Frame - Black, 42</td><td>1349.60000000</td></tr><tr><td>Road-250 Black, 48</td><td>2443.35000000</td></tr><tr><td>Long-Sleeve Logo Jersey, S</td><td>49.99000000</td></tr><tr><td>HL Road Frame - Red, 56</td><td>1431.50000000</td></tr><tr><td>LL Road Frame - Black, 52</td><td>337.22000000</td></tr><tr><td>HL Mountain Front Wheel</td><td>300.21500000</td></tr><tr><td>Mountain Bike Socks, M</td><td>9.50000000</td></tr><tr><td>Men's Sports Shorts, L</td><td>59.99000000</td></tr><tr><td>Women's Tights, M</td><td>74.99000000</td></tr><tr><td>LL Touring Frame - Yellow, 50</td><td>333.42000000</td></tr><tr><td>Mountain-100 Silver, 42</td><td>3399.99000000</td></tr><tr><td>ML Fork</td><td>175.49000000</td></tr><tr><td>ML Touring Seat/Saddle</td><td>39.14000000</td></tr><tr><td>Touring-1000 Yellow, 46</td><td>2384.07000000</td></tr><tr><td>Women's Tights, S</td><td>74.99000000</td></tr><tr><td>Mountain-400-W Silver, 40</td><td>769.49000000</td></tr><tr><td>ML Road Front Wheel</td><td>248.38500000</td></tr><tr><td>LL Road Frame - Red, 62</td><td>337.22000000</td></tr><tr><td>Road-650 Red, 62</td><td>782.99000000</td></tr><tr><td>Racing Socks, M</td><td>8.99000000</td></tr><tr><td>LL Road Frame - Black, 60</td><td>337.22000000</td></tr><tr><td>Touring-3000 Yellow, 44</td><td>742.35000000</td></tr><tr><td>Mountain-300 Black, 44</td><td>1079.99000000</td></tr><tr><td>LL Mountain Frame - Black, 52</td><td>249.79000000</td></tr><tr><td>LL Road Tire</td><td>21.49000000</td></tr><tr><td>Mountain-500 Black, 40</td><td>539.99000000</td></tr><tr><td>Full-Finger Gloves, M</td><td>37.99000000</td></tr><tr><td>Front Brakes</td><td>106.50000000</td></tr><tr><td>ML Road Frame-W - Yellow, 42</td><td>594.83000000</td></tr><tr><td>LL Fork</td><td>148.22000000</td></tr><tr><td>LL Road Frame - Black, 62</td><td>337.22000000</td></tr><tr><td>HL Mountain Frame - Silver, 38</td><td>1364.50000000</td></tr><tr><td>Half-Finger Gloves, L</td><td>24.49000000</td></tr><tr><td>Touring-3000 Yellow, 58</td><td>742.35000000</td></tr><tr><td>Mountain Pump</td><td>24.99000000</td></tr><tr><td>Road-250 Red, 44</td><td>2443.35000000</td></tr><tr><td>HL Road Tire</td><td>32.60000000</td></tr><tr><td>LL Mountain Frame - Silver, 40</td><td>264.05000000</td></tr><tr><td>Touring-1000 Blue, 54</td><td>2384.07000000</td></tr><tr><td>HL Touring Seat/Saddle</td><td>52.64000000</td></tr><tr><td>ML Mountain Front Wheel</td><td>209.02500000</td></tr><tr><td>Road-250 Red, 58</td><td>2443.35000000</td></tr><tr><td>Short-Sleeve Classic Jersey, M</td><td>53.99000000</td></tr><tr><td>Mountain-100 Black, 38</td><td>3374.99000000</td></tr><tr><td>Mountain-500 Black, 44</td><td>539.99000000</td></tr><tr><td>Road-550-W Yellow, 38</td><td>1120.49000000</td></tr><tr><td>ML Mountain Tire</td><td>29.99000000</td></tr><tr><td>LL Mountain Seat/Saddle</td><td>27.12000000</td></tr><tr><td>HL Mountain Frame - Silver, 42</td><td>1364.50000000</td></tr><tr><td>Headlights - Weatherproof</td><td>44.99000000</td></tr><tr><td>HL Road Pedal</td><td>80.99000000</td></tr><tr><td>Mountain-300 Black, 48</td><td>1079.99000000</td></tr><tr><td>Road-450 Red, 48</td><td>1457.99000000</td></tr><tr><td>Mountain-200 Silver, 38</td><td>2319.99000000</td></tr><tr><td>Road-550-W Yellow, 40</td><td>1120.49000000</td></tr><tr><td>LL Road Handlebars</td><td>44.54000000</td></tr><tr><td>Mountain-500 Silver, 42</td><td>564.99000000</td></tr><tr><td>Mountain Bike Socks, L</td><td>9.50000000</td></tr><tr><td>Short-Sleeve Classic Jersey, L</td><td>53.99000000</td></tr><tr><td>LL Touring Frame - Blue, 54</td><td>333.42000000</td></tr><tr><td>Road-350-W Yellow, 44</td><td>1700.99000000</td></tr><tr><td>LL Mountain Frame - Silver, 52</td><td>264.05000000</td></tr><tr><td>Mountain Tire Tube</td><td>4.99000000</td></tr><tr><td>Road Tire Tube</td><td>3.99000000</td></tr><tr><td>Front Derailleur</td><td>91.49000000</td></tr><tr><td>Mountain-200 Silver, 46</td><td>2319.99000000</td></tr><tr><td>Men's Bib-Shorts, M</td><td>89.99000000</td></tr><tr><td>Full-Finger Gloves, L</td><td>37.99000000</td></tr><tr><td>LL Road Rear Wheel</td><td>112.56500000</td></tr><tr><td>Sport-100 Helmet, Black</td><td>34.99000000</td></tr><tr><td>Mountain-500 Black, 42</td><td>539.99000000</td></tr><tr><td>ML Road Frame-W - Yellow, 48</td><td>594.83000000</td></tr><tr><td>LL Touring Frame - Yellow, 58</td><td>333.42000000</td></tr><tr><td>Road-350-W Yellow, 42</td><td>1700.99000000</td></tr><tr><td>LL Road Frame - Black, 58</td><td>337.22000000</td></tr><tr><td>Short-Sleeve Classic Jersey, S</td><td>53.99000000</td></tr><tr><td>HL Road Frame - Black, 52</td><td>1431.50000000</td></tr><tr><td>Women's Tights, L</td><td>74.99000000</td></tr><tr><td>LL Road Frame - Red, 44</td><td>337.22000000</td></tr><tr><td>HL Road Frame - Red, 62</td><td>1431.50000000</td></tr><tr><td>LL Road Frame - Red, 52</td><td>337.22000000</td></tr><tr><td>Road-250 Black, 44</td><td>2443.35000000</td></tr><tr><td>ML Road Frame-W - Yellow, 40</td><td>594.83000000</td></tr><tr><td>LL Touring Frame - Yellow, 62</td><td>333.42000000</td></tr><tr><td>Road-350-W Yellow, 40</td><td>1700.99000000</td></tr><tr><td>Mountain-500 Black, 52</td><td>539.99000000</td></tr><tr><td>Minipump</td><td>19.99000000</td></tr><tr><td>HL Touring Frame - Blue, 50</td><td>1003.91000000</td></tr><tr><td>HL Touring Frame - Blue, 46</td><td>1003.91000000</td></tr><tr><td>Mountain-500 Silver, 52</td><td>564.99000000</td></tr><tr><td>LL Mountain Frame - Silver, 44</td><td>264.05000000</td></tr><tr><td>Long-Sleeve Logo Jersey, L</td><td>49.99000000</td></tr><tr><td>Road-650 Black, 44</td><td>782.99000000</td></tr><tr><td>Road-150 Red, 56</td><td>3578.27000000</td></tr><tr><td>Mountain-100 Black, 44</td><td>3374.99000000</td></tr><tr><td>Touring Rear Wheel</td><td>245.01000000</td></tr><tr><td>Touring-1000 Yellow, 50</td><td>2384.07000000</td></tr><tr><td>HL Mountain Frame - Silver, 46</td><td>1364.50000000</td></tr><tr><td>Rear Derailleur</td><td>121.46000000</td></tr><tr><td>ML Road Tire</td><td>24.99000000</td></tr><tr><td>Road-150 Red, 48</td><td>3578.27000000</td></tr><tr><td>Road-650 Black, 48</td><td>782.99000000</td></tr><tr><td>Women's Mountain Shorts, S</td><td>69.99000000</td></tr><tr><td>HL Road Frame - Black, 58</td><td>1431.50000000</td></tr><tr><td>LL Touring Handlebars</td><td>46.09000000</td></tr><tr><td>Touring-1000 Yellow, 60</td><td>2384.07000000</td></tr><tr><td>Touring-2000 Blue, 54</td><td>1214.85000000</td></tr><tr><td>Road-750 Black, 58</td><td>539.99000000</td></tr><tr><td>Classic Vest, L</td><td>63.50000000</td></tr><tr><td>Touring-3000 Yellow, 62</td><td>742.35000000</td></tr><tr><td>HL Mountain Frame - Black, 46</td><td>1349.60000000</td></tr><tr><td>Headlights - Dual-Beam</td><td>34.99000000</td></tr><tr><td>Road-350-W Yellow, 48</td><td>1700.99000000</td></tr><tr><td>ML Mountain Frame-W - Silver, 40</td><td>364.09000000</td></tr><tr><td>ML Road Pedal</td><td>62.09000000</td></tr><tr><td>LL Mountain Frame - Black, 44</td><td>249.79000000</td></tr><tr><td>LL Road Front Wheel</td><td>85.56500000</td></tr><tr><td>LL Road Frame - Red, 58</td><td>337.22000000</td></tr><tr><td>LL Touring Frame - Blue, 44</td><td>333.42000000</td></tr><tr><td>LL Road Seat/Saddle</td><td>27.12000000</td></tr><tr><td>HL Crankset</td><td>404.99000000</td></tr><tr><td>Hitch Rack - 4-Bike</td><td>120.00000000</td></tr><tr><td>Classic Vest, S</td><td>63.50000000</td></tr><tr><td>LL Mountain Frame - Silver, 42</td><td>264.05000000</td></tr><tr><td>ML Road Frame - Red, 52</td><td>594.83000000</td></tr><tr><td>LL Road Frame - Black, 44</td><td>337.22000000</td></tr><tr><td>Road-250 Black, 52</td><td>2443.35000000</td></tr><tr><td>Long-Sleeve Logo Jersey, XL</td><td>49.99000000</td></tr><tr><td>Half-Finger Gloves, S</td><td>24.49000000</td></tr><tr><td>Road-150 Red, 52</td><td>3578.27000000</td></tr><tr><td>HL Mountain Seat/Saddle</td><td>52.64000000</td></tr><tr><td>ML Mountain Frame - Black, 40</td><td>348.76000000</td></tr><tr><td>Men's Bib-Shorts, L</td><td>89.99000000</td></tr><tr><td>ML Mountain Frame-W - Silver, 38</td><td>364.09000000</td></tr><tr><td>Touring-3000 Yellow, 54</td><td>742.35000000</td></tr><tr><td>Mountain-200 Silver, 42</td><td>2319.99000000</td></tr><tr><td>ML Mountain Pedal</td><td>62.09000000</td></tr><tr><td>ML Road Frame - Red, 44</td><td>594.83000000</td></tr><tr><td>Mountain-500 Silver, 40</td><td>564.99000000</td></tr><tr><td>ML Mountain Seat/Saddle</td><td>39.14000000</td></tr><tr><td>Women's Mountain Shorts, M</td><td>69.99000000</td></tr><tr><td>Water Bottle - 30 oz.</td><td>4.99000000</td></tr><tr><td>Fender Set - Mountain</td><td>21.98000000</td></tr><tr><td>HL Touring Frame - Yellow, 50</td><td>1003.91000000</td></tr><tr><td>ML Road Frame - Red, 60</td><td>594.83000000</td></tr><tr><td>HL Touring Frame - Yellow, 46</td><td>1003.91000000</td></tr><tr><td>ML Road Seat/Saddle</td><td>39.14000000</td></tr><tr><td>Touring-3000 Yellow, 50</td><td>742.35000000</td></tr><tr><td>Mountain-400-W Silver, 42</td><td>769.49000000</td></tr><tr><td>HL Mountain Frame - Silver, 48</td><td>1364.50000000</td></tr><tr><td>LL Mountain Handlebars</td><td>44.54000000</td></tr><tr><td>Touring Front Wheel</td><td>218.01000000</td></tr><tr><td>Short-Sleeve Classic Jersey, XL</td><td>53.99000000</td></tr><tr><td>Touring-2000 Blue, 60</td><td>1214.85000000</td></tr><tr><td>Touring-3000 Blue, 54</td><td>742.35000000</td></tr><tr><td>Road-250 Black, 58</td><td>2443.35000000</td></tr><tr><td>HL Road Frame - Black, 44</td><td>1431.50000000</td></tr><tr><td>Road Bottle Cage</td><td>8.99000000</td></tr><tr><td>Touring Tire</td><td>28.99000000</td></tr><tr><td>ML Bottom Bracket</td><td>101.24000000</td></tr><tr><td>Road-750 Black, 44</td><td>539.99000000</td></tr><tr><td>Road-450 Red, 58</td><td>1457.99000000</td></tr><tr><td>Road-650 Red, 60</td><td>782.99000000</td></tr><tr><td>Racing Socks, L</td><td>8.99000000</td></tr><tr><td>HL Mountain Rear Wheel</td><td>327.21500000</td></tr><tr><td>Mountain Bottle Cage</td><td>9.99000000</td></tr><tr><td>HL Road Frame - Red, 48</td><td>1431.50000000</td></tr><tr><td>ML Mountain Frame-W - Silver, 42</td><td>364.09000000</td></tr><tr><td>LL Mountain Tire</td><td>24.99000000</td></tr><tr><td>Road-750 Black, 52</td><td>539.99000000</td></tr><tr><td>Sport-100 Helmet, Blue</td><td>34.99000000</td></tr><tr><td>LL Road Frame - Red, 60</td><td>337.22000000</td></tr><tr><td>HL Fork</td><td>229.49000000</td></tr><tr><td>HL Road Frame - Red, 44</td><td>1431.50000000</td></tr><tr><td>Road-150 Red, 44</td><td>3578.27000000</td></tr><tr><td>Touring-Panniers, Large</td><td>125.00000000</td></tr><tr><td>LL Touring Frame - Blue, 62</td><td>333.42000000</td></tr><tr><td>ML Road Frame - Red, 58</td><td>594.83000000</td></tr><tr><td>Road-650 Black, 60</td><td>782.99000000</td></tr><tr><td>HL Headset</td><td>124.73000000</td></tr><tr><td>ML Road Frame - Red, 48</td><td>594.83000000</td></tr><tr><td>Men's Sports Shorts, XL</td><td>59.99000000</td></tr><tr><td>Mountain-400-W Silver, 46</td><td>769.49000000</td></tr><tr><td>HL Mountain Handlebars</td><td>120.27000000</td></tr><tr><td>ML Mountain Frame - Black, 44</td><td>348.76000000</td></tr><tr><td>Sport-100 Helmet, Red</td><td>34.99000000</td></tr><tr><td>Touring-2000 Blue, 50</td><td>1214.85000000</td></tr><tr><td>ML Headset</td><td>102.29000000</td></tr><tr><td>HL Road Front Wheel</td><td>330.06000000</td></tr><tr><td>ML Road Frame-W - Yellow, 44</td><td>594.83000000</td></tr><tr><td>Touring-3000 Blue, 44</td><td>742.35000000</td></tr><tr><td>HL Mountain Frame - Black, 44</td><td>1349.60000000</td></tr><tr><td>LL Road Frame - Black, 48</td><td>337.22000000</td></tr><tr><td>Road-250 Red, 52</td><td>2443.35000000</td></tr><tr><td>ML Mountain Rear Wheel</td><td>236.02500000</td></tr><tr><td>Touring-1000 Yellow, 54</td><td>2384.07000000</td></tr><tr><td>HL Mountain Tire</td><td>35.00000000</td></tr><tr><td>LL Mountain Front Wheel</td><td>60.74500000</td></tr><tr><td>Touring Tire Tube</td><td>4.99000000</td></tr><tr><td>HL Mountain Pedal</td><td>80.99000000</td></tr><tr><td>LL Crankset</td><td>175.49000000</td></tr><tr><td>Road-750 Black, 48</td><td>539.99000000</td></tr><tr><td>Road-650 Black, 58</td><td>782.99000000</td></tr><tr><td>LL Mountain Frame - Black, 42</td><td>249.79000000</td></tr><tr><td>LL Bottom Bracket</td><td>53.99000000</td></tr><tr><td>Mountain-200 Black, 38</td><td>2294.99000000</td></tr><tr><td>Bike Wash - Dissolver</td><td>7.95000000</td></tr><tr><td>HL Touring Frame - Yellow, 54</td><td>1003.91000000</td></tr><tr><td>Chain</td><td>20.24000000</td></tr><tr><td>Road-650 Red, 44</td><td>782.99000000</td></tr><tr><td>Classic Vest, M</td><td>63.50000000</td></tr><tr><td>LL Touring Seat/Saddle</td><td>27.12000000</td></tr><tr><td>LL Mountain Frame - Black, 48</td><td>249.79000000</td></tr><tr><td>Mountain-500 Black, 48</td><td>539.99000000</td></tr><tr><td>Touring-3000 Blue, 58</td><td>742.35000000</td></tr><tr><td>Mountain-100 Silver, 44</td><td>3399.99000000</td></tr><tr><td>ML Road Handlebars</td><td>61.92000000</td></tr><tr><td>HL Mountain Frame - Black, 48</td><td>1349.60000000</td></tr><tr><td>ML Road Rear Wheel</td><td>275.38500000</td></tr><tr><td>Mountain-100 Black, 42</td><td>3374.99000000</td></tr><tr><td>Road-650 Black, 52</td><td>782.99000000</td></tr><tr><td>Men's Sports Shorts, S</td><td>59.99000000</td></tr><tr><td>Full-Finger Gloves, S</td><td>37.99000000</td></tr><tr><td>Touring Pedal</td><td>80.99000000</td></tr><tr><td>HL Road Frame - Black, 48</td><td>1431.50000000</td></tr><tr><td>LL Touring Frame - Yellow, 54</td><td>333.42000000</td></tr><tr><td>Road-450 Red, 44</td><td>1457.99000000</td></tr><tr><td>LL Road Pedal</td><td>40.49000000</td></tr><tr><td>Men's Sports Shorts, M</td><td>59.99000000</td></tr><tr><td>Touring-1000 Blue, 60</td><td>2384.07000000</td></tr><tr><td>Men's Bib-Shorts, S</td><td>89.99000000</td></tr><tr><td>Road-450 Red, 60</td><td>1457.99000000</td></tr><tr><td>Road-250 Red, 48</td><td>2443.35000000</td></tr><tr><td>HL Road Frame - Black, 62</td><td>1431.50000000</td></tr><tr><td>LL Mountain Rear Wheel</td><td>87.74500000</td></tr><tr><td>Mountain-200 Black, 42</td><td>2294.99000000</td></tr><tr><td>Mountain-100 Silver, 48</td><td>3399.99000000</td></tr><tr><td>LL Mountain Pedal</td><td>40.49000000</td></tr><tr><td>Road-650 Black, 62</td><td>782.99000000</td></tr><tr><td>Mountain-300 Black, 40</td><td>1079.99000000</td></tr><tr><td>Half-Finger Gloves, M</td><td>24.49000000</td></tr><tr><td>HL Road Rear Wheel</td><td>357.06000000</td></tr><tr><td>HL Touring Frame - Blue, 60</td><td>1003.91000000</td></tr><tr><td>Mountain-300 Black, 38</td><td>1079.99000000</td></tr><tr><td>HL Road Handlebars</td><td>120.27000000</td></tr><tr><td>Road-650 Red, 48</td><td>782.99000000</td></tr><tr><td>Rear Brakes</td><td>106.50000000</td></tr><tr><td>HL Mountain Frame - Silver, 44</td><td>1364.50000000</td></tr><tr><td>Road-550-W Yellow, 42</td><td>1120.49000000</td></tr><tr><td>Touring-1000 Blue, 50</td><td>2384.07000000</td></tr><tr><td>Long-Sleeve Logo Jersey, M</td><td>49.99000000</td></tr><tr><td>LL Mountain Frame - Black, 40</td><td>249.79000000</td></tr><tr><td>HL Touring Handlebars</td><td>91.57000000</td></tr><tr><td>Patch Kit/8 Patches</td><td>2.29000000</td></tr><tr><td>LL Touring Frame - Blue, 58</td><td>333.42000000</td></tr><tr><td>All-Purpose Bike Stand</td><td>159.00000000</td></tr><tr><td>Mountain-400-W Silver, 38</td><td>769.49000000</td></tr><tr><td>Taillights - Battery-Powered</td><td>13.99000000</td></tr><tr><td>LL Road Frame - Red, 48</td><td>337.22000000</td></tr><tr><td>Road-150 Red, 62</td><td>3578.27000000</td></tr><tr><td>Touring-3000 Blue, 50</td><td>742.35000000</td></tr><tr><td>Women's Mountain Shorts, L</td><td>69.99000000</td></tr><tr><td>ML Mountain Frame-W - Silver, 46</td><td>364.09000000</td></tr></tbody></table></div>"
      ]
     },
     "metadata": {
      "application/vnd.databricks.v1+output": {
       "addedWidgets": {},
       "aggData": [],
       "aggError": "",
       "aggOverflow": false,
       "aggSchema": [],
       "aggSeriesLimitReached": false,
       "aggType": "",
       "arguments": {},
       "columnCustomDisplayInfos": {},
       "data": [
        [
         "Touring-3000 Blue, 62",
         "742.35000000"
        ],
        [
         "ML Mountain Handlebars",
         "61.92000000"
        ],
        [
         "Touring-1000 Blue, 46",
         "2384.07000000"
        ],
        [
         "Touring-2000 Blue, 46",
         "1214.85000000"
        ],
        [
         "Hydration Pack - 70 oz.",
         "54.99000000"
        ],
        [
         "Mountain-200 Black, 46",
         "2294.99000000"
        ],
        [
         "HL Touring Frame - Yellow, 60",
         "1003.91000000"
        ],
        [
         "LL Touring Frame - Blue, 50",
         "333.42000000"
        ],
        [
         "Road-650 Red, 58",
         "782.99000000"
        ],
        [
         "HL Bottom Bracket",
         "121.49000000"
        ],
        [
         "Mountain-100 Silver, 38",
         "3399.99000000"
        ],
        [
         "ML Mountain Frame - Black, 48",
         "348.76000000"
        ],
        [
         "HL Mountain Frame - Black, 38",
         "1349.60000000"
        ],
        [
         "LL Touring Frame - Yellow, 44",
         "333.42000000"
        ],
        [
         "Mountain-500 Silver, 48",
         "564.99000000"
        ],
        [
         "HL Road Frame - Red, 52",
         "1431.50000000"
        ],
        [
         "LL Headset",
         "34.20000000"
        ],
        [
         "Cable Lock",
         "25.00000000"
        ],
        [
         "HL Road Seat/Saddle",
         "52.64000000"
        ],
        [
         "ML Crankset",
         "256.49000000"
        ],
        [
         "ML Mountain Frame - Black, 38",
         "348.76000000"
        ],
        [
         "Mountain-500 Silver, 44",
         "564.99000000"
        ],
        [
         "Road-450 Red, 52",
         "1457.99000000"
        ],
        [
         "Mountain-100 Black, 48",
         "3374.99000000"
        ],
        [
         "Road-550-W Yellow, 48",
         "1120.49000000"
        ],
        [
         "LL Mountain Frame - Silver, 48",
         "264.05000000"
        ],
        [
         "Road-550-W Yellow, 44",
         "1120.49000000"
        ],
        [
         "HL Touring Frame - Blue, 54",
         "1003.91000000"
        ],
        [
         "AWC Logo Cap",
         "8.99000000"
        ],
        [
         "ML Road Frame-W - Yellow, 38",
         "594.83000000"
        ],
        [
         "HL Road Frame - Red, 58",
         "1431.50000000"
        ],
        [
         "Road-650 Red, 52",
         "782.99000000"
        ],
        [
         "HL Mountain Frame - Black, 42",
         "1349.60000000"
        ],
        [
         "Road-250 Black, 48",
         "2443.35000000"
        ],
        [
         "Long-Sleeve Logo Jersey, S",
         "49.99000000"
        ],
        [
         "HL Road Frame - Red, 56",
         "1431.50000000"
        ],
        [
         "LL Road Frame - Black, 52",
         "337.22000000"
        ],
        [
         "HL Mountain Front Wheel",
         "300.21500000"
        ],
        [
         "Mountain Bike Socks, M",
         "9.50000000"
        ],
        [
         "Men's Sports Shorts, L",
         "59.99000000"
        ],
        [
         "Women's Tights, M",
         "74.99000000"
        ],
        [
         "LL Touring Frame - Yellow, 50",
         "333.42000000"
        ],
        [
         "Mountain-100 Silver, 42",
         "3399.99000000"
        ],
        [
         "ML Fork",
         "175.49000000"
        ],
        [
         "ML Touring Seat/Saddle",
         "39.14000000"
        ],
        [
         "Touring-1000 Yellow, 46",
         "2384.07000000"
        ],
        [
         "Women's Tights, S",
         "74.99000000"
        ],
        [
         "Mountain-400-W Silver, 40",
         "769.49000000"
        ],
        [
         "ML Road Front Wheel",
         "248.38500000"
        ],
        [
         "LL Road Frame - Red, 62",
         "337.22000000"
        ],
        [
         "Road-650 Red, 62",
         "782.99000000"
        ],
        [
         "Racing Socks, M",
         "8.99000000"
        ],
        [
         "LL Road Frame - Black, 60",
         "337.22000000"
        ],
        [
         "Touring-3000 Yellow, 44",
         "742.35000000"
        ],
        [
         "Mountain-300 Black, 44",
         "1079.99000000"
        ],
        [
         "LL Mountain Frame - Black, 52",
         "249.79000000"
        ],
        [
         "LL Road Tire",
         "21.49000000"
        ],
        [
         "Mountain-500 Black, 40",
         "539.99000000"
        ],
        [
         "Full-Finger Gloves, M",
         "37.99000000"
        ],
        [
         "Front Brakes",
         "106.50000000"
        ],
        [
         "ML Road Frame-W - Yellow, 42",
         "594.83000000"
        ],
        [
         "LL Fork",
         "148.22000000"
        ],
        [
         "LL Road Frame - Black, 62",
         "337.22000000"
        ],
        [
         "HL Mountain Frame - Silver, 38",
         "1364.50000000"
        ],
        [
         "Half-Finger Gloves, L",
         "24.49000000"
        ],
        [
         "Touring-3000 Yellow, 58",
         "742.35000000"
        ],
        [
         "Mountain Pump",
         "24.99000000"
        ],
        [
         "Road-250 Red, 44",
         "2443.35000000"
        ],
        [
         "HL Road Tire",
         "32.60000000"
        ],
        [
         "LL Mountain Frame - Silver, 40",
         "264.05000000"
        ],
        [
         "Touring-1000 Blue, 54",
         "2384.07000000"
        ],
        [
         "HL Touring Seat/Saddle",
         "52.64000000"
        ],
        [
         "ML Mountain Front Wheel",
         "209.02500000"
        ],
        [
         "Road-250 Red, 58",
         "2443.35000000"
        ],
        [
         "Short-Sleeve Classic Jersey, M",
         "53.99000000"
        ],
        [
         "Mountain-100 Black, 38",
         "3374.99000000"
        ],
        [
         "Mountain-500 Black, 44",
         "539.99000000"
        ],
        [
         "Road-550-W Yellow, 38",
         "1120.49000000"
        ],
        [
         "ML Mountain Tire",
         "29.99000000"
        ],
        [
         "LL Mountain Seat/Saddle",
         "27.12000000"
        ],
        [
         "HL Mountain Frame - Silver, 42",
         "1364.50000000"
        ],
        [
         "Headlights - Weatherproof",
         "44.99000000"
        ],
        [
         "HL Road Pedal",
         "80.99000000"
        ],
        [
         "Mountain-300 Black, 48",
         "1079.99000000"
        ],
        [
         "Road-450 Red, 48",
         "1457.99000000"
        ],
        [
         "Mountain-200 Silver, 38",
         "2319.99000000"
        ],
        [
         "Road-550-W Yellow, 40",
         "1120.49000000"
        ],
        [
         "LL Road Handlebars",
         "44.54000000"
        ],
        [
         "Mountain-500 Silver, 42",
         "564.99000000"
        ],
        [
         "Mountain Bike Socks, L",
         "9.50000000"
        ],
        [
         "Short-Sleeve Classic Jersey, L",
         "53.99000000"
        ],
        [
         "LL Touring Frame - Blue, 54",
         "333.42000000"
        ],
        [
         "Road-350-W Yellow, 44",
         "1700.99000000"
        ],
        [
         "LL Mountain Frame - Silver, 52",
         "264.05000000"
        ],
        [
         "Mountain Tire Tube",
         "4.99000000"
        ],
        [
         "Road Tire Tube",
         "3.99000000"
        ],
        [
         "Front Derailleur",
         "91.49000000"
        ],
        [
         "Mountain-200 Silver, 46",
         "2319.99000000"
        ],
        [
         "Men's Bib-Shorts, M",
         "89.99000000"
        ],
        [
         "Full-Finger Gloves, L",
         "37.99000000"
        ],
        [
         "LL Road Rear Wheel",
         "112.56500000"
        ],
        [
         "Sport-100 Helmet, Black",
         "34.99000000"
        ],
        [
         "Mountain-500 Black, 42",
         "539.99000000"
        ],
        [
         "ML Road Frame-W - Yellow, 48",
         "594.83000000"
        ],
        [
         "LL Touring Frame - Yellow, 58",
         "333.42000000"
        ],
        [
         "Road-350-W Yellow, 42",
         "1700.99000000"
        ],
        [
         "LL Road Frame - Black, 58",
         "337.22000000"
        ],
        [
         "Short-Sleeve Classic Jersey, S",
         "53.99000000"
        ],
        [
         "HL Road Frame - Black, 52",
         "1431.50000000"
        ],
        [
         "Women's Tights, L",
         "74.99000000"
        ],
        [
         "LL Road Frame - Red, 44",
         "337.22000000"
        ],
        [
         "HL Road Frame - Red, 62",
         "1431.50000000"
        ],
        [
         "LL Road Frame - Red, 52",
         "337.22000000"
        ],
        [
         "Road-250 Black, 44",
         "2443.35000000"
        ],
        [
         "ML Road Frame-W - Yellow, 40",
         "594.83000000"
        ],
        [
         "LL Touring Frame - Yellow, 62",
         "333.42000000"
        ],
        [
         "Road-350-W Yellow, 40",
         "1700.99000000"
        ],
        [
         "Mountain-500 Black, 52",
         "539.99000000"
        ],
        [
         "Minipump",
         "19.99000000"
        ],
        [
         "HL Touring Frame - Blue, 50",
         "1003.91000000"
        ],
        [
         "HL Touring Frame - Blue, 46",
         "1003.91000000"
        ],
        [
         "Mountain-500 Silver, 52",
         "564.99000000"
        ],
        [
         "LL Mountain Frame - Silver, 44",
         "264.05000000"
        ],
        [
         "Long-Sleeve Logo Jersey, L",
         "49.99000000"
        ],
        [
         "Road-650 Black, 44",
         "782.99000000"
        ],
        [
         "Road-150 Red, 56",
         "3578.27000000"
        ],
        [
         "Mountain-100 Black, 44",
         "3374.99000000"
        ],
        [
         "Touring Rear Wheel",
         "245.01000000"
        ],
        [
         "Touring-1000 Yellow, 50",
         "2384.07000000"
        ],
        [
         "HL Mountain Frame - Silver, 46",
         "1364.50000000"
        ],
        [
         "Rear Derailleur",
         "121.46000000"
        ],
        [
         "ML Road Tire",
         "24.99000000"
        ],
        [
         "Road-150 Red, 48",
         "3578.27000000"
        ],
        [
         "Road-650 Black, 48",
         "782.99000000"
        ],
        [
         "Women's Mountain Shorts, S",
         "69.99000000"
        ],
        [
         "HL Road Frame - Black, 58",
         "1431.50000000"
        ],
        [
         "LL Touring Handlebars",
         "46.09000000"
        ],
        [
         "Touring-1000 Yellow, 60",
         "2384.07000000"
        ],
        [
         "Touring-2000 Blue, 54",
         "1214.85000000"
        ],
        [
         "Road-750 Black, 58",
         "539.99000000"
        ],
        [
         "Classic Vest, L",
         "63.50000000"
        ],
        [
         "Touring-3000 Yellow, 62",
         "742.35000000"
        ],
        [
         "HL Mountain Frame - Black, 46",
         "1349.60000000"
        ],
        [
         "Headlights - Dual-Beam",
         "34.99000000"
        ],
        [
         "Road-350-W Yellow, 48",
         "1700.99000000"
        ],
        [
         "ML Mountain Frame-W - Silver, 40",
         "364.09000000"
        ],
        [
         "ML Road Pedal",
         "62.09000000"
        ],
        [
         "LL Mountain Frame - Black, 44",
         "249.79000000"
        ],
        [
         "LL Road Front Wheel",
         "85.56500000"
        ],
        [
         "LL Road Frame - Red, 58",
         "337.22000000"
        ],
        [
         "LL Touring Frame - Blue, 44",
         "333.42000000"
        ],
        [
         "LL Road Seat/Saddle",
         "27.12000000"
        ],
        [
         "HL Crankset",
         "404.99000000"
        ],
        [
         "Hitch Rack - 4-Bike",
         "120.00000000"
        ],
        [
         "Classic Vest, S",
         "63.50000000"
        ],
        [
         "LL Mountain Frame - Silver, 42",
         "264.05000000"
        ],
        [
         "ML Road Frame - Red, 52",
         "594.83000000"
        ],
        [
         "LL Road Frame - Black, 44",
         "337.22000000"
        ],
        [
         "Road-250 Black, 52",
         "2443.35000000"
        ],
        [
         "Long-Sleeve Logo Jersey, XL",
         "49.99000000"
        ],
        [
         "Half-Finger Gloves, S",
         "24.49000000"
        ],
        [
         "Road-150 Red, 52",
         "3578.27000000"
        ],
        [
         "HL Mountain Seat/Saddle",
         "52.64000000"
        ],
        [
         "ML Mountain Frame - Black, 40",
         "348.76000000"
        ],
        [
         "Men's Bib-Shorts, L",
         "89.99000000"
        ],
        [
         "ML Mountain Frame-W - Silver, 38",
         "364.09000000"
        ],
        [
         "Touring-3000 Yellow, 54",
         "742.35000000"
        ],
        [
         "Mountain-200 Silver, 42",
         "2319.99000000"
        ],
        [
         "ML Mountain Pedal",
         "62.09000000"
        ],
        [
         "ML Road Frame - Red, 44",
         "594.83000000"
        ],
        [
         "Mountain-500 Silver, 40",
         "564.99000000"
        ],
        [
         "ML Mountain Seat/Saddle",
         "39.14000000"
        ],
        [
         "Women's Mountain Shorts, M",
         "69.99000000"
        ],
        [
         "Water Bottle - 30 oz.",
         "4.99000000"
        ],
        [
         "Fender Set - Mountain",
         "21.98000000"
        ],
        [
         "HL Touring Frame - Yellow, 50",
         "1003.91000000"
        ],
        [
         "ML Road Frame - Red, 60",
         "594.83000000"
        ],
        [
         "HL Touring Frame - Yellow, 46",
         "1003.91000000"
        ],
        [
         "ML Road Seat/Saddle",
         "39.14000000"
        ],
        [
         "Touring-3000 Yellow, 50",
         "742.35000000"
        ],
        [
         "Mountain-400-W Silver, 42",
         "769.49000000"
        ],
        [
         "HL Mountain Frame - Silver, 48",
         "1364.50000000"
        ],
        [
         "LL Mountain Handlebars",
         "44.54000000"
        ],
        [
         "Touring Front Wheel",
         "218.01000000"
        ],
        [
         "Short-Sleeve Classic Jersey, XL",
         "53.99000000"
        ],
        [
         "Touring-2000 Blue, 60",
         "1214.85000000"
        ],
        [
         "Touring-3000 Blue, 54",
         "742.35000000"
        ],
        [
         "Road-250 Black, 58",
         "2443.35000000"
        ],
        [
         "HL Road Frame - Black, 44",
         "1431.50000000"
        ],
        [
         "Road Bottle Cage",
         "8.99000000"
        ],
        [
         "Touring Tire",
         "28.99000000"
        ],
        [
         "ML Bottom Bracket",
         "101.24000000"
        ],
        [
         "Road-750 Black, 44",
         "539.99000000"
        ],
        [
         "Road-450 Red, 58",
         "1457.99000000"
        ],
        [
         "Road-650 Red, 60",
         "782.99000000"
        ],
        [
         "Racing Socks, L",
         "8.99000000"
        ],
        [
         "HL Mountain Rear Wheel",
         "327.21500000"
        ],
        [
         "Mountain Bottle Cage",
         "9.99000000"
        ],
        [
         "HL Road Frame - Red, 48",
         "1431.50000000"
        ],
        [
         "ML Mountain Frame-W - Silver, 42",
         "364.09000000"
        ],
        [
         "LL Mountain Tire",
         "24.99000000"
        ],
        [
         "Road-750 Black, 52",
         "539.99000000"
        ],
        [
         "Sport-100 Helmet, Blue",
         "34.99000000"
        ],
        [
         "LL Road Frame - Red, 60",
         "337.22000000"
        ],
        [
         "HL Fork",
         "229.49000000"
        ],
        [
         "HL Road Frame - Red, 44",
         "1431.50000000"
        ],
        [
         "Road-150 Red, 44",
         "3578.27000000"
        ],
        [
         "Touring-Panniers, Large",
         "125.00000000"
        ],
        [
         "LL Touring Frame - Blue, 62",
         "333.42000000"
        ],
        [
         "ML Road Frame - Red, 58",
         "594.83000000"
        ],
        [
         "Road-650 Black, 60",
         "782.99000000"
        ],
        [
         "HL Headset",
         "124.73000000"
        ],
        [
         "ML Road Frame - Red, 48",
         "594.83000000"
        ],
        [
         "Men's Sports Shorts, XL",
         "59.99000000"
        ],
        [
         "Mountain-400-W Silver, 46",
         "769.49000000"
        ],
        [
         "HL Mountain Handlebars",
         "120.27000000"
        ],
        [
         "ML Mountain Frame - Black, 44",
         "348.76000000"
        ],
        [
         "Sport-100 Helmet, Red",
         "34.99000000"
        ],
        [
         "Touring-2000 Blue, 50",
         "1214.85000000"
        ],
        [
         "ML Headset",
         "102.29000000"
        ],
        [
         "HL Road Front Wheel",
         "330.06000000"
        ],
        [
         "ML Road Frame-W - Yellow, 44",
         "594.83000000"
        ],
        [
         "Touring-3000 Blue, 44",
         "742.35000000"
        ],
        [
         "HL Mountain Frame - Black, 44",
         "1349.60000000"
        ],
        [
         "LL Road Frame - Black, 48",
         "337.22000000"
        ],
        [
         "Road-250 Red, 52",
         "2443.35000000"
        ],
        [
         "ML Mountain Rear Wheel",
         "236.02500000"
        ],
        [
         "Touring-1000 Yellow, 54",
         "2384.07000000"
        ],
        [
         "HL Mountain Tire",
         "35.00000000"
        ],
        [
         "LL Mountain Front Wheel",
         "60.74500000"
        ],
        [
         "Touring Tire Tube",
         "4.99000000"
        ],
        [
         "HL Mountain Pedal",
         "80.99000000"
        ],
        [
         "LL Crankset",
         "175.49000000"
        ],
        [
         "Road-750 Black, 48",
         "539.99000000"
        ],
        [
         "Road-650 Black, 58",
         "782.99000000"
        ],
        [
         "LL Mountain Frame - Black, 42",
         "249.79000000"
        ],
        [
         "LL Bottom Bracket",
         "53.99000000"
        ],
        [
         "Mountain-200 Black, 38",
         "2294.99000000"
        ],
        [
         "Bike Wash - Dissolver",
         "7.95000000"
        ],
        [
         "HL Touring Frame - Yellow, 54",
         "1003.91000000"
        ],
        [
         "Chain",
         "20.24000000"
        ],
        [
         "Road-650 Red, 44",
         "782.99000000"
        ],
        [
         "Classic Vest, M",
         "63.50000000"
        ],
        [
         "LL Touring Seat/Saddle",
         "27.12000000"
        ],
        [
         "LL Mountain Frame - Black, 48",
         "249.79000000"
        ],
        [
         "Mountain-500 Black, 48",
         "539.99000000"
        ],
        [
         "Touring-3000 Blue, 58",
         "742.35000000"
        ],
        [
         "Mountain-100 Silver, 44",
         "3399.99000000"
        ],
        [
         "ML Road Handlebars",
         "61.92000000"
        ],
        [
         "HL Mountain Frame - Black, 48",
         "1349.60000000"
        ],
        [
         "ML Road Rear Wheel",
         "275.38500000"
        ],
        [
         "Mountain-100 Black, 42",
         "3374.99000000"
        ],
        [
         "Road-650 Black, 52",
         "782.99000000"
        ],
        [
         "Men's Sports Shorts, S",
         "59.99000000"
        ],
        [
         "Full-Finger Gloves, S",
         "37.99000000"
        ],
        [
         "Touring Pedal",
         "80.99000000"
        ],
        [
         "HL Road Frame - Black, 48",
         "1431.50000000"
        ],
        [
         "LL Touring Frame - Yellow, 54",
         "333.42000000"
        ],
        [
         "Road-450 Red, 44",
         "1457.99000000"
        ],
        [
         "LL Road Pedal",
         "40.49000000"
        ],
        [
         "Men's Sports Shorts, M",
         "59.99000000"
        ],
        [
         "Touring-1000 Blue, 60",
         "2384.07000000"
        ],
        [
         "Men's Bib-Shorts, S",
         "89.99000000"
        ],
        [
         "Road-450 Red, 60",
         "1457.99000000"
        ],
        [
         "Road-250 Red, 48",
         "2443.35000000"
        ],
        [
         "HL Road Frame - Black, 62",
         "1431.50000000"
        ],
        [
         "LL Mountain Rear Wheel",
         "87.74500000"
        ],
        [
         "Mountain-200 Black, 42",
         "2294.99000000"
        ],
        [
         "Mountain-100 Silver, 48",
         "3399.99000000"
        ],
        [
         "LL Mountain Pedal",
         "40.49000000"
        ],
        [
         "Road-650 Black, 62",
         "782.99000000"
        ],
        [
         "Mountain-300 Black, 40",
         "1079.99000000"
        ],
        [
         "Half-Finger Gloves, M",
         "24.49000000"
        ],
        [
         "HL Road Rear Wheel",
         "357.06000000"
        ],
        [
         "HL Touring Frame - Blue, 60",
         "1003.91000000"
        ],
        [
         "Mountain-300 Black, 38",
         "1079.99000000"
        ],
        [
         "HL Road Handlebars",
         "120.27000000"
        ],
        [
         "Road-650 Red, 48",
         "782.99000000"
        ],
        [
         "Rear Brakes",
         "106.50000000"
        ],
        [
         "HL Mountain Frame - Silver, 44",
         "1364.50000000"
        ],
        [
         "Road-550-W Yellow, 42",
         "1120.49000000"
        ],
        [
         "Touring-1000 Blue, 50",
         "2384.07000000"
        ],
        [
         "Long-Sleeve Logo Jersey, M",
         "49.99000000"
        ],
        [
         "LL Mountain Frame - Black, 40",
         "249.79000000"
        ],
        [
         "HL Touring Handlebars",
         "91.57000000"
        ],
        [
         "Patch Kit/8 Patches",
         "2.29000000"
        ],
        [
         "LL Touring Frame - Blue, 58",
         "333.42000000"
        ],
        [
         "All-Purpose Bike Stand",
         "159.00000000"
        ],
        [
         "Mountain-400-W Silver, 38",
         "769.49000000"
        ],
        [
         "Taillights - Battery-Powered",
         "13.99000000"
        ],
        [
         "LL Road Frame - Red, 48",
         "337.22000000"
        ],
        [
         "Road-150 Red, 62",
         "3578.27000000"
        ],
        [
         "Touring-3000 Blue, 50",
         "742.35000000"
        ],
        [
         "Women's Mountain Shorts, L",
         "69.99000000"
        ],
        [
         "ML Mountain Frame-W - Silver, 46",
         "364.09000000"
        ]
       ],
       "datasetInfos": [],
       "dbfsResultPath": null,
       "isJsonSchema": true,
       "metadata": {},
       "overflow": false,
       "plotOptions": {
        "customPlotOptions": {},
        "displayType": "table",
        "pivotAggregation": null,
        "pivotColumns": null,
        "xColumns": null,
        "yColumns": null
       },
       "removedWidgets": [],
       "schema": [
        {
         "metadata": "{\"scale\":0}",
         "name": "Name",
         "type": "\"string\""
        },
        {
         "metadata": "{\"__autoGeneratedAlias\":\"true\"}",
         "name": "avg(ListPrice)",
         "type": "\"decimal(23,8)\""
        }
       ],
       "type": "table"
      }
     },
     "output_type": "display_data"
    }
   ],
   "source": [
    "%sql\n",
    "SELECT Name, AVG(ListPrice)\n",
    "FROM precios_mayores\n",
    "GROUP BY ProductID, Name;"
   ]
  },
  {
   "cell_type": "markdown",
   "metadata": {
    "application/vnd.databricks.v1+cell": {
     "cellMetadata": {},
     "inputWidgets": {},
     "nuid": "c246bdb1-f58a-4e33-9eaf-cff0967c5a8c",
     "showTitle": false,
     "tableResultSettingsMap": {},
     "title": ""
    }
   },
   "source": [
    "## 7.Encontrar productos sin categoria asignada"
   ]
  },
  {
   "cell_type": "code",
   "execution_count": 0,
   "metadata": {
    "application/vnd.databricks.v1+cell": {
     "cellMetadata": {
      "byteLimit": 2048000,
      "implicitDf": true,
      "rowLimit": 10000
     },
     "inputWidgets": {},
     "nuid": "f9c46d3e-23ac-4f4a-baab-867a9af3ee80",
     "showTitle": false,
     "tableResultSettingsMap": {},
     "title": ""
    }
   },
   "outputs": [
    {
     "output_type": "display_data",
     "data": {
      "text/html": [
       "<style scoped>\n",
       "  .table-result-container {\n",
       "    max-height: 300px;\n",
       "    overflow: auto;\n",
       "  }\n",
       "  table, th, td {\n",
       "    border: 1px solid black;\n",
       "    border-collapse: collapse;\n",
       "  }\n",
       "  th, td {\n",
       "    padding: 5px;\n",
       "  }\n",
       "  th {\n",
       "    text-align: left;\n",
       "  }\n",
       "</style><div class='table-result-container'><table class='table-result'><thead style='background-color: white'><tr><th>ProductID</th><th>Name</th><th>ProductCategoryID</th></tr></thead><tbody></tbody></table></div>"
      ]
     },
     "metadata": {
      "application/vnd.databricks.v1+output": {
       "addedWidgets": {},
       "aggData": [],
       "aggError": "",
       "aggOverflow": false,
       "aggSchema": [],
       "aggSeriesLimitReached": false,
       "aggType": "",
       "arguments": {},
       "columnCustomDisplayInfos": {},
       "data": [],
       "datasetInfos": [],
       "dbfsResultPath": null,
       "isJsonSchema": true,
       "metadata": {},
       "overflow": false,
       "plotOptions": {
        "customPlotOptions": {},
        "displayType": "table",
        "pivotAggregation": null,
        "pivotColumns": null,
        "xColumns": null,
        "yColumns": null
       },
       "removedWidgets": [],
       "schema": [
        {
         "metadata": "{\"scale\":0}",
         "name": "ProductID",
         "type": "\"integer\""
        },
        {
         "metadata": "{\"scale\":0}",
         "name": "Name",
         "type": "\"string\""
        },
        {
         "metadata": "{\"scale\":0}",
         "name": "ProductCategoryID",
         "type": "\"integer\""
        }
       ],
       "type": "table"
      }
     },
     "output_type": "display_data"
    }
   ],
   "source": [
    "%sql\n",
    "SELECT ProductID, Name, ProductCategoryID\n",
    "FROM precios_mayores\n",
    "WHERE ProductCategoryID = \"null\""
   ]
  },
  {
   "cell_type": "markdown",
   "metadata": {
    "application/vnd.databricks.v1+cell": {
     "cellMetadata": {},
     "inputWidgets": {},
     "nuid": "2fc81575-8082-4f02-b4a6-316792de319d",
     "showTitle": false,
     "tableResultSettingsMap": {},
     "title": ""
    }
   },
   "source": [
    "## 8. contar productos por color"
   ]
  },
  {
   "cell_type": "code",
   "execution_count": 0,
   "metadata": {
    "application/vnd.databricks.v1+cell": {
     "cellMetadata": {
      "byteLimit": 2048000,
      "implicitDf": true,
      "rowLimit": 10000
     },
     "inputWidgets": {},
     "nuid": "29097750-5e9c-4fea-b9a8-a6d52543a659",
     "showTitle": false,
     "tableResultSettingsMap": {},
     "title": ""
    }
   },
   "outputs": [
    {
     "output_type": "display_data",
     "data": {
      "text/html": [
       "<style scoped>\n",
       "  .table-result-container {\n",
       "    max-height: 300px;\n",
       "    overflow: auto;\n",
       "  }\n",
       "  table, th, td {\n",
       "    border: 1px solid black;\n",
       "    border-collapse: collapse;\n",
       "  }\n",
       "  th, td {\n",
       "    padding: 5px;\n",
       "  }\n",
       "  th {\n",
       "    text-align: left;\n",
       "  }\n",
       "</style><div class='table-result-container'><table class='table-result'><thead style='background-color: white'><tr><th>color</th><th>count</th></tr></thead><tbody><tr><td>Black</td><td>89</td></tr><tr><td>null</td><td>50</td></tr><tr><td>Red</td><td>38</td></tr><tr><td>Silver</td><td>36</td></tr><tr><td>Yellow</td><td>36</td></tr><tr><td>Blue</td><td>26</td></tr><tr><td>Multi</td><td>8</td></tr><tr><td>Silver/Black</td><td>7</td></tr><tr><td>White</td><td>4</td></tr><tr><td>Grey</td><td>1</td></tr></tbody></table></div>"
      ]
     },
     "metadata": {
      "application/vnd.databricks.v1+output": {
       "addedWidgets": {},
       "aggData": [],
       "aggError": "",
       "aggOverflow": false,
       "aggSchema": [],
       "aggSeriesLimitReached": false,
       "aggType": "",
       "arguments": {},
       "columnCustomDisplayInfos": {},
       "data": [
        [
         "Black",
         89
        ],
        [
         null,
         50
        ],
        [
         "Red",
         38
        ],
        [
         "Silver",
         36
        ],
        [
         "Yellow",
         36
        ],
        [
         "Blue",
         26
        ],
        [
         "Multi",
         8
        ],
        [
         "Silver/Black",
         7
        ],
        [
         "White",
         4
        ],
        [
         "Grey",
         1
        ]
       ],
       "datasetInfos": [],
       "dbfsResultPath": null,
       "isJsonSchema": true,
       "metadata": {},
       "overflow": false,
       "plotOptions": {
        "customPlotOptions": {},
        "displayType": "table",
        "pivotAggregation": null,
        "pivotColumns": null,
        "xColumns": null,
        "yColumns": null
       },
       "removedWidgets": [],
       "schema": [
        {
         "metadata": "{\"scale\":0}",
         "name": "color",
         "type": "\"string\""
        },
        {
         "metadata": "{}",
         "name": "count",
         "type": "\"long\""
        }
       ],
       "type": "table"
      }
     },
     "output_type": "display_data"
    }
   ],
   "source": [
    "%sql\n",
    "SELECT color, count(*) AS count\n",
    "FROM precios_mayores\n",
    "GROUP BY color\n",
    "ORDER BY count DESC;"
   ]
  },
  {
   "cell_type": "markdown",
   "metadata": {
    "application/vnd.databricks.v1+cell": {
     "cellMetadata": {},
     "inputWidgets": {},
     "nuid": "029c9baf-c56d-4f76-a364-2d34cb9a6d81",
     "showTitle": false,
     "tableResultSettingsMap": {},
     "title": ""
    }
   },
   "source": [
    "## 9. Calcular el costo total de todos los productos."
   ]
  },
  {
   "cell_type": "code",
   "execution_count": 0,
   "metadata": {
    "application/vnd.databricks.v1+cell": {
     "cellMetadata": {
      "byteLimit": 2048000,
      "implicitDf": true,
      "rowLimit": 10000
     },
     "inputWidgets": {},
     "nuid": "d3a33d79-f536-4ae8-b492-cb0499aa8fa3",
     "showTitle": false,
     "tableResultSettingsMap": {},
     "title": ""
    }
   },
   "outputs": [
    {
     "output_type": "display_data",
     "data": {
      "text/html": [
       "<style scoped>\n",
       "  .table-result-container {\n",
       "    max-height: 300px;\n",
       "    overflow: auto;\n",
       "  }\n",
       "  table, th, td {\n",
       "    border: 1px solid black;\n",
       "    border-collapse: collapse;\n",
       "  }\n",
       "  th, td {\n",
       "    padding: 5px;\n",
       "  }\n",
       "  th {\n",
       "    text-align: left;\n",
       "  }\n",
       "</style><div class='table-result-container'><table class='table-result'><thead style='background-color: white'><tr><th>totalCostes</th></tr></thead><tbody><tr><td>129275.0025</td></tr></tbody></table></div>"
      ]
     },
     "metadata": {
      "application/vnd.databricks.v1+output": {
       "addedWidgets": {},
       "aggData": [],
       "aggError": "",
       "aggOverflow": false,
       "aggSchema": [],
       "aggSeriesLimitReached": false,
       "aggType": "",
       "arguments": {},
       "columnCustomDisplayInfos": {},
       "data": [
        [
         "129275.0025"
        ]
       ],
       "datasetInfos": [],
       "dbfsResultPath": null,
       "isJsonSchema": true,
       "metadata": {},
       "overflow": false,
       "plotOptions": {
        "customPlotOptions": {},
        "displayType": "table",
        "pivotAggregation": null,
        "pivotColumns": null,
        "xColumns": null,
        "yColumns": null
       },
       "removedWidgets": [],
       "schema": [
        {
         "metadata": "{}",
         "name": "totalCostes",
         "type": "\"decimal(29,4)\""
        }
       ],
       "type": "table"
      }
     },
     "output_type": "display_data"
    }
   ],
   "source": [
    "%sql\n",
    "SELECT SUM(StandardCost) as totalCostes\n",
    "FROM precios_mayores"
   ]
  },
  {
   "cell_type": "markdown",
   "metadata": {
    "application/vnd.databricks.v1+cell": {
     "cellMetadata": {},
     "inputWidgets": {},
     "nuid": "df84eddf-d8bf-4946-bb0d-8dee05700123",
     "showTitle": false,
     "tableResultSettingsMap": {},
     "title": ""
    }
   },
   "source": [
    "## 10 Productos que contienen una palabra especifica en su nombre "
   ]
  },
  {
   "cell_type": "code",
   "execution_count": 0,
   "metadata": {
    "application/vnd.databricks.v1+cell": {
     "cellMetadata": {
      "byteLimit": 2048000,
      "implicitDf": true,
      "rowLimit": 10000
     },
     "inputWidgets": {},
     "nuid": "39320a1d-086c-4819-87d4-99bb2f9b8f31",
     "showTitle": false,
     "tableResultSettingsMap": {},
     "title": ""
    }
   },
   "outputs": [
    {
     "output_type": "display_data",
     "data": {
      "text/html": [
       "<style scoped>\n",
       "  .table-result-container {\n",
       "    max-height: 300px;\n",
       "    overflow: auto;\n",
       "  }\n",
       "  table, th, td {\n",
       "    border: 1px solid black;\n",
       "    border-collapse: collapse;\n",
       "  }\n",
       "  th, td {\n",
       "    padding: 5px;\n",
       "  }\n",
       "  th {\n",
       "    text-align: left;\n",
       "  }\n",
       "</style><div class='table-result-container'><table class='table-result'><thead style='background-color: white'><tr><th>ProductID</th><th>Name</th><th>ListPrice</th></tr></thead><tbody><tr><td>708</td><td>Sport-100 Helmet, Black</td><td>34.9900</td></tr><tr><td>711</td><td>Sport-100 Helmet, Blue</td><td>34.9900</td></tr><tr><td>707</td><td>Sport-100 Helmet, Red</td><td>34.9900</td></tr></tbody></table></div>"
      ]
     },
     "metadata": {
      "application/vnd.databricks.v1+output": {
       "addedWidgets": {},
       "aggData": [],
       "aggError": "",
       "aggOverflow": false,
       "aggSchema": [],
       "aggSeriesLimitReached": false,
       "aggType": "",
       "arguments": {},
       "columnCustomDisplayInfos": {},
       "data": [
        [
         708,
         "Sport-100 Helmet, Black",
         "34.9900"
        ],
        [
         711,
         "Sport-100 Helmet, Blue",
         "34.9900"
        ],
        [
         707,
         "Sport-100 Helmet, Red",
         "34.9900"
        ]
       ],
       "datasetInfos": [],
       "dbfsResultPath": null,
       "isJsonSchema": true,
       "metadata": {},
       "overflow": false,
       "plotOptions": {
        "customPlotOptions": {},
        "displayType": "table",
        "pivotAggregation": null,
        "pivotColumns": null,
        "xColumns": null,
        "yColumns": null
       },
       "removedWidgets": [],
       "schema": [
        {
         "metadata": "{\"scale\":0}",
         "name": "ProductID",
         "type": "\"integer\""
        },
        {
         "metadata": "{\"scale\":0}",
         "name": "Name",
         "type": "\"string\""
        },
        {
         "metadata": "{\"scale\":4}",
         "name": "ListPrice",
         "type": "\"decimal(19,4)\""
        }
       ],
       "type": "table"
      }
     },
     "output_type": "display_data"
    }
   ],
   "source": [
    "%sql\n",
    "SELECT ProductID, Name, ListPrice\n",
    "FROM precios_mayores\n",
    "WHERE Name LIKE '%Helmet%'"
   ]
  },
  {
   "cell_type": "markdown",
   "metadata": {
    "application/vnd.databricks.v1+cell": {
     "cellMetadata": {},
     "inputWidgets": {},
     "nuid": "6d3280dc-c319-4f7e-bf3c-581d317c031b",
     "showTitle": false,
     "tableResultSettingsMap": {},
     "title": ""
    }
   },
   "source": [
    "## 11. Listar productos de todos los productos."
   ]
  },
  {
   "cell_type": "code",
   "execution_count": 0,
   "metadata": {
    "application/vnd.databricks.v1+cell": {
     "cellMetadata": {
      "byteLimit": 2048000,
      "implicitDf": true,
      "rowLimit": 10000
     },
     "inputWidgets": {},
     "nuid": "57fb4d68-e56b-4f72-b501-d40094c9f966",
     "showTitle": false,
     "tableResultSettingsMap": {},
     "title": ""
    }
   },
   "outputs": [
    {
     "output_type": "display_data",
     "data": {
      "text/html": [
       "<style scoped>\n",
       "  .table-result-container {\n",
       "    max-height: 300px;\n",
       "    overflow: auto;\n",
       "  }\n",
       "  table, th, td {\n",
       "    border: 1px solid black;\n",
       "    border-collapse: collapse;\n",
       "  }\n",
       "  th, td {\n",
       "    padding: 5px;\n",
       "  }\n",
       "  th {\n",
       "    text-align: left;\n",
       "  }\n",
       "</style><div class='table-result-container'><table class='table-result'><thead style='background-color: white'><tr><th>ProductID</th><th>Name</th><th>SellStartDate</th></tr></thead><tbody><tr><td>707</td><td>Sport-100 Helmet, Red</td><td>2005-07-01T00:00:00.000+0000</td></tr><tr><td>708</td><td>Sport-100 Helmet, Black</td><td>2005-07-01T00:00:00.000+0000</td></tr><tr><td>709</td><td>Mountain Bike Socks, M</td><td>2005-07-01T00:00:00.000+0000</td></tr><tr><td>710</td><td>Mountain Bike Socks, L</td><td>2005-07-01T00:00:00.000+0000</td></tr><tr><td>711</td><td>Sport-100 Helmet, Blue</td><td>2005-07-01T00:00:00.000+0000</td></tr><tr><td>712</td><td>AWC Logo Cap</td><td>2005-07-01T00:00:00.000+0000</td></tr><tr><td>713</td><td>Long-Sleeve Logo Jersey, S</td><td>2005-07-01T00:00:00.000+0000</td></tr><tr><td>714</td><td>Long-Sleeve Logo Jersey, M</td><td>2005-07-01T00:00:00.000+0000</td></tr><tr><td>715</td><td>Long-Sleeve Logo Jersey, L</td><td>2005-07-01T00:00:00.000+0000</td></tr><tr><td>716</td><td>Long-Sleeve Logo Jersey, XL</td><td>2005-07-01T00:00:00.000+0000</td></tr><tr><td>717</td><td>HL Road Frame - Red, 62</td><td>2005-07-01T00:00:00.000+0000</td></tr><tr><td>718</td><td>HL Road Frame - Red, 44</td><td>2005-07-01T00:00:00.000+0000</td></tr><tr><td>719</td><td>HL Road Frame - Red, 48</td><td>2005-07-01T00:00:00.000+0000</td></tr><tr><td>720</td><td>HL Road Frame - Red, 52</td><td>2005-07-01T00:00:00.000+0000</td></tr><tr><td>721</td><td>HL Road Frame - Red, 56</td><td>2005-07-01T00:00:00.000+0000</td></tr><tr><td>722</td><td>LL Road Frame - Black, 58</td><td>2005-07-01T00:00:00.000+0000</td></tr><tr><td>723</td><td>LL Road Frame - Black, 60</td><td>2005-07-01T00:00:00.000+0000</td></tr><tr><td>724</td><td>LL Road Frame - Black, 62</td><td>2005-07-01T00:00:00.000+0000</td></tr><tr><td>725</td><td>LL Road Frame - Red, 44</td><td>2005-07-01T00:00:00.000+0000</td></tr><tr><td>726</td><td>LL Road Frame - Red, 48</td><td>2005-07-01T00:00:00.000+0000</td></tr><tr><td>727</td><td>LL Road Frame - Red, 52</td><td>2005-07-01T00:00:00.000+0000</td></tr><tr><td>728</td><td>LL Road Frame - Red, 58</td><td>2005-07-01T00:00:00.000+0000</td></tr><tr><td>729</td><td>LL Road Frame - Red, 60</td><td>2005-07-01T00:00:00.000+0000</td></tr><tr><td>730</td><td>LL Road Frame - Red, 62</td><td>2005-07-01T00:00:00.000+0000</td></tr><tr><td>731</td><td>ML Road Frame - Red, 44</td><td>2005-07-01T00:00:00.000+0000</td></tr><tr><td>732</td><td>ML Road Frame - Red, 48</td><td>2005-07-01T00:00:00.000+0000</td></tr><tr><td>733</td><td>ML Road Frame - Red, 52</td><td>2005-07-01T00:00:00.000+0000</td></tr><tr><td>734</td><td>ML Road Frame - Red, 58</td><td>2005-07-01T00:00:00.000+0000</td></tr><tr><td>735</td><td>ML Road Frame - Red, 60</td><td>2005-07-01T00:00:00.000+0000</td></tr><tr><td>736</td><td>LL Road Frame - Black, 44</td><td>2005-07-01T00:00:00.000+0000</td></tr><tr><td>737</td><td>LL Road Frame - Black, 48</td><td>2005-07-01T00:00:00.000+0000</td></tr><tr><td>738</td><td>LL Road Frame - Black, 52</td><td>2005-07-01T00:00:00.000+0000</td></tr><tr><td>739</td><td>HL Mountain Frame - Silver, 42</td><td>2005-07-01T00:00:00.000+0000</td></tr><tr><td>740</td><td>HL Mountain Frame - Silver, 44</td><td>2005-07-01T00:00:00.000+0000</td></tr><tr><td>741</td><td>HL Mountain Frame - Silver, 48</td><td>2005-07-01T00:00:00.000+0000</td></tr><tr><td>742</td><td>HL Mountain Frame - Silver, 46</td><td>2005-07-01T00:00:00.000+0000</td></tr><tr><td>743</td><td>HL Mountain Frame - Black, 42</td><td>2005-07-01T00:00:00.000+0000</td></tr><tr><td>744</td><td>HL Mountain Frame - Black, 44</td><td>2005-07-01T00:00:00.000+0000</td></tr><tr><td>745</td><td>HL Mountain Frame - Black, 48</td><td>2005-07-01T00:00:00.000+0000</td></tr><tr><td>746</td><td>HL Mountain Frame - Black, 46</td><td>2005-07-01T00:00:00.000+0000</td></tr><tr><td>747</td><td>HL Mountain Frame - Black, 38</td><td>2005-07-01T00:00:00.000+0000</td></tr><tr><td>748</td><td>HL Mountain Frame - Silver, 38</td><td>2005-07-01T00:00:00.000+0000</td></tr><tr><td>749</td><td>Road-150 Red, 62</td><td>2005-07-01T00:00:00.000+0000</td></tr><tr><td>750</td><td>Road-150 Red, 44</td><td>2005-07-01T00:00:00.000+0000</td></tr><tr><td>751</td><td>Road-150 Red, 48</td><td>2005-07-01T00:00:00.000+0000</td></tr><tr><td>752</td><td>Road-150 Red, 52</td><td>2005-07-01T00:00:00.000+0000</td></tr><tr><td>753</td><td>Road-150 Red, 56</td><td>2005-07-01T00:00:00.000+0000</td></tr><tr><td>754</td><td>Road-450 Red, 58</td><td>2005-07-01T00:00:00.000+0000</td></tr><tr><td>755</td><td>Road-450 Red, 60</td><td>2005-07-01T00:00:00.000+0000</td></tr><tr><td>756</td><td>Road-450 Red, 44</td><td>2005-07-01T00:00:00.000+0000</td></tr><tr><td>757</td><td>Road-450 Red, 48</td><td>2005-07-01T00:00:00.000+0000</td></tr><tr><td>758</td><td>Road-450 Red, 52</td><td>2005-07-01T00:00:00.000+0000</td></tr><tr><td>759</td><td>Road-650 Red, 58</td><td>2005-07-01T00:00:00.000+0000</td></tr><tr><td>760</td><td>Road-650 Red, 60</td><td>2005-07-01T00:00:00.000+0000</td></tr><tr><td>761</td><td>Road-650 Red, 62</td><td>2005-07-01T00:00:00.000+0000</td></tr><tr><td>762</td><td>Road-650 Red, 44</td><td>2005-07-01T00:00:00.000+0000</td></tr><tr><td>763</td><td>Road-650 Red, 48</td><td>2005-07-01T00:00:00.000+0000</td></tr><tr><td>764</td><td>Road-650 Red, 52</td><td>2005-07-01T00:00:00.000+0000</td></tr><tr><td>765</td><td>Road-650 Black, 58</td><td>2005-07-01T00:00:00.000+0000</td></tr><tr><td>766</td><td>Road-650 Black, 60</td><td>2005-07-01T00:00:00.000+0000</td></tr><tr><td>767</td><td>Road-650 Black, 62</td><td>2005-07-01T00:00:00.000+0000</td></tr><tr><td>768</td><td>Road-650 Black, 44</td><td>2005-07-01T00:00:00.000+0000</td></tr><tr><td>769</td><td>Road-650 Black, 48</td><td>2005-07-01T00:00:00.000+0000</td></tr><tr><td>770</td><td>Road-650 Black, 52</td><td>2005-07-01T00:00:00.000+0000</td></tr><tr><td>771</td><td>Mountain-100 Silver, 38</td><td>2005-07-01T00:00:00.000+0000</td></tr><tr><td>772</td><td>Mountain-100 Silver, 42</td><td>2005-07-01T00:00:00.000+0000</td></tr><tr><td>773</td><td>Mountain-100 Silver, 44</td><td>2005-07-01T00:00:00.000+0000</td></tr><tr><td>774</td><td>Mountain-100 Silver, 48</td><td>2005-07-01T00:00:00.000+0000</td></tr><tr><td>775</td><td>Mountain-100 Black, 38</td><td>2005-07-01T00:00:00.000+0000</td></tr><tr><td>776</td><td>Mountain-100 Black, 42</td><td>2005-07-01T00:00:00.000+0000</td></tr><tr><td>777</td><td>Mountain-100 Black, 44</td><td>2005-07-01T00:00:00.000+0000</td></tr><tr><td>778</td><td>Mountain-100 Black, 48</td><td>2005-07-01T00:00:00.000+0000</td></tr><tr><td>779</td><td>Mountain-200 Silver, 38</td><td>2006-07-01T00:00:00.000+0000</td></tr><tr><td>780</td><td>Mountain-200 Silver, 42</td><td>2006-07-01T00:00:00.000+0000</td></tr><tr><td>781</td><td>Mountain-200 Silver, 46</td><td>2006-07-01T00:00:00.000+0000</td></tr><tr><td>782</td><td>Mountain-200 Black, 38</td><td>2006-07-01T00:00:00.000+0000</td></tr><tr><td>783</td><td>Mountain-200 Black, 42</td><td>2006-07-01T00:00:00.000+0000</td></tr><tr><td>784</td><td>Mountain-200 Black, 46</td><td>2006-07-01T00:00:00.000+0000</td></tr><tr><td>785</td><td>Mountain-300 Black, 38</td><td>2006-07-01T00:00:00.000+0000</td></tr><tr><td>786</td><td>Mountain-300 Black, 40</td><td>2006-07-01T00:00:00.000+0000</td></tr><tr><td>787</td><td>Mountain-300 Black, 44</td><td>2006-07-01T00:00:00.000+0000</td></tr><tr><td>788</td><td>Mountain-300 Black, 48</td><td>2006-07-01T00:00:00.000+0000</td></tr><tr><td>789</td><td>Road-250 Red, 44</td><td>2006-07-01T00:00:00.000+0000</td></tr><tr><td>790</td><td>Road-250 Red, 48</td><td>2006-07-01T00:00:00.000+0000</td></tr><tr><td>791</td><td>Road-250 Red, 52</td><td>2006-07-01T00:00:00.000+0000</td></tr><tr><td>792</td><td>Road-250 Red, 58</td><td>2006-07-01T00:00:00.000+0000</td></tr><tr><td>793</td><td>Road-250 Black, 44</td><td>2006-07-01T00:00:00.000+0000</td></tr><tr><td>794</td><td>Road-250 Black, 48</td><td>2006-07-01T00:00:00.000+0000</td></tr><tr><td>795</td><td>Road-250 Black, 52</td><td>2006-07-01T00:00:00.000+0000</td></tr><tr><td>796</td><td>Road-250 Black, 58</td><td>2006-07-01T00:00:00.000+0000</td></tr><tr><td>797</td><td>Road-550-W Yellow, 38</td><td>2006-07-01T00:00:00.000+0000</td></tr><tr><td>798</td><td>Road-550-W Yellow, 40</td><td>2006-07-01T00:00:00.000+0000</td></tr><tr><td>799</td><td>Road-550-W Yellow, 42</td><td>2006-07-01T00:00:00.000+0000</td></tr><tr><td>800</td><td>Road-550-W Yellow, 44</td><td>2006-07-01T00:00:00.000+0000</td></tr><tr><td>801</td><td>Road-550-W Yellow, 48</td><td>2006-07-01T00:00:00.000+0000</td></tr><tr><td>802</td><td>LL Fork</td><td>2006-07-01T00:00:00.000+0000</td></tr><tr><td>803</td><td>ML Fork</td><td>2006-07-01T00:00:00.000+0000</td></tr><tr><td>804</td><td>HL Fork</td><td>2006-07-01T00:00:00.000+0000</td></tr><tr><td>805</td><td>LL Headset</td><td>2006-07-01T00:00:00.000+0000</td></tr><tr><td>806</td><td>ML Headset</td><td>2006-07-01T00:00:00.000+0000</td></tr><tr><td>807</td><td>HL Headset</td><td>2006-07-01T00:00:00.000+0000</td></tr><tr><td>808</td><td>LL Mountain Handlebars</td><td>2006-07-01T00:00:00.000+0000</td></tr><tr><td>809</td><td>ML Mountain Handlebars</td><td>2006-07-01T00:00:00.000+0000</td></tr><tr><td>810</td><td>HL Mountain Handlebars</td><td>2006-07-01T00:00:00.000+0000</td></tr><tr><td>811</td><td>LL Road Handlebars</td><td>2006-07-01T00:00:00.000+0000</td></tr><tr><td>812</td><td>ML Road Handlebars</td><td>2006-07-01T00:00:00.000+0000</td></tr><tr><td>813</td><td>HL Road Handlebars</td><td>2006-07-01T00:00:00.000+0000</td></tr><tr><td>814</td><td>ML Mountain Frame - Black, 38</td><td>2006-07-01T00:00:00.000+0000</td></tr><tr><td>815</td><td>LL Mountain Front Wheel</td><td>2006-07-01T00:00:00.000+0000</td></tr><tr><td>816</td><td>ML Mountain Front Wheel</td><td>2006-07-01T00:00:00.000+0000</td></tr><tr><td>817</td><td>HL Mountain Front Wheel</td><td>2006-07-01T00:00:00.000+0000</td></tr><tr><td>818</td><td>LL Road Front Wheel</td><td>2006-07-01T00:00:00.000+0000</td></tr><tr><td>819</td><td>ML Road Front Wheel</td><td>2006-07-01T00:00:00.000+0000</td></tr><tr><td>820</td><td>HL Road Front Wheel</td><td>2006-07-01T00:00:00.000+0000</td></tr><tr><td>821</td><td>Touring Front Wheel</td><td>2006-07-01T00:00:00.000+0000</td></tr><tr><td>822</td><td>ML Road Frame-W - Yellow, 38</td><td>2006-07-01T00:00:00.000+0000</td></tr><tr><td>823</td><td>LL Mountain Rear Wheel</td><td>2006-07-01T00:00:00.000+0000</td></tr><tr><td>824</td><td>ML Mountain Rear Wheel</td><td>2006-07-01T00:00:00.000+0000</td></tr><tr><td>825</td><td>HL Mountain Rear Wheel</td><td>2006-07-01T00:00:00.000+0000</td></tr><tr><td>826</td><td>LL Road Rear Wheel</td><td>2006-07-01T00:00:00.000+0000</td></tr><tr><td>827</td><td>ML Road Rear Wheel</td><td>2006-07-01T00:00:00.000+0000</td></tr><tr><td>828</td><td>HL Road Rear Wheel</td><td>2006-07-01T00:00:00.000+0000</td></tr><tr><td>829</td><td>Touring Rear Wheel</td><td>2006-07-01T00:00:00.000+0000</td></tr><tr><td>830</td><td>ML Mountain Frame - Black, 40</td><td>2006-07-01T00:00:00.000+0000</td></tr><tr><td>831</td><td>ML Mountain Frame - Black, 44</td><td>2006-07-01T00:00:00.000+0000</td></tr><tr><td>832</td><td>ML Mountain Frame - Black, 48</td><td>2006-07-01T00:00:00.000+0000</td></tr><tr><td>833</td><td>ML Road Frame-W - Yellow, 40</td><td>2006-07-01T00:00:00.000+0000</td></tr><tr><td>834</td><td>ML Road Frame-W - Yellow, 42</td><td>2006-07-01T00:00:00.000+0000</td></tr><tr><td>835</td><td>ML Road Frame-W - Yellow, 44</td><td>2006-07-01T00:00:00.000+0000</td></tr><tr><td>836</td><td>ML Road Frame-W - Yellow, 48</td><td>2006-07-01T00:00:00.000+0000</td></tr><tr><td>837</td><td>HL Road Frame - Black, 62</td><td>2006-07-01T00:00:00.000+0000</td></tr><tr><td>838</td><td>HL Road Frame - Black, 44</td><td>2006-07-01T00:00:00.000+0000</td></tr><tr><td>839</td><td>HL Road Frame - Black, 48</td><td>2006-07-01T00:00:00.000+0000</td></tr><tr><td>840</td><td>HL Road Frame - Black, 52</td><td>2006-07-01T00:00:00.000+0000</td></tr><tr><td>841</td><td>Men's Sports Shorts, S</td><td>2006-07-01T00:00:00.000+0000</td></tr><tr><td>842</td><td>Touring-Panniers, Large</td><td>2006-07-01T00:00:00.000+0000</td></tr><tr><td>843</td><td>Cable Lock</td><td>2006-07-01T00:00:00.000+0000</td></tr><tr><td>844</td><td>Minipump</td><td>2006-07-01T00:00:00.000+0000</td></tr><tr><td>845</td><td>Mountain Pump</td><td>2006-07-01T00:00:00.000+0000</td></tr><tr><td>846</td><td>Taillights - Battery-Powered</td><td>2006-07-01T00:00:00.000+0000</td></tr><tr><td>847</td><td>Headlights - Dual-Beam</td><td>2006-07-01T00:00:00.000+0000</td></tr><tr><td>848</td><td>Headlights - Weatherproof</td><td>2006-07-01T00:00:00.000+0000</td></tr><tr><td>849</td><td>Men's Sports Shorts, M</td><td>2006-07-01T00:00:00.000+0000</td></tr><tr><td>850</td><td>Men's Sports Shorts, L</td><td>2006-07-01T00:00:00.000+0000</td></tr><tr><td>851</td><td>Men's Sports Shorts, XL</td><td>2006-07-01T00:00:00.000+0000</td></tr><tr><td>852</td><td>Women's Tights, S</td><td>2006-07-01T00:00:00.000+0000</td></tr><tr><td>853</td><td>Women's Tights, M</td><td>2006-07-01T00:00:00.000+0000</td></tr><tr><td>854</td><td>Women's Tights, L</td><td>2006-07-01T00:00:00.000+0000</td></tr><tr><td>855</td><td>Men's Bib-Shorts, S</td><td>2006-07-01T00:00:00.000+0000</td></tr><tr><td>856</td><td>Men's Bib-Shorts, M</td><td>2006-07-01T00:00:00.000+0000</td></tr><tr><td>857</td><td>Men's Bib-Shorts, L</td><td>2006-07-01T00:00:00.000+0000</td></tr><tr><td>858</td><td>Half-Finger Gloves, S</td><td>2006-07-01T00:00:00.000+0000</td></tr><tr><td>859</td><td>Half-Finger Gloves, M</td><td>2006-07-01T00:00:00.000+0000</td></tr><tr><td>860</td><td>Half-Finger Gloves, L</td><td>2006-07-01T00:00:00.000+0000</td></tr><tr><td>861</td><td>Full-Finger Gloves, S</td><td>2006-07-01T00:00:00.000+0000</td></tr><tr><td>862</td><td>Full-Finger Gloves, M</td><td>2006-07-01T00:00:00.000+0000</td></tr><tr><td>863</td><td>Full-Finger Gloves, L</td><td>2006-07-01T00:00:00.000+0000</td></tr><tr><td>864</td><td>Classic Vest, S</td><td>2007-07-01T00:00:00.000+0000</td></tr><tr><td>865</td><td>Classic Vest, M</td><td>2007-07-01T00:00:00.000+0000</td></tr><tr><td>866</td><td>Classic Vest, L</td><td>2007-07-01T00:00:00.000+0000</td></tr><tr><td>867</td><td>Women's Mountain Shorts, S</td><td>2007-07-01T00:00:00.000+0000</td></tr><tr><td>868</td><td>Women's Mountain Shorts, M</td><td>2007-07-01T00:00:00.000+0000</td></tr><tr><td>869</td><td>Women's Mountain Shorts, L</td><td>2007-07-01T00:00:00.000+0000</td></tr><tr><td>870</td><td>Water Bottle - 30 oz.</td><td>2007-07-01T00:00:00.000+0000</td></tr><tr><td>871</td><td>Mountain Bottle Cage</td><td>2007-07-01T00:00:00.000+0000</td></tr><tr><td>872</td><td>Road Bottle Cage</td><td>2007-07-01T00:00:00.000+0000</td></tr><tr><td>873</td><td>Patch Kit/8 Patches</td><td>2007-07-01T00:00:00.000+0000</td></tr><tr><td>874</td><td>Racing Socks, M</td><td>2007-07-01T00:00:00.000+0000</td></tr><tr><td>875</td><td>Racing Socks, L</td><td>2007-07-01T00:00:00.000+0000</td></tr><tr><td>876</td><td>Hitch Rack - 4-Bike</td><td>2007-07-01T00:00:00.000+0000</td></tr><tr><td>877</td><td>Bike Wash - Dissolver</td><td>2007-07-01T00:00:00.000+0000</td></tr><tr><td>878</td><td>Fender Set - Mountain</td><td>2007-07-01T00:00:00.000+0000</td></tr><tr><td>879</td><td>All-Purpose Bike Stand</td><td>2007-07-01T00:00:00.000+0000</td></tr><tr><td>880</td><td>Hydration Pack - 70 oz.</td><td>2007-07-01T00:00:00.000+0000</td></tr><tr><td>881</td><td>Short-Sleeve Classic Jersey, S</td><td>2007-07-01T00:00:00.000+0000</td></tr><tr><td>882</td><td>Short-Sleeve Classic Jersey, M</td><td>2007-07-01T00:00:00.000+0000</td></tr><tr><td>883</td><td>Short-Sleeve Classic Jersey, L</td><td>2007-07-01T00:00:00.000+0000</td></tr><tr><td>884</td><td>Short-Sleeve Classic Jersey, XL</td><td>2007-07-01T00:00:00.000+0000</td></tr><tr><td>885</td><td>HL Touring Frame - Yellow, 60</td><td>2007-07-01T00:00:00.000+0000</td></tr><tr><td>886</td><td>LL Touring Frame - Yellow, 62</td><td>2007-07-01T00:00:00.000+0000</td></tr><tr><td>887</td><td>HL Touring Frame - Yellow, 46</td><td>2007-07-01T00:00:00.000+0000</td></tr><tr><td>888</td><td>HL Touring Frame - Yellow, 50</td><td>2007-07-01T00:00:00.000+0000</td></tr><tr><td>889</td><td>HL Touring Frame - Yellow, 54</td><td>2007-07-01T00:00:00.000+0000</td></tr><tr><td>890</td><td>HL Touring Frame - Blue, 46</td><td>2007-07-01T00:00:00.000+0000</td></tr><tr><td>891</td><td>HL Touring Frame - Blue, 50</td><td>2007-07-01T00:00:00.000+0000</td></tr><tr><td>892</td><td>HL Touring Frame - Blue, 54</td><td>2007-07-01T00:00:00.000+0000</td></tr><tr><td>893</td><td>HL Touring Frame - Blue, 60</td><td>2007-07-01T00:00:00.000+0000</td></tr><tr><td>894</td><td>Rear Derailleur</td><td>2007-07-01T00:00:00.000+0000</td></tr><tr><td>895</td><td>LL Touring Frame - Blue, 50</td><td>2007-07-01T00:00:00.000+0000</td></tr><tr><td>896</td><td>LL Touring Frame - Blue, 54</td><td>2007-07-01T00:00:00.000+0000</td></tr><tr><td>897</td><td>LL Touring Frame - Blue, 58</td><td>2007-07-01T00:00:00.000+0000</td></tr><tr><td>898</td><td>LL Touring Frame - Blue, 62</td><td>2007-07-01T00:00:00.000+0000</td></tr><tr><td>899</td><td>LL Touring Frame - Yellow, 44</td><td>2007-07-01T00:00:00.000+0000</td></tr><tr><td>900</td><td>LL Touring Frame - Yellow, 50</td><td>2007-07-01T00:00:00.000+0000</td></tr><tr><td>901</td><td>LL Touring Frame - Yellow, 54</td><td>2007-07-01T00:00:00.000+0000</td></tr><tr><td>902</td><td>LL Touring Frame - Yellow, 58</td><td>2007-07-01T00:00:00.000+0000</td></tr><tr><td>903</td><td>LL Touring Frame - Blue, 44</td><td>2007-07-01T00:00:00.000+0000</td></tr><tr><td>904</td><td>ML Mountain Frame-W - Silver, 40</td><td>2007-07-01T00:00:00.000+0000</td></tr><tr><td>905</td><td>ML Mountain Frame-W - Silver, 42</td><td>2007-07-01T00:00:00.000+0000</td></tr><tr><td>906</td><td>ML Mountain Frame-W - Silver, 46</td><td>2007-07-01T00:00:00.000+0000</td></tr><tr><td>907</td><td>Rear Brakes</td><td>2007-07-01T00:00:00.000+0000</td></tr><tr><td>908</td><td>LL Mountain Seat/Saddle</td><td>2007-07-01T00:00:00.000+0000</td></tr><tr><td>909</td><td>ML Mountain Seat/Saddle</td><td>2007-07-01T00:00:00.000+0000</td></tr><tr><td>910</td><td>HL Mountain Seat/Saddle</td><td>2007-07-01T00:00:00.000+0000</td></tr><tr><td>911</td><td>LL Road Seat/Saddle</td><td>2007-07-01T00:00:00.000+0000</td></tr><tr><td>912</td><td>ML Road Seat/Saddle</td><td>2007-07-01T00:00:00.000+0000</td></tr><tr><td>913</td><td>HL Road Seat/Saddle</td><td>2007-07-01T00:00:00.000+0000</td></tr><tr><td>914</td><td>LL Touring Seat/Saddle</td><td>2007-07-01T00:00:00.000+0000</td></tr><tr><td>915</td><td>ML Touring Seat/Saddle</td><td>2007-07-01T00:00:00.000+0000</td></tr><tr><td>916</td><td>HL Touring Seat/Saddle</td><td>2007-07-01T00:00:00.000+0000</td></tr><tr><td>917</td><td>LL Mountain Frame - Silver, 42</td><td>2007-07-01T00:00:00.000+0000</td></tr><tr><td>918</td><td>LL Mountain Frame - Silver, 44</td><td>2007-07-01T00:00:00.000+0000</td></tr><tr><td>919</td><td>LL Mountain Frame - Silver, 48</td><td>2007-07-01T00:00:00.000+0000</td></tr><tr><td>920</td><td>LL Mountain Frame - Silver, 52</td><td>2007-07-01T00:00:00.000+0000</td></tr><tr><td>921</td><td>Mountain Tire Tube</td><td>2007-07-01T00:00:00.000+0000</td></tr><tr><td>922</td><td>Road Tire Tube</td><td>2007-07-01T00:00:00.000+0000</td></tr><tr><td>923</td><td>Touring Tire Tube</td><td>2007-07-01T00:00:00.000+0000</td></tr><tr><td>924</td><td>LL Mountain Frame - Black, 42</td><td>2007-07-01T00:00:00.000+0000</td></tr><tr><td>925</td><td>LL Mountain Frame - Black, 44</td><td>2007-07-01T00:00:00.000+0000</td></tr><tr><td>926</td><td>LL Mountain Frame - Black, 48</td><td>2007-07-01T00:00:00.000+0000</td></tr><tr><td>927</td><td>LL Mountain Frame - Black, 52</td><td>2007-07-01T00:00:00.000+0000</td></tr><tr><td>928</td><td>LL Mountain Tire</td><td>2007-07-01T00:00:00.000+0000</td></tr><tr><td>929</td><td>ML Mountain Tire</td><td>2007-07-01T00:00:00.000+0000</td></tr><tr><td>930</td><td>HL Mountain Tire</td><td>2007-07-01T00:00:00.000+0000</td></tr><tr><td>931</td><td>LL Road Tire</td><td>2007-07-01T00:00:00.000+0000</td></tr><tr><td>932</td><td>ML Road Tire</td><td>2007-07-01T00:00:00.000+0000</td></tr><tr><td>933</td><td>HL Road Tire</td><td>2007-07-01T00:00:00.000+0000</td></tr><tr><td>934</td><td>Touring Tire</td><td>2007-07-01T00:00:00.000+0000</td></tr><tr><td>935</td><td>LL Mountain Pedal</td><td>2007-07-01T00:00:00.000+0000</td></tr><tr><td>936</td><td>ML Mountain Pedal</td><td>2007-07-01T00:00:00.000+0000</td></tr><tr><td>937</td><td>HL Mountain Pedal</td><td>2007-07-01T00:00:00.000+0000</td></tr><tr><td>938</td><td>LL Road Pedal</td><td>2007-07-01T00:00:00.000+0000</td></tr><tr><td>939</td><td>ML Road Pedal</td><td>2007-07-01T00:00:00.000+0000</td></tr><tr><td>940</td><td>HL Road Pedal</td><td>2007-07-01T00:00:00.000+0000</td></tr><tr><td>941</td><td>Touring Pedal</td><td>2007-07-01T00:00:00.000+0000</td></tr><tr><td>942</td><td>ML Mountain Frame-W - Silver, 38</td><td>2007-07-01T00:00:00.000+0000</td></tr><tr><td>943</td><td>LL Mountain Frame - Black, 40</td><td>2007-07-01T00:00:00.000+0000</td></tr><tr><td>944</td><td>LL Mountain Frame - Silver, 40</td><td>2007-07-01T00:00:00.000+0000</td></tr><tr><td>945</td><td>Front Derailleur</td><td>2007-07-01T00:00:00.000+0000</td></tr><tr><td>946</td><td>LL Touring Handlebars</td><td>2007-07-01T00:00:00.000+0000</td></tr><tr><td>947</td><td>HL Touring Handlebars</td><td>2007-07-01T00:00:00.000+0000</td></tr><tr><td>948</td><td>Front Brakes</td><td>2007-07-01T00:00:00.000+0000</td></tr><tr><td>949</td><td>LL Crankset</td><td>2007-07-01T00:00:00.000+0000</td></tr><tr><td>950</td><td>ML Crankset</td><td>2007-07-01T00:00:00.000+0000</td></tr><tr><td>951</td><td>HL Crankset</td><td>2007-07-01T00:00:00.000+0000</td></tr><tr><td>952</td><td>Chain</td><td>2007-07-01T00:00:00.000+0000</td></tr><tr><td>953</td><td>Touring-2000 Blue, 60</td><td>2007-07-01T00:00:00.000+0000</td></tr><tr><td>954</td><td>Touring-1000 Yellow, 46</td><td>2007-07-01T00:00:00.000+0000</td></tr><tr><td>955</td><td>Touring-1000 Yellow, 50</td><td>2007-07-01T00:00:00.000+0000</td></tr><tr><td>956</td><td>Touring-1000 Yellow, 54</td><td>2007-07-01T00:00:00.000+0000</td></tr><tr><td>957</td><td>Touring-1000 Yellow, 60</td><td>2007-07-01T00:00:00.000+0000</td></tr><tr><td>958</td><td>Touring-3000 Blue, 54</td><td>2007-07-01T00:00:00.000+0000</td></tr><tr><td>959</td><td>Touring-3000 Blue, 58</td><td>2007-07-01T00:00:00.000+0000</td></tr><tr><td>960</td><td>Touring-3000 Blue, 62</td><td>2007-07-01T00:00:00.000+0000</td></tr><tr><td>961</td><td>Touring-3000 Yellow, 44</td><td>2007-07-01T00:00:00.000+0000</td></tr><tr><td>962</td><td>Touring-3000 Yellow, 50</td><td>2007-07-01T00:00:00.000+0000</td></tr><tr><td>963</td><td>Touring-3000 Yellow, 54</td><td>2007-07-01T00:00:00.000+0000</td></tr><tr><td>964</td><td>Touring-3000 Yellow, 58</td><td>2007-07-01T00:00:00.000+0000</td></tr><tr><td>965</td><td>Touring-3000 Yellow, 62</td><td>2007-07-01T00:00:00.000+0000</td></tr><tr><td>966</td><td>Touring-1000 Blue, 46</td><td>2007-07-01T00:00:00.000+0000</td></tr><tr><td>967</td><td>Touring-1000 Blue, 50</td><td>2007-07-01T00:00:00.000+0000</td></tr><tr><td>968</td><td>Touring-1000 Blue, 54</td><td>2007-07-01T00:00:00.000+0000</td></tr><tr><td>969</td><td>Touring-1000 Blue, 60</td><td>2007-07-01T00:00:00.000+0000</td></tr><tr><td>970</td><td>Touring-2000 Blue, 46</td><td>2007-07-01T00:00:00.000+0000</td></tr><tr><td>971</td><td>Touring-2000 Blue, 50</td><td>2007-07-01T00:00:00.000+0000</td></tr><tr><td>972</td><td>Touring-2000 Blue, 54</td><td>2007-07-01T00:00:00.000+0000</td></tr><tr><td>973</td><td>Road-350-W Yellow, 40</td><td>2007-07-01T00:00:00.000+0000</td></tr><tr><td>974</td><td>Road-350-W Yellow, 42</td><td>2007-07-01T00:00:00.000+0000</td></tr><tr><td>975</td><td>Road-350-W Yellow, 44</td><td>2007-07-01T00:00:00.000+0000</td></tr><tr><td>976</td><td>Road-350-W Yellow, 48</td><td>2007-07-01T00:00:00.000+0000</td></tr><tr><td>977</td><td>Road-750 Black, 58</td><td>2007-07-01T00:00:00.000+0000</td></tr><tr><td>978</td><td>Touring-3000 Blue, 44</td><td>2007-07-01T00:00:00.000+0000</td></tr><tr><td>979</td><td>Touring-3000 Blue, 50</td><td>2007-07-01T00:00:00.000+0000</td></tr><tr><td>980</td><td>Mountain-400-W Silver, 38</td><td>2007-07-01T00:00:00.000+0000</td></tr><tr><td>981</td><td>Mountain-400-W Silver, 40</td><td>2007-07-01T00:00:00.000+0000</td></tr><tr><td>982</td><td>Mountain-400-W Silver, 42</td><td>2007-07-01T00:00:00.000+0000</td></tr><tr><td>983</td><td>Mountain-400-W Silver, 46</td><td>2007-07-01T00:00:00.000+0000</td></tr><tr><td>984</td><td>Mountain-500 Silver, 40</td><td>2007-07-01T00:00:00.000+0000</td></tr><tr><td>985</td><td>Mountain-500 Silver, 42</td><td>2007-07-01T00:00:00.000+0000</td></tr><tr><td>986</td><td>Mountain-500 Silver, 44</td><td>2007-07-01T00:00:00.000+0000</td></tr><tr><td>987</td><td>Mountain-500 Silver, 48</td><td>2007-07-01T00:00:00.000+0000</td></tr><tr><td>988</td><td>Mountain-500 Silver, 52</td><td>2007-07-01T00:00:00.000+0000</td></tr><tr><td>989</td><td>Mountain-500 Black, 40</td><td>2007-07-01T00:00:00.000+0000</td></tr><tr><td>990</td><td>Mountain-500 Black, 42</td><td>2007-07-01T00:00:00.000+0000</td></tr><tr><td>991</td><td>Mountain-500 Black, 44</td><td>2007-07-01T00:00:00.000+0000</td></tr><tr><td>992</td><td>Mountain-500 Black, 48</td><td>2007-07-01T00:00:00.000+0000</td></tr><tr><td>993</td><td>Mountain-500 Black, 52</td><td>2007-07-01T00:00:00.000+0000</td></tr><tr><td>994</td><td>LL Bottom Bracket</td><td>2007-07-01T00:00:00.000+0000</td></tr><tr><td>995</td><td>ML Bottom Bracket</td><td>2007-07-01T00:00:00.000+0000</td></tr><tr><td>996</td><td>HL Bottom Bracket</td><td>2007-07-01T00:00:00.000+0000</td></tr><tr><td>997</td><td>Road-750 Black, 44</td><td>2007-07-01T00:00:00.000+0000</td></tr><tr><td>998</td><td>Road-750 Black, 48</td><td>2007-07-01T00:00:00.000+0000</td></tr><tr><td>999</td><td>Road-750 Black, 52</td><td>2007-07-01T00:00:00.000+0000</td></tr></tbody></table></div>"
      ]
     },
     "metadata": {
      "application/vnd.databricks.v1+output": {
       "addedWidgets": {},
       "aggData": [],
       "aggError": "",
       "aggOverflow": false,
       "aggSchema": [],
       "aggSeriesLimitReached": false,
       "aggType": "",
       "arguments": {},
       "columnCustomDisplayInfos": {},
       "data": [
        [
         707,
         "Sport-100 Helmet, Red",
         "2005-07-01T00:00:00.000+0000"
        ],
        [
         708,
         "Sport-100 Helmet, Black",
         "2005-07-01T00:00:00.000+0000"
        ],
        [
         709,
         "Mountain Bike Socks, M",
         "2005-07-01T00:00:00.000+0000"
        ],
        [
         710,
         "Mountain Bike Socks, L",
         "2005-07-01T00:00:00.000+0000"
        ],
        [
         711,
         "Sport-100 Helmet, Blue",
         "2005-07-01T00:00:00.000+0000"
        ],
        [
         712,
         "AWC Logo Cap",
         "2005-07-01T00:00:00.000+0000"
        ],
        [
         713,
         "Long-Sleeve Logo Jersey, S",
         "2005-07-01T00:00:00.000+0000"
        ],
        [
         714,
         "Long-Sleeve Logo Jersey, M",
         "2005-07-01T00:00:00.000+0000"
        ],
        [
         715,
         "Long-Sleeve Logo Jersey, L",
         "2005-07-01T00:00:00.000+0000"
        ],
        [
         716,
         "Long-Sleeve Logo Jersey, XL",
         "2005-07-01T00:00:00.000+0000"
        ],
        [
         717,
         "HL Road Frame - Red, 62",
         "2005-07-01T00:00:00.000+0000"
        ],
        [
         718,
         "HL Road Frame - Red, 44",
         "2005-07-01T00:00:00.000+0000"
        ],
        [
         719,
         "HL Road Frame - Red, 48",
         "2005-07-01T00:00:00.000+0000"
        ],
        [
         720,
         "HL Road Frame - Red, 52",
         "2005-07-01T00:00:00.000+0000"
        ],
        [
         721,
         "HL Road Frame - Red, 56",
         "2005-07-01T00:00:00.000+0000"
        ],
        [
         722,
         "LL Road Frame - Black, 58",
         "2005-07-01T00:00:00.000+0000"
        ],
        [
         723,
         "LL Road Frame - Black, 60",
         "2005-07-01T00:00:00.000+0000"
        ],
        [
         724,
         "LL Road Frame - Black, 62",
         "2005-07-01T00:00:00.000+0000"
        ],
        [
         725,
         "LL Road Frame - Red, 44",
         "2005-07-01T00:00:00.000+0000"
        ],
        [
         726,
         "LL Road Frame - Red, 48",
         "2005-07-01T00:00:00.000+0000"
        ],
        [
         727,
         "LL Road Frame - Red, 52",
         "2005-07-01T00:00:00.000+0000"
        ],
        [
         728,
         "LL Road Frame - Red, 58",
         "2005-07-01T00:00:00.000+0000"
        ],
        [
         729,
         "LL Road Frame - Red, 60",
         "2005-07-01T00:00:00.000+0000"
        ],
        [
         730,
         "LL Road Frame - Red, 62",
         "2005-07-01T00:00:00.000+0000"
        ],
        [
         731,
         "ML Road Frame - Red, 44",
         "2005-07-01T00:00:00.000+0000"
        ],
        [
         732,
         "ML Road Frame - Red, 48",
         "2005-07-01T00:00:00.000+0000"
        ],
        [
         733,
         "ML Road Frame - Red, 52",
         "2005-07-01T00:00:00.000+0000"
        ],
        [
         734,
         "ML Road Frame - Red, 58",
         "2005-07-01T00:00:00.000+0000"
        ],
        [
         735,
         "ML Road Frame - Red, 60",
         "2005-07-01T00:00:00.000+0000"
        ],
        [
         736,
         "LL Road Frame - Black, 44",
         "2005-07-01T00:00:00.000+0000"
        ],
        [
         737,
         "LL Road Frame - Black, 48",
         "2005-07-01T00:00:00.000+0000"
        ],
        [
         738,
         "LL Road Frame - Black, 52",
         "2005-07-01T00:00:00.000+0000"
        ],
        [
         739,
         "HL Mountain Frame - Silver, 42",
         "2005-07-01T00:00:00.000+0000"
        ],
        [
         740,
         "HL Mountain Frame - Silver, 44",
         "2005-07-01T00:00:00.000+0000"
        ],
        [
         741,
         "HL Mountain Frame - Silver, 48",
         "2005-07-01T00:00:00.000+0000"
        ],
        [
         742,
         "HL Mountain Frame - Silver, 46",
         "2005-07-01T00:00:00.000+0000"
        ],
        [
         743,
         "HL Mountain Frame - Black, 42",
         "2005-07-01T00:00:00.000+0000"
        ],
        [
         744,
         "HL Mountain Frame - Black, 44",
         "2005-07-01T00:00:00.000+0000"
        ],
        [
         745,
         "HL Mountain Frame - Black, 48",
         "2005-07-01T00:00:00.000+0000"
        ],
        [
         746,
         "HL Mountain Frame - Black, 46",
         "2005-07-01T00:00:00.000+0000"
        ],
        [
         747,
         "HL Mountain Frame - Black, 38",
         "2005-07-01T00:00:00.000+0000"
        ],
        [
         748,
         "HL Mountain Frame - Silver, 38",
         "2005-07-01T00:00:00.000+0000"
        ],
        [
         749,
         "Road-150 Red, 62",
         "2005-07-01T00:00:00.000+0000"
        ],
        [
         750,
         "Road-150 Red, 44",
         "2005-07-01T00:00:00.000+0000"
        ],
        [
         751,
         "Road-150 Red, 48",
         "2005-07-01T00:00:00.000+0000"
        ],
        [
         752,
         "Road-150 Red, 52",
         "2005-07-01T00:00:00.000+0000"
        ],
        [
         753,
         "Road-150 Red, 56",
         "2005-07-01T00:00:00.000+0000"
        ],
        [
         754,
         "Road-450 Red, 58",
         "2005-07-01T00:00:00.000+0000"
        ],
        [
         755,
         "Road-450 Red, 60",
         "2005-07-01T00:00:00.000+0000"
        ],
        [
         756,
         "Road-450 Red, 44",
         "2005-07-01T00:00:00.000+0000"
        ],
        [
         757,
         "Road-450 Red, 48",
         "2005-07-01T00:00:00.000+0000"
        ],
        [
         758,
         "Road-450 Red, 52",
         "2005-07-01T00:00:00.000+0000"
        ],
        [
         759,
         "Road-650 Red, 58",
         "2005-07-01T00:00:00.000+0000"
        ],
        [
         760,
         "Road-650 Red, 60",
         "2005-07-01T00:00:00.000+0000"
        ],
        [
         761,
         "Road-650 Red, 62",
         "2005-07-01T00:00:00.000+0000"
        ],
        [
         762,
         "Road-650 Red, 44",
         "2005-07-01T00:00:00.000+0000"
        ],
        [
         763,
         "Road-650 Red, 48",
         "2005-07-01T00:00:00.000+0000"
        ],
        [
         764,
         "Road-650 Red, 52",
         "2005-07-01T00:00:00.000+0000"
        ],
        [
         765,
         "Road-650 Black, 58",
         "2005-07-01T00:00:00.000+0000"
        ],
        [
         766,
         "Road-650 Black, 60",
         "2005-07-01T00:00:00.000+0000"
        ],
        [
         767,
         "Road-650 Black, 62",
         "2005-07-01T00:00:00.000+0000"
        ],
        [
         768,
         "Road-650 Black, 44",
         "2005-07-01T00:00:00.000+0000"
        ],
        [
         769,
         "Road-650 Black, 48",
         "2005-07-01T00:00:00.000+0000"
        ],
        [
         770,
         "Road-650 Black, 52",
         "2005-07-01T00:00:00.000+0000"
        ],
        [
         771,
         "Mountain-100 Silver, 38",
         "2005-07-01T00:00:00.000+0000"
        ],
        [
         772,
         "Mountain-100 Silver, 42",
         "2005-07-01T00:00:00.000+0000"
        ],
        [
         773,
         "Mountain-100 Silver, 44",
         "2005-07-01T00:00:00.000+0000"
        ],
        [
         774,
         "Mountain-100 Silver, 48",
         "2005-07-01T00:00:00.000+0000"
        ],
        [
         775,
         "Mountain-100 Black, 38",
         "2005-07-01T00:00:00.000+0000"
        ],
        [
         776,
         "Mountain-100 Black, 42",
         "2005-07-01T00:00:00.000+0000"
        ],
        [
         777,
         "Mountain-100 Black, 44",
         "2005-07-01T00:00:00.000+0000"
        ],
        [
         778,
         "Mountain-100 Black, 48",
         "2005-07-01T00:00:00.000+0000"
        ],
        [
         779,
         "Mountain-200 Silver, 38",
         "2006-07-01T00:00:00.000+0000"
        ],
        [
         780,
         "Mountain-200 Silver, 42",
         "2006-07-01T00:00:00.000+0000"
        ],
        [
         781,
         "Mountain-200 Silver, 46",
         "2006-07-01T00:00:00.000+0000"
        ],
        [
         782,
         "Mountain-200 Black, 38",
         "2006-07-01T00:00:00.000+0000"
        ],
        [
         783,
         "Mountain-200 Black, 42",
         "2006-07-01T00:00:00.000+0000"
        ],
        [
         784,
         "Mountain-200 Black, 46",
         "2006-07-01T00:00:00.000+0000"
        ],
        [
         785,
         "Mountain-300 Black, 38",
         "2006-07-01T00:00:00.000+0000"
        ],
        [
         786,
         "Mountain-300 Black, 40",
         "2006-07-01T00:00:00.000+0000"
        ],
        [
         787,
         "Mountain-300 Black, 44",
         "2006-07-01T00:00:00.000+0000"
        ],
        [
         788,
         "Mountain-300 Black, 48",
         "2006-07-01T00:00:00.000+0000"
        ],
        [
         789,
         "Road-250 Red, 44",
         "2006-07-01T00:00:00.000+0000"
        ],
        [
         790,
         "Road-250 Red, 48",
         "2006-07-01T00:00:00.000+0000"
        ],
        [
         791,
         "Road-250 Red, 52",
         "2006-07-01T00:00:00.000+0000"
        ],
        [
         792,
         "Road-250 Red, 58",
         "2006-07-01T00:00:00.000+0000"
        ],
        [
         793,
         "Road-250 Black, 44",
         "2006-07-01T00:00:00.000+0000"
        ],
        [
         794,
         "Road-250 Black, 48",
         "2006-07-01T00:00:00.000+0000"
        ],
        [
         795,
         "Road-250 Black, 52",
         "2006-07-01T00:00:00.000+0000"
        ],
        [
         796,
         "Road-250 Black, 58",
         "2006-07-01T00:00:00.000+0000"
        ],
        [
         797,
         "Road-550-W Yellow, 38",
         "2006-07-01T00:00:00.000+0000"
        ],
        [
         798,
         "Road-550-W Yellow, 40",
         "2006-07-01T00:00:00.000+0000"
        ],
        [
         799,
         "Road-550-W Yellow, 42",
         "2006-07-01T00:00:00.000+0000"
        ],
        [
         800,
         "Road-550-W Yellow, 44",
         "2006-07-01T00:00:00.000+0000"
        ],
        [
         801,
         "Road-550-W Yellow, 48",
         "2006-07-01T00:00:00.000+0000"
        ],
        [
         802,
         "LL Fork",
         "2006-07-01T00:00:00.000+0000"
        ],
        [
         803,
         "ML Fork",
         "2006-07-01T00:00:00.000+0000"
        ],
        [
         804,
         "HL Fork",
         "2006-07-01T00:00:00.000+0000"
        ],
        [
         805,
         "LL Headset",
         "2006-07-01T00:00:00.000+0000"
        ],
        [
         806,
         "ML Headset",
         "2006-07-01T00:00:00.000+0000"
        ],
        [
         807,
         "HL Headset",
         "2006-07-01T00:00:00.000+0000"
        ],
        [
         808,
         "LL Mountain Handlebars",
         "2006-07-01T00:00:00.000+0000"
        ],
        [
         809,
         "ML Mountain Handlebars",
         "2006-07-01T00:00:00.000+0000"
        ],
        [
         810,
         "HL Mountain Handlebars",
         "2006-07-01T00:00:00.000+0000"
        ],
        [
         811,
         "LL Road Handlebars",
         "2006-07-01T00:00:00.000+0000"
        ],
        [
         812,
         "ML Road Handlebars",
         "2006-07-01T00:00:00.000+0000"
        ],
        [
         813,
         "HL Road Handlebars",
         "2006-07-01T00:00:00.000+0000"
        ],
        [
         814,
         "ML Mountain Frame - Black, 38",
         "2006-07-01T00:00:00.000+0000"
        ],
        [
         815,
         "LL Mountain Front Wheel",
         "2006-07-01T00:00:00.000+0000"
        ],
        [
         816,
         "ML Mountain Front Wheel",
         "2006-07-01T00:00:00.000+0000"
        ],
        [
         817,
         "HL Mountain Front Wheel",
         "2006-07-01T00:00:00.000+0000"
        ],
        [
         818,
         "LL Road Front Wheel",
         "2006-07-01T00:00:00.000+0000"
        ],
        [
         819,
         "ML Road Front Wheel",
         "2006-07-01T00:00:00.000+0000"
        ],
        [
         820,
         "HL Road Front Wheel",
         "2006-07-01T00:00:00.000+0000"
        ],
        [
         821,
         "Touring Front Wheel",
         "2006-07-01T00:00:00.000+0000"
        ],
        [
         822,
         "ML Road Frame-W - Yellow, 38",
         "2006-07-01T00:00:00.000+0000"
        ],
        [
         823,
         "LL Mountain Rear Wheel",
         "2006-07-01T00:00:00.000+0000"
        ],
        [
         824,
         "ML Mountain Rear Wheel",
         "2006-07-01T00:00:00.000+0000"
        ],
        [
         825,
         "HL Mountain Rear Wheel",
         "2006-07-01T00:00:00.000+0000"
        ],
        [
         826,
         "LL Road Rear Wheel",
         "2006-07-01T00:00:00.000+0000"
        ],
        [
         827,
         "ML Road Rear Wheel",
         "2006-07-01T00:00:00.000+0000"
        ],
        [
         828,
         "HL Road Rear Wheel",
         "2006-07-01T00:00:00.000+0000"
        ],
        [
         829,
         "Touring Rear Wheel",
         "2006-07-01T00:00:00.000+0000"
        ],
        [
         830,
         "ML Mountain Frame - Black, 40",
         "2006-07-01T00:00:00.000+0000"
        ],
        [
         831,
         "ML Mountain Frame - Black, 44",
         "2006-07-01T00:00:00.000+0000"
        ],
        [
         832,
         "ML Mountain Frame - Black, 48",
         "2006-07-01T00:00:00.000+0000"
        ],
        [
         833,
         "ML Road Frame-W - Yellow, 40",
         "2006-07-01T00:00:00.000+0000"
        ],
        [
         834,
         "ML Road Frame-W - Yellow, 42",
         "2006-07-01T00:00:00.000+0000"
        ],
        [
         835,
         "ML Road Frame-W - Yellow, 44",
         "2006-07-01T00:00:00.000+0000"
        ],
        [
         836,
         "ML Road Frame-W - Yellow, 48",
         "2006-07-01T00:00:00.000+0000"
        ],
        [
         837,
         "HL Road Frame - Black, 62",
         "2006-07-01T00:00:00.000+0000"
        ],
        [
         838,
         "HL Road Frame - Black, 44",
         "2006-07-01T00:00:00.000+0000"
        ],
        [
         839,
         "HL Road Frame - Black, 48",
         "2006-07-01T00:00:00.000+0000"
        ],
        [
         840,
         "HL Road Frame - Black, 52",
         "2006-07-01T00:00:00.000+0000"
        ],
        [
         841,
         "Men's Sports Shorts, S",
         "2006-07-01T00:00:00.000+0000"
        ],
        [
         842,
         "Touring-Panniers, Large",
         "2006-07-01T00:00:00.000+0000"
        ],
        [
         843,
         "Cable Lock",
         "2006-07-01T00:00:00.000+0000"
        ],
        [
         844,
         "Minipump",
         "2006-07-01T00:00:00.000+0000"
        ],
        [
         845,
         "Mountain Pump",
         "2006-07-01T00:00:00.000+0000"
        ],
        [
         846,
         "Taillights - Battery-Powered",
         "2006-07-01T00:00:00.000+0000"
        ],
        [
         847,
         "Headlights - Dual-Beam",
         "2006-07-01T00:00:00.000+0000"
        ],
        [
         848,
         "Headlights - Weatherproof",
         "2006-07-01T00:00:00.000+0000"
        ],
        [
         849,
         "Men's Sports Shorts, M",
         "2006-07-01T00:00:00.000+0000"
        ],
        [
         850,
         "Men's Sports Shorts, L",
         "2006-07-01T00:00:00.000+0000"
        ],
        [
         851,
         "Men's Sports Shorts, XL",
         "2006-07-01T00:00:00.000+0000"
        ],
        [
         852,
         "Women's Tights, S",
         "2006-07-01T00:00:00.000+0000"
        ],
        [
         853,
         "Women's Tights, M",
         "2006-07-01T00:00:00.000+0000"
        ],
        [
         854,
         "Women's Tights, L",
         "2006-07-01T00:00:00.000+0000"
        ],
        [
         855,
         "Men's Bib-Shorts, S",
         "2006-07-01T00:00:00.000+0000"
        ],
        [
         856,
         "Men's Bib-Shorts, M",
         "2006-07-01T00:00:00.000+0000"
        ],
        [
         857,
         "Men's Bib-Shorts, L",
         "2006-07-01T00:00:00.000+0000"
        ],
        [
         858,
         "Half-Finger Gloves, S",
         "2006-07-01T00:00:00.000+0000"
        ],
        [
         859,
         "Half-Finger Gloves, M",
         "2006-07-01T00:00:00.000+0000"
        ],
        [
         860,
         "Half-Finger Gloves, L",
         "2006-07-01T00:00:00.000+0000"
        ],
        [
         861,
         "Full-Finger Gloves, S",
         "2006-07-01T00:00:00.000+0000"
        ],
        [
         862,
         "Full-Finger Gloves, M",
         "2006-07-01T00:00:00.000+0000"
        ],
        [
         863,
         "Full-Finger Gloves, L",
         "2006-07-01T00:00:00.000+0000"
        ],
        [
         864,
         "Classic Vest, S",
         "2007-07-01T00:00:00.000+0000"
        ],
        [
         865,
         "Classic Vest, M",
         "2007-07-01T00:00:00.000+0000"
        ],
        [
         866,
         "Classic Vest, L",
         "2007-07-01T00:00:00.000+0000"
        ],
        [
         867,
         "Women's Mountain Shorts, S",
         "2007-07-01T00:00:00.000+0000"
        ],
        [
         868,
         "Women's Mountain Shorts, M",
         "2007-07-01T00:00:00.000+0000"
        ],
        [
         869,
         "Women's Mountain Shorts, L",
         "2007-07-01T00:00:00.000+0000"
        ],
        [
         870,
         "Water Bottle - 30 oz.",
         "2007-07-01T00:00:00.000+0000"
        ],
        [
         871,
         "Mountain Bottle Cage",
         "2007-07-01T00:00:00.000+0000"
        ],
        [
         872,
         "Road Bottle Cage",
         "2007-07-01T00:00:00.000+0000"
        ],
        [
         873,
         "Patch Kit/8 Patches",
         "2007-07-01T00:00:00.000+0000"
        ],
        [
         874,
         "Racing Socks, M",
         "2007-07-01T00:00:00.000+0000"
        ],
        [
         875,
         "Racing Socks, L",
         "2007-07-01T00:00:00.000+0000"
        ],
        [
         876,
         "Hitch Rack - 4-Bike",
         "2007-07-01T00:00:00.000+0000"
        ],
        [
         877,
         "Bike Wash - Dissolver",
         "2007-07-01T00:00:00.000+0000"
        ],
        [
         878,
         "Fender Set - Mountain",
         "2007-07-01T00:00:00.000+0000"
        ],
        [
         879,
         "All-Purpose Bike Stand",
         "2007-07-01T00:00:00.000+0000"
        ],
        [
         880,
         "Hydration Pack - 70 oz.",
         "2007-07-01T00:00:00.000+0000"
        ],
        [
         881,
         "Short-Sleeve Classic Jersey, S",
         "2007-07-01T00:00:00.000+0000"
        ],
        [
         882,
         "Short-Sleeve Classic Jersey, M",
         "2007-07-01T00:00:00.000+0000"
        ],
        [
         883,
         "Short-Sleeve Classic Jersey, L",
         "2007-07-01T00:00:00.000+0000"
        ],
        [
         884,
         "Short-Sleeve Classic Jersey, XL",
         "2007-07-01T00:00:00.000+0000"
        ],
        [
         885,
         "HL Touring Frame - Yellow, 60",
         "2007-07-01T00:00:00.000+0000"
        ],
        [
         886,
         "LL Touring Frame - Yellow, 62",
         "2007-07-01T00:00:00.000+0000"
        ],
        [
         887,
         "HL Touring Frame - Yellow, 46",
         "2007-07-01T00:00:00.000+0000"
        ],
        [
         888,
         "HL Touring Frame - Yellow, 50",
         "2007-07-01T00:00:00.000+0000"
        ],
        [
         889,
         "HL Touring Frame - Yellow, 54",
         "2007-07-01T00:00:00.000+0000"
        ],
        [
         890,
         "HL Touring Frame - Blue, 46",
         "2007-07-01T00:00:00.000+0000"
        ],
        [
         891,
         "HL Touring Frame - Blue, 50",
         "2007-07-01T00:00:00.000+0000"
        ],
        [
         892,
         "HL Touring Frame - Blue, 54",
         "2007-07-01T00:00:00.000+0000"
        ],
        [
         893,
         "HL Touring Frame - Blue, 60",
         "2007-07-01T00:00:00.000+0000"
        ],
        [
         894,
         "Rear Derailleur",
         "2007-07-01T00:00:00.000+0000"
        ],
        [
         895,
         "LL Touring Frame - Blue, 50",
         "2007-07-01T00:00:00.000+0000"
        ],
        [
         896,
         "LL Touring Frame - Blue, 54",
         "2007-07-01T00:00:00.000+0000"
        ],
        [
         897,
         "LL Touring Frame - Blue, 58",
         "2007-07-01T00:00:00.000+0000"
        ],
        [
         898,
         "LL Touring Frame - Blue, 62",
         "2007-07-01T00:00:00.000+0000"
        ],
        [
         899,
         "LL Touring Frame - Yellow, 44",
         "2007-07-01T00:00:00.000+0000"
        ],
        [
         900,
         "LL Touring Frame - Yellow, 50",
         "2007-07-01T00:00:00.000+0000"
        ],
        [
         901,
         "LL Touring Frame - Yellow, 54",
         "2007-07-01T00:00:00.000+0000"
        ],
        [
         902,
         "LL Touring Frame - Yellow, 58",
         "2007-07-01T00:00:00.000+0000"
        ],
        [
         903,
         "LL Touring Frame - Blue, 44",
         "2007-07-01T00:00:00.000+0000"
        ],
        [
         904,
         "ML Mountain Frame-W - Silver, 40",
         "2007-07-01T00:00:00.000+0000"
        ],
        [
         905,
         "ML Mountain Frame-W - Silver, 42",
         "2007-07-01T00:00:00.000+0000"
        ],
        [
         906,
         "ML Mountain Frame-W - Silver, 46",
         "2007-07-01T00:00:00.000+0000"
        ],
        [
         907,
         "Rear Brakes",
         "2007-07-01T00:00:00.000+0000"
        ],
        [
         908,
         "LL Mountain Seat/Saddle",
         "2007-07-01T00:00:00.000+0000"
        ],
        [
         909,
         "ML Mountain Seat/Saddle",
         "2007-07-01T00:00:00.000+0000"
        ],
        [
         910,
         "HL Mountain Seat/Saddle",
         "2007-07-01T00:00:00.000+0000"
        ],
        [
         911,
         "LL Road Seat/Saddle",
         "2007-07-01T00:00:00.000+0000"
        ],
        [
         912,
         "ML Road Seat/Saddle",
         "2007-07-01T00:00:00.000+0000"
        ],
        [
         913,
         "HL Road Seat/Saddle",
         "2007-07-01T00:00:00.000+0000"
        ],
        [
         914,
         "LL Touring Seat/Saddle",
         "2007-07-01T00:00:00.000+0000"
        ],
        [
         915,
         "ML Touring Seat/Saddle",
         "2007-07-01T00:00:00.000+0000"
        ],
        [
         916,
         "HL Touring Seat/Saddle",
         "2007-07-01T00:00:00.000+0000"
        ],
        [
         917,
         "LL Mountain Frame - Silver, 42",
         "2007-07-01T00:00:00.000+0000"
        ],
        [
         918,
         "LL Mountain Frame - Silver, 44",
         "2007-07-01T00:00:00.000+0000"
        ],
        [
         919,
         "LL Mountain Frame - Silver, 48",
         "2007-07-01T00:00:00.000+0000"
        ],
        [
         920,
         "LL Mountain Frame - Silver, 52",
         "2007-07-01T00:00:00.000+0000"
        ],
        [
         921,
         "Mountain Tire Tube",
         "2007-07-01T00:00:00.000+0000"
        ],
        [
         922,
         "Road Tire Tube",
         "2007-07-01T00:00:00.000+0000"
        ],
        [
         923,
         "Touring Tire Tube",
         "2007-07-01T00:00:00.000+0000"
        ],
        [
         924,
         "LL Mountain Frame - Black, 42",
         "2007-07-01T00:00:00.000+0000"
        ],
        [
         925,
         "LL Mountain Frame - Black, 44",
         "2007-07-01T00:00:00.000+0000"
        ],
        [
         926,
         "LL Mountain Frame - Black, 48",
         "2007-07-01T00:00:00.000+0000"
        ],
        [
         927,
         "LL Mountain Frame - Black, 52",
         "2007-07-01T00:00:00.000+0000"
        ],
        [
         928,
         "LL Mountain Tire",
         "2007-07-01T00:00:00.000+0000"
        ],
        [
         929,
         "ML Mountain Tire",
         "2007-07-01T00:00:00.000+0000"
        ],
        [
         930,
         "HL Mountain Tire",
         "2007-07-01T00:00:00.000+0000"
        ],
        [
         931,
         "LL Road Tire",
         "2007-07-01T00:00:00.000+0000"
        ],
        [
         932,
         "ML Road Tire",
         "2007-07-01T00:00:00.000+0000"
        ],
        [
         933,
         "HL Road Tire",
         "2007-07-01T00:00:00.000+0000"
        ],
        [
         934,
         "Touring Tire",
         "2007-07-01T00:00:00.000+0000"
        ],
        [
         935,
         "LL Mountain Pedal",
         "2007-07-01T00:00:00.000+0000"
        ],
        [
         936,
         "ML Mountain Pedal",
         "2007-07-01T00:00:00.000+0000"
        ],
        [
         937,
         "HL Mountain Pedal",
         "2007-07-01T00:00:00.000+0000"
        ],
        [
         938,
         "LL Road Pedal",
         "2007-07-01T00:00:00.000+0000"
        ],
        [
         939,
         "ML Road Pedal",
         "2007-07-01T00:00:00.000+0000"
        ],
        [
         940,
         "HL Road Pedal",
         "2007-07-01T00:00:00.000+0000"
        ],
        [
         941,
         "Touring Pedal",
         "2007-07-01T00:00:00.000+0000"
        ],
        [
         942,
         "ML Mountain Frame-W - Silver, 38",
         "2007-07-01T00:00:00.000+0000"
        ],
        [
         943,
         "LL Mountain Frame - Black, 40",
         "2007-07-01T00:00:00.000+0000"
        ],
        [
         944,
         "LL Mountain Frame - Silver, 40",
         "2007-07-01T00:00:00.000+0000"
        ],
        [
         945,
         "Front Derailleur",
         "2007-07-01T00:00:00.000+0000"
        ],
        [
         946,
         "LL Touring Handlebars",
         "2007-07-01T00:00:00.000+0000"
        ],
        [
         947,
         "HL Touring Handlebars",
         "2007-07-01T00:00:00.000+0000"
        ],
        [
         948,
         "Front Brakes",
         "2007-07-01T00:00:00.000+0000"
        ],
        [
         949,
         "LL Crankset",
         "2007-07-01T00:00:00.000+0000"
        ],
        [
         950,
         "ML Crankset",
         "2007-07-01T00:00:00.000+0000"
        ],
        [
         951,
         "HL Crankset",
         "2007-07-01T00:00:00.000+0000"
        ],
        [
         952,
         "Chain",
         "2007-07-01T00:00:00.000+0000"
        ],
        [
         953,
         "Touring-2000 Blue, 60",
         "2007-07-01T00:00:00.000+0000"
        ],
        [
         954,
         "Touring-1000 Yellow, 46",
         "2007-07-01T00:00:00.000+0000"
        ],
        [
         955,
         "Touring-1000 Yellow, 50",
         "2007-07-01T00:00:00.000+0000"
        ],
        [
         956,
         "Touring-1000 Yellow, 54",
         "2007-07-01T00:00:00.000+0000"
        ],
        [
         957,
         "Touring-1000 Yellow, 60",
         "2007-07-01T00:00:00.000+0000"
        ],
        [
         958,
         "Touring-3000 Blue, 54",
         "2007-07-01T00:00:00.000+0000"
        ],
        [
         959,
         "Touring-3000 Blue, 58",
         "2007-07-01T00:00:00.000+0000"
        ],
        [
         960,
         "Touring-3000 Blue, 62",
         "2007-07-01T00:00:00.000+0000"
        ],
        [
         961,
         "Touring-3000 Yellow, 44",
         "2007-07-01T00:00:00.000+0000"
        ],
        [
         962,
         "Touring-3000 Yellow, 50",
         "2007-07-01T00:00:00.000+0000"
        ],
        [
         963,
         "Touring-3000 Yellow, 54",
         "2007-07-01T00:00:00.000+0000"
        ],
        [
         964,
         "Touring-3000 Yellow, 58",
         "2007-07-01T00:00:00.000+0000"
        ],
        [
         965,
         "Touring-3000 Yellow, 62",
         "2007-07-01T00:00:00.000+0000"
        ],
        [
         966,
         "Touring-1000 Blue, 46",
         "2007-07-01T00:00:00.000+0000"
        ],
        [
         967,
         "Touring-1000 Blue, 50",
         "2007-07-01T00:00:00.000+0000"
        ],
        [
         968,
         "Touring-1000 Blue, 54",
         "2007-07-01T00:00:00.000+0000"
        ],
        [
         969,
         "Touring-1000 Blue, 60",
         "2007-07-01T00:00:00.000+0000"
        ],
        [
         970,
         "Touring-2000 Blue, 46",
         "2007-07-01T00:00:00.000+0000"
        ],
        [
         971,
         "Touring-2000 Blue, 50",
         "2007-07-01T00:00:00.000+0000"
        ],
        [
         972,
         "Touring-2000 Blue, 54",
         "2007-07-01T00:00:00.000+0000"
        ],
        [
         973,
         "Road-350-W Yellow, 40",
         "2007-07-01T00:00:00.000+0000"
        ],
        [
         974,
         "Road-350-W Yellow, 42",
         "2007-07-01T00:00:00.000+0000"
        ],
        [
         975,
         "Road-350-W Yellow, 44",
         "2007-07-01T00:00:00.000+0000"
        ],
        [
         976,
         "Road-350-W Yellow, 48",
         "2007-07-01T00:00:00.000+0000"
        ],
        [
         977,
         "Road-750 Black, 58",
         "2007-07-01T00:00:00.000+0000"
        ],
        [
         978,
         "Touring-3000 Blue, 44",
         "2007-07-01T00:00:00.000+0000"
        ],
        [
         979,
         "Touring-3000 Blue, 50",
         "2007-07-01T00:00:00.000+0000"
        ],
        [
         980,
         "Mountain-400-W Silver, 38",
         "2007-07-01T00:00:00.000+0000"
        ],
        [
         981,
         "Mountain-400-W Silver, 40",
         "2007-07-01T00:00:00.000+0000"
        ],
        [
         982,
         "Mountain-400-W Silver, 42",
         "2007-07-01T00:00:00.000+0000"
        ],
        [
         983,
         "Mountain-400-W Silver, 46",
         "2007-07-01T00:00:00.000+0000"
        ],
        [
         984,
         "Mountain-500 Silver, 40",
         "2007-07-01T00:00:00.000+0000"
        ],
        [
         985,
         "Mountain-500 Silver, 42",
         "2007-07-01T00:00:00.000+0000"
        ],
        [
         986,
         "Mountain-500 Silver, 44",
         "2007-07-01T00:00:00.000+0000"
        ],
        [
         987,
         "Mountain-500 Silver, 48",
         "2007-07-01T00:00:00.000+0000"
        ],
        [
         988,
         "Mountain-500 Silver, 52",
         "2007-07-01T00:00:00.000+0000"
        ],
        [
         989,
         "Mountain-500 Black, 40",
         "2007-07-01T00:00:00.000+0000"
        ],
        [
         990,
         "Mountain-500 Black, 42",
         "2007-07-01T00:00:00.000+0000"
        ],
        [
         991,
         "Mountain-500 Black, 44",
         "2007-07-01T00:00:00.000+0000"
        ],
        [
         992,
         "Mountain-500 Black, 48",
         "2007-07-01T00:00:00.000+0000"
        ],
        [
         993,
         "Mountain-500 Black, 52",
         "2007-07-01T00:00:00.000+0000"
        ],
        [
         994,
         "LL Bottom Bracket",
         "2007-07-01T00:00:00.000+0000"
        ],
        [
         995,
         "ML Bottom Bracket",
         "2007-07-01T00:00:00.000+0000"
        ],
        [
         996,
         "HL Bottom Bracket",
         "2007-07-01T00:00:00.000+0000"
        ],
        [
         997,
         "Road-750 Black, 44",
         "2007-07-01T00:00:00.000+0000"
        ],
        [
         998,
         "Road-750 Black, 48",
         "2007-07-01T00:00:00.000+0000"
        ],
        [
         999,
         "Road-750 Black, 52",
         "2007-07-01T00:00:00.000+0000"
        ]
       ],
       "datasetInfos": [],
       "dbfsResultPath": null,
       "isJsonSchema": true,
       "metadata": {},
       "overflow": false,
       "plotOptions": {
        "customPlotOptions": {},
        "displayType": "table",
        "pivotAggregation": null,
        "pivotColumns": null,
        "xColumns": null,
        "yColumns": null
       },
       "removedWidgets": [],
       "schema": [
        {
         "metadata": "{\"scale\":0}",
         "name": "ProductID",
         "type": "\"integer\""
        },
        {
         "metadata": "{\"scale\":0}",
         "name": "Name",
         "type": "\"string\""
        },
        {
         "metadata": "{\"scale\":3}",
         "name": "SellStartDate",
         "type": "\"timestamp\""
        }
       ],
       "type": "table"
      }
     },
     "output_type": "display_data"
    }
   ],
   "source": [
    "%sql\n",
    "SELECT ProductID, Name, SellStartDate\n",
    "FROM precios_mayores\n",
    "WHERE SellStartDate >= \"2005-01-01\""
   ]
  },
  {
   "cell_type": "markdown",
   "metadata": {
    "application/vnd.databricks.v1+cell": {
     "cellMetadata": {},
     "inputWidgets": {},
     "nuid": "7dbec284-1bfd-401f-b6df-62c97770d565",
     "showTitle": false,
     "tableResultSettingsMap": {},
     "title": ""
    }
   },
   "source": [
    "## 12. Producto más caro por categoría"
   ]
  },
  {
   "cell_type": "code",
   "execution_count": 0,
   "metadata": {
    "application/vnd.databricks.v1+cell": {
     "cellMetadata": {
      "byteLimit": 2048000,
      "implicitDf": true,
      "rowLimit": 10000
     },
     "inputWidgets": {},
     "nuid": "2d44f633-35d0-47f9-a755-1375fd62aca1",
     "showTitle": false,
     "tableResultSettingsMap": {},
     "title": ""
    }
   },
   "outputs": [
    {
     "output_type": "display_data",
     "data": {
      "text/html": [
       "<style scoped>\n",
       "  .table-result-container {\n",
       "    max-height: 300px;\n",
       "    overflow: auto;\n",
       "  }\n",
       "  table, th, td {\n",
       "    border: 1px solid black;\n",
       "    border-collapse: collapse;\n",
       "  }\n",
       "  th, td {\n",
       "    padding: 5px;\n",
       "  }\n",
       "  th {\n",
       "    text-align: left;\n",
       "  }\n",
       "</style><div class='table-result-container'><table class='table-result'><thead style='background-color: white'><tr><th>ProductCategoryID</th><th>MaxPrice</th></tr></thead><tbody><tr><td>6</td><td>3578.2700</td></tr><tr><td>5</td><td>3399.9900</td></tr><tr><td>7</td><td>2384.0700</td></tr><tr><td>18</td><td>1431.5000</td></tr><tr><td>16</td><td>1364.5000</td></tr><tr><td>20</td><td>1003.9100</td></tr><tr><td>12</td><td>404.9900</td></tr><tr><td>21</td><td>357.0600</td></tr><tr><td>14</td><td>229.4900</td></tr><tr><td>31</td><td>159.0000</td></tr><tr><td>39</td><td>125.0000</td></tr><tr><td>15</td><td>124.7300</td></tr><tr><td>9</td><td>121.4900</td></tr><tr><td>13</td><td>121.4600</td></tr><tr><td>8</td><td>120.2700</td></tr><tr><td>30</td><td>120.0000</td></tr><tr><td>10</td><td>106.5000</td></tr><tr><td>22</td><td>89.9900</td></tr><tr><td>17</td><td>80.9900</td></tr><tr><td>28</td><td>74.9900</td></tr><tr><td>26</td><td>69.9900</td></tr><tr><td>29</td><td>63.5000</td></tr><tr><td>36</td><td>54.9900</td></tr><tr><td>25</td><td>53.9900</td></tr><tr><td>19</td><td>52.6400</td></tr><tr><td>37</td><td>44.9900</td></tr><tr><td>24</td><td>37.9900</td></tr><tr><td>41</td><td>35.0000</td></tr><tr><td>35</td><td>34.9900</td></tr><tr><td>38</td><td>25.0000</td></tr><tr><td>40</td><td>24.9900</td></tr><tr><td>34</td><td>21.9800</td></tr><tr><td>11</td><td>20.2400</td></tr><tr><td>32</td><td>9.9900</td></tr><tr><td>27</td><td>9.5000</td></tr><tr><td>23</td><td>8.9900</td></tr><tr><td>33</td><td>7.9500</td></tr></tbody></table></div>"
      ]
     },
     "metadata": {
      "application/vnd.databricks.v1+output": {
       "addedWidgets": {},
       "aggData": [],
       "aggError": "",
       "aggOverflow": false,
       "aggSchema": [],
       "aggSeriesLimitReached": false,
       "aggType": "",
       "arguments": {},
       "columnCustomDisplayInfos": {},
       "data": [
        [
         6,
         "3578.2700"
        ],
        [
         5,
         "3399.9900"
        ],
        [
         7,
         "2384.0700"
        ],
        [
         18,
         "1431.5000"
        ],
        [
         16,
         "1364.5000"
        ],
        [
         20,
         "1003.9100"
        ],
        [
         12,
         "404.9900"
        ],
        [
         21,
         "357.0600"
        ],
        [
         14,
         "229.4900"
        ],
        [
         31,
         "159.0000"
        ],
        [
         39,
         "125.0000"
        ],
        [
         15,
         "124.7300"
        ],
        [
         9,
         "121.4900"
        ],
        [
         13,
         "121.4600"
        ],
        [
         8,
         "120.2700"
        ],
        [
         30,
         "120.0000"
        ],
        [
         10,
         "106.5000"
        ],
        [
         22,
         "89.9900"
        ],
        [
         17,
         "80.9900"
        ],
        [
         28,
         "74.9900"
        ],
        [
         26,
         "69.9900"
        ],
        [
         29,
         "63.5000"
        ],
        [
         36,
         "54.9900"
        ],
        [
         25,
         "53.9900"
        ],
        [
         19,
         "52.6400"
        ],
        [
         37,
         "44.9900"
        ],
        [
         24,
         "37.9900"
        ],
        [
         41,
         "35.0000"
        ],
        [
         35,
         "34.9900"
        ],
        [
         38,
         "25.0000"
        ],
        [
         40,
         "24.9900"
        ],
        [
         34,
         "21.9800"
        ],
        [
         11,
         "20.2400"
        ],
        [
         32,
         "9.9900"
        ],
        [
         27,
         "9.5000"
        ],
        [
         23,
         "8.9900"
        ],
        [
         33,
         "7.9500"
        ]
       ],
       "datasetInfos": [],
       "dbfsResultPath": null,
       "isJsonSchema": true,
       "metadata": {},
       "overflow": false,
       "plotOptions": {
        "customPlotOptions": {},
        "displayType": "table",
        "pivotAggregation": null,
        "pivotColumns": null,
        "xColumns": null,
        "yColumns": null
       },
       "removedWidgets": [],
       "schema": [
        {
         "metadata": "{\"scale\":0}",
         "name": "ProductCategoryID",
         "type": "\"integer\""
        },
        {
         "metadata": "{}",
         "name": "MaxPrice",
         "type": "\"decimal(19,4)\""
        }
       ],
       "type": "table"
      }
     },
     "output_type": "display_data"
    }
   ],
   "source": [
    "%sql\n",
    "SELECT ProductCategoryID, MAX(ListPrice) AS MaxPrice\n",
    "FROM precios_mayores\n",
    "GROUP BY ProductCategoryID\n",
    "ORDER BY MaxPrice DESC"
   ]
  },
  {
   "cell_type": "markdown",
   "metadata": {
    "application/vnd.databricks.v1+cell": {
     "cellMetadata": {},
     "inputWidgets": {},
     "nuid": "9cdcf095-48c0-4706-859b-7179f739c4b6",
     "showTitle": false,
     "tableResultSettingsMap": {},
     "title": ""
    }
   },
   "source": [
    "## 13. Calcular el precio promedio por categoría"
   ]
  },
  {
   "cell_type": "code",
   "execution_count": 0,
   "metadata": {
    "application/vnd.databricks.v1+cell": {
     "cellMetadata": {
      "byteLimit": 2048000,
      "implicitDf": true,
      "rowLimit": 10000
     },
     "inputWidgets": {},
     "nuid": "aa4a45d4-2181-4b5d-ad4b-50a5dac169d9",
     "showTitle": false,
     "tableResultSettingsMap": {},
     "title": ""
    }
   },
   "outputs": [
    {
     "output_type": "display_data",
     "data": {
      "text/html": [
       "<style scoped>\n",
       "  .table-result-container {\n",
       "    max-height: 300px;\n",
       "    overflow: auto;\n",
       "  }\n",
       "  table, th, td {\n",
       "    border: 1px solid black;\n",
       "    border-collapse: collapse;\n",
       "  }\n",
       "  th, td {\n",
       "    padding: 5px;\n",
       "  }\n",
       "  th {\n",
       "    text-align: left;\n",
       "  }\n",
       "</style><div class='table-result-container'><table class='table-result'><thead style='background-color: white'><tr><th>ProductCategoryID</th><th>AveragePrice</th></tr></thead><tbody><tr><td>5</td><td>1683.36500000</td></tr><tr><td>6</td><td>1597.45000000</td></tr><tr><td>7</td><td>1425.24818182</td></tr><tr><td>18</td><td>780.04363636</td></tr><tr><td>16</td><td>678.25357143</td></tr><tr><td>20</td><td>631.41555556</td></tr><tr><td>12</td><td>278.99000000</td></tr><tr><td>21</td><td>220.92928571</td></tr><tr><td>14</td><td>184.40000000</td></tr><tr><td>31</td><td>159.00000000</td></tr><tr><td>39</td><td>125.00000000</td></tr><tr><td>30</td><td>120.00000000</td></tr><tr><td>10</td><td>106.50000000</td></tr><tr><td>13</td><td>106.47500000</td></tr><tr><td>9</td><td>92.24000000</td></tr><tr><td>22</td><td>89.99000000</td></tr><tr><td>15</td><td>87.07333333</td></tr><tr><td>28</td><td>74.99000000</td></tr><tr><td>8</td><td>73.89000000</td></tr><tr><td>26</td><td>64.27571429</td></tr><tr><td>17</td><td>64.01857143</td></tr><tr><td>29</td><td>63.50000000</td></tr><tr><td>36</td><td>54.99000000</td></tr><tr><td>25</td><td>51.99000000</td></tr><tr><td>19</td><td>39.63333333</td></tr><tr><td>35</td><td>34.99000000</td></tr><tr><td>37</td><td>31.32333333</td></tr><tr><td>24</td><td>31.24000000</td></tr><tr><td>38</td><td>25.00000000</td></tr><tr><td>40</td><td>22.49000000</td></tr><tr><td>34</td><td>21.98000000</td></tr><tr><td>11</td><td>20.24000000</td></tr><tr><td>41</td><td>19.48272727</td></tr><tr><td>27</td><td>9.24500000</td></tr><tr><td>23</td><td>8.99000000</td></tr><tr><td>32</td><td>7.99000000</td></tr><tr><td>33</td><td>7.95000000</td></tr></tbody></table></div>"
      ]
     },
     "metadata": {
      "application/vnd.databricks.v1+output": {
       "addedWidgets": {},
       "aggData": [],
       "aggError": "",
       "aggOverflow": false,
       "aggSchema": [],
       "aggSeriesLimitReached": false,
       "aggType": "",
       "arguments": {},
       "columnCustomDisplayInfos": {},
       "data": [
        [
         5,
         "1683.36500000"
        ],
        [
         6,
         "1597.45000000"
        ],
        [
         7,
         "1425.24818182"
        ],
        [
         18,
         "780.04363636"
        ],
        [
         16,
         "678.25357143"
        ],
        [
         20,
         "631.41555556"
        ],
        [
         12,
         "278.99000000"
        ],
        [
         21,
         "220.92928571"
        ],
        [
         14,
         "184.40000000"
        ],
        [
         31,
         "159.00000000"
        ],
        [
         39,
         "125.00000000"
        ],
        [
         30,
         "120.00000000"
        ],
        [
         10,
         "106.50000000"
        ],
        [
         13,
         "106.47500000"
        ],
        [
         9,
         "92.24000000"
        ],
        [
         22,
         "89.99000000"
        ],
        [
         15,
         "87.07333333"
        ],
        [
         28,
         "74.99000000"
        ],
        [
         8,
         "73.89000000"
        ],
        [
         26,
         "64.27571429"
        ],
        [
         17,
         "64.01857143"
        ],
        [
         29,
         "63.50000000"
        ],
        [
         36,
         "54.99000000"
        ],
        [
         25,
         "51.99000000"
        ],
        [
         19,
         "39.63333333"
        ],
        [
         35,
         "34.99000000"
        ],
        [
         37,
         "31.32333333"
        ],
        [
         24,
         "31.24000000"
        ],
        [
         38,
         "25.00000000"
        ],
        [
         40,
         "22.49000000"
        ],
        [
         34,
         "21.98000000"
        ],
        [
         11,
         "20.24000000"
        ],
        [
         41,
         "19.48272727"
        ],
        [
         27,
         "9.24500000"
        ],
        [
         23,
         "8.99000000"
        ],
        [
         32,
         "7.99000000"
        ],
        [
         33,
         "7.95000000"
        ]
       ],
       "datasetInfos": [],
       "dbfsResultPath": null,
       "isJsonSchema": true,
       "metadata": {},
       "overflow": false,
       "plotOptions": {
        "customPlotOptions": {},
        "displayType": "table",
        "pivotAggregation": null,
        "pivotColumns": null,
        "xColumns": null,
        "yColumns": null
       },
       "removedWidgets": [],
       "schema": [
        {
         "metadata": "{\"scale\":0}",
         "name": "ProductCategoryID",
         "type": "\"integer\""
        },
        {
         "metadata": "{}",
         "name": "AveragePrice",
         "type": "\"decimal(23,8)\""
        }
       ],
       "type": "table"
      }
     },
     "output_type": "display_data"
    }
   ],
   "source": [
    "%sql\n",
    "SELECT ProductCategoryID, AVG(ListPrice) AS AveragePrice\n",
    "FROM precios_mayores\n",
    "GROUP BY ProductCategoryID\n",
    "ORDER BY AveragePrice DESC"
   ]
  },
  {
   "cell_type": "markdown",
   "metadata": {
    "application/vnd.databricks.v1+cell": {
     "cellMetadata": {},
     "inputWidgets": {},
     "nuid": "d70c3952-957d-4d23-ba2a-bd7ea18b4c3a",
     "showTitle": false,
     "tableResultSettingsMap": {},
     "title": ""
    }
   },
   "source": [
    "## 14. Encontrar productos descontinuados (Discontinued no es Null)"
   ]
  },
  {
   "cell_type": "code",
   "execution_count": 0,
   "metadata": {
    "application/vnd.databricks.v1+cell": {
     "cellMetadata": {
      "byteLimit": 2048000,
      "implicitDf": true,
      "rowLimit": 10000
     },
     "inputWidgets": {},
     "nuid": "34910854-32c2-4778-ad0b-72643b823c82",
     "showTitle": false,
     "tableResultSettingsMap": {},
     "title": ""
    }
   },
   "outputs": [
    {
     "output_type": "display_data",
     "data": {
      "text/html": [
       "<style scoped>\n",
       "  .table-result-container {\n",
       "    max-height: 300px;\n",
       "    overflow: auto;\n",
       "  }\n",
       "  table, th, td {\n",
       "    border: 1px solid black;\n",
       "    border-collapse: collapse;\n",
       "  }\n",
       "  th, td {\n",
       "    padding: 5px;\n",
       "  }\n",
       "  th {\n",
       "    text-align: left;\n",
       "  }\n",
       "</style><div class='table-result-container'><table class='table-result'><thead style='background-color: white'><tr><th>ProductID</th><th>Name</th><th>DiscontinuedDate</th></tr></thead><tbody></tbody></table></div>"
      ]
     },
     "metadata": {
      "application/vnd.databricks.v1+output": {
       "addedWidgets": {},
       "aggData": [],
       "aggError": "",
       "aggOverflow": false,
       "aggSchema": [],
       "aggSeriesLimitReached": false,
       "aggType": "",
       "arguments": {},
       "columnCustomDisplayInfos": {},
       "data": [],
       "datasetInfos": [],
       "dbfsResultPath": null,
       "isJsonSchema": true,
       "metadata": {},
       "overflow": false,
       "plotOptions": {
        "customPlotOptions": {},
        "displayType": "table",
        "pivotAggregation": null,
        "pivotColumns": null,
        "xColumns": null,
        "yColumns": null
       },
       "removedWidgets": [],
       "schema": [
        {
         "metadata": "{\"scale\":0}",
         "name": "ProductID",
         "type": "\"integer\""
        },
        {
         "metadata": "{\"scale\":0}",
         "name": "Name",
         "type": "\"string\""
        },
        {
         "metadata": "{\"scale\":3}",
         "name": "DiscontinuedDate",
         "type": "\"timestamp\""
        }
       ],
       "type": "table"
      }
     },
     "output_type": "display_data"
    }
   ],
   "source": [
    "%sql\n",
    "SELECT ProductID, Name, DiscontinuedDate\n",
    "FROM precios_mayores\n",
    "WHERE DiscontinuedDate !=\"null\""
   ]
  },
  {
   "cell_type": "markdown",
   "metadata": {
    "application/vnd.databricks.v1+cell": {
     "cellMetadata": {},
     "inputWidgets": {},
     "nuid": "b10e8656-a03b-4ae8-8bde-72dc26f732c8",
     "showTitle": false,
     "tableResultSettingsMap": {},
     "title": ""
    }
   },
   "source": [
    "## 15. Productos con precios mayores que su costo estándar"
   ]
  },
  {
   "cell_type": "code",
   "execution_count": 0,
   "metadata": {
    "application/vnd.databricks.v1+cell": {
     "cellMetadata": {
      "byteLimit": 2048000,
      "implicitDf": true,
      "rowLimit": 10000
     },
     "inputWidgets": {},
     "nuid": "1945c564-e1ff-4014-a5a1-6109f5b49421",
     "showTitle": false,
     "tableResultSettingsMap": {},
     "title": ""
    }
   },
   "outputs": [
    {
     "output_type": "display_data",
     "data": {
      "text/html": [
       "<style scoped>\n",
       "  .table-result-container {\n",
       "    max-height: 300px;\n",
       "    overflow: auto;\n",
       "  }\n",
       "  table, th, td {\n",
       "    border: 1px solid black;\n",
       "    border-collapse: collapse;\n",
       "  }\n",
       "  th, td {\n",
       "    padding: 5px;\n",
       "  }\n",
       "  th {\n",
       "    text-align: left;\n",
       "  }\n",
       "</style><div class='table-result-container'><table class='table-result'><thead style='background-color: white'><tr><th>ProductID</th><th>Name</th><th>ListPrice</th><th>StandardCost</th></tr></thead><tbody><tr><td>680</td><td>HL Road Frame - Black, 58</td><td>1431.5000</td><td>1059.3100</td></tr><tr><td>706</td><td>HL Road Frame - Red, 58</td><td>1431.5000</td><td>1059.3100</td></tr><tr><td>707</td><td>Sport-100 Helmet, Red</td><td>34.9900</td><td>13.0863</td></tr><tr><td>708</td><td>Sport-100 Helmet, Black</td><td>34.9900</td><td>13.0863</td></tr><tr><td>709</td><td>Mountain Bike Socks, M</td><td>9.5000</td><td>3.3963</td></tr><tr><td>710</td><td>Mountain Bike Socks, L</td><td>9.5000</td><td>3.3963</td></tr><tr><td>711</td><td>Sport-100 Helmet, Blue</td><td>34.9900</td><td>13.0863</td></tr><tr><td>712</td><td>AWC Logo Cap</td><td>8.9900</td><td>6.9223</td></tr><tr><td>713</td><td>Long-Sleeve Logo Jersey, S</td><td>49.9900</td><td>38.4923</td></tr><tr><td>714</td><td>Long-Sleeve Logo Jersey, M</td><td>49.9900</td><td>38.4923</td></tr><tr><td>715</td><td>Long-Sleeve Logo Jersey, L</td><td>49.9900</td><td>38.4923</td></tr><tr><td>716</td><td>Long-Sleeve Logo Jersey, XL</td><td>49.9900</td><td>38.4923</td></tr><tr><td>717</td><td>HL Road Frame - Red, 62</td><td>1431.5000</td><td>868.6342</td></tr><tr><td>718</td><td>HL Road Frame - Red, 44</td><td>1431.5000</td><td>868.6342</td></tr><tr><td>719</td><td>HL Road Frame - Red, 48</td><td>1431.5000</td><td>868.6342</td></tr><tr><td>720</td><td>HL Road Frame - Red, 52</td><td>1431.5000</td><td>868.6342</td></tr><tr><td>721</td><td>HL Road Frame - Red, 56</td><td>1431.5000</td><td>868.6342</td></tr><tr><td>722</td><td>LL Road Frame - Black, 58</td><td>337.2200</td><td>204.6251</td></tr><tr><td>723</td><td>LL Road Frame - Black, 60</td><td>337.2200</td><td>204.6251</td></tr><tr><td>724</td><td>LL Road Frame - Black, 62</td><td>337.2200</td><td>204.6251</td></tr><tr><td>725</td><td>LL Road Frame - Red, 44</td><td>337.2200</td><td>187.1571</td></tr><tr><td>726</td><td>LL Road Frame - Red, 48</td><td>337.2200</td><td>187.1571</td></tr><tr><td>727</td><td>LL Road Frame - Red, 52</td><td>337.2200</td><td>187.1571</td></tr><tr><td>728</td><td>LL Road Frame - Red, 58</td><td>337.2200</td><td>187.1571</td></tr><tr><td>729</td><td>LL Road Frame - Red, 60</td><td>337.2200</td><td>187.1571</td></tr><tr><td>730</td><td>LL Road Frame - Red, 62</td><td>337.2200</td><td>187.1571</td></tr><tr><td>731</td><td>ML Road Frame - Red, 44</td><td>594.8300</td><td>352.1394</td></tr><tr><td>732</td><td>ML Road Frame - Red, 48</td><td>594.8300</td><td>352.1394</td></tr><tr><td>733</td><td>ML Road Frame - Red, 52</td><td>594.8300</td><td>352.1394</td></tr><tr><td>734</td><td>ML Road Frame - Red, 58</td><td>594.8300</td><td>352.1394</td></tr><tr><td>735</td><td>ML Road Frame - Red, 60</td><td>594.8300</td><td>352.1394</td></tr><tr><td>736</td><td>LL Road Frame - Black, 44</td><td>337.2200</td><td>204.6251</td></tr><tr><td>737</td><td>LL Road Frame - Black, 48</td><td>337.2200</td><td>204.6251</td></tr><tr><td>738</td><td>LL Road Frame - Black, 52</td><td>337.2200</td><td>204.6251</td></tr><tr><td>739</td><td>HL Mountain Frame - Silver, 42</td><td>1364.5000</td><td>747.2002</td></tr><tr><td>740</td><td>HL Mountain Frame - Silver, 44</td><td>1364.5000</td><td>706.8110</td></tr><tr><td>741</td><td>HL Mountain Frame - Silver, 48</td><td>1364.5000</td><td>706.8110</td></tr><tr><td>742</td><td>HL Mountain Frame - Silver, 46</td><td>1364.5000</td><td>747.2002</td></tr><tr><td>743</td><td>HL Mountain Frame - Black, 42</td><td>1349.6000</td><td>739.0410</td></tr><tr><td>744</td><td>HL Mountain Frame - Black, 44</td><td>1349.6000</td><td>699.0928</td></tr><tr><td>745</td><td>HL Mountain Frame - Black, 48</td><td>1349.6000</td><td>699.0928</td></tr><tr><td>746</td><td>HL Mountain Frame - Black, 46</td><td>1349.6000</td><td>739.0410</td></tr><tr><td>747</td><td>HL Mountain Frame - Black, 38</td><td>1349.6000</td><td>739.0410</td></tr><tr><td>748</td><td>HL Mountain Frame - Silver, 38</td><td>1364.5000</td><td>747.2002</td></tr><tr><td>749</td><td>Road-150 Red, 62</td><td>3578.2700</td><td>2171.2942</td></tr><tr><td>750</td><td>Road-150 Red, 44</td><td>3578.2700</td><td>2171.2942</td></tr><tr><td>751</td><td>Road-150 Red, 48</td><td>3578.2700</td><td>2171.2942</td></tr><tr><td>752</td><td>Road-150 Red, 52</td><td>3578.2700</td><td>2171.2942</td></tr><tr><td>753</td><td>Road-150 Red, 56</td><td>3578.2700</td><td>2171.2942</td></tr><tr><td>754</td><td>Road-450 Red, 58</td><td>1457.9900</td><td>884.7083</td></tr><tr><td>755</td><td>Road-450 Red, 60</td><td>1457.9900</td><td>884.7083</td></tr><tr><td>756</td><td>Road-450 Red, 44</td><td>1457.9900</td><td>884.7083</td></tr><tr><td>757</td><td>Road-450 Red, 48</td><td>1457.9900</td><td>884.7083</td></tr><tr><td>758</td><td>Road-450 Red, 52</td><td>1457.9900</td><td>884.7083</td></tr><tr><td>759</td><td>Road-650 Red, 58</td><td>782.9900</td><td>486.7066</td></tr><tr><td>760</td><td>Road-650 Red, 60</td><td>782.9900</td><td>486.7066</td></tr><tr><td>761</td><td>Road-650 Red, 62</td><td>782.9900</td><td>486.7066</td></tr><tr><td>762</td><td>Road-650 Red, 44</td><td>782.9900</td><td>486.7066</td></tr><tr><td>763</td><td>Road-650 Red, 48</td><td>782.9900</td><td>486.7066</td></tr><tr><td>764</td><td>Road-650 Red, 52</td><td>782.9900</td><td>486.7066</td></tr><tr><td>765</td><td>Road-650 Black, 58</td><td>782.9900</td><td>486.7066</td></tr><tr><td>766</td><td>Road-650 Black, 60</td><td>782.9900</td><td>486.7066</td></tr><tr><td>767</td><td>Road-650 Black, 62</td><td>782.9900</td><td>486.7066</td></tr><tr><td>768</td><td>Road-650 Black, 44</td><td>782.9900</td><td>486.7066</td></tr><tr><td>769</td><td>Road-650 Black, 48</td><td>782.9900</td><td>486.7066</td></tr><tr><td>770</td><td>Road-650 Black, 52</td><td>782.9900</td><td>486.7066</td></tr><tr><td>771</td><td>Mountain-100 Silver, 38</td><td>3399.9900</td><td>1912.1544</td></tr><tr><td>772</td><td>Mountain-100 Silver, 42</td><td>3399.9900</td><td>1912.1544</td></tr><tr><td>773</td><td>Mountain-100 Silver, 44</td><td>3399.9900</td><td>1912.1544</td></tr><tr><td>774</td><td>Mountain-100 Silver, 48</td><td>3399.9900</td><td>1912.1544</td></tr><tr><td>775</td><td>Mountain-100 Black, 38</td><td>3374.9900</td><td>1898.0944</td></tr><tr><td>776</td><td>Mountain-100 Black, 42</td><td>3374.9900</td><td>1898.0944</td></tr><tr><td>777</td><td>Mountain-100 Black, 44</td><td>3374.9900</td><td>1898.0944</td></tr><tr><td>778</td><td>Mountain-100 Black, 48</td><td>3374.9900</td><td>1898.0944</td></tr><tr><td>779</td><td>Mountain-200 Silver, 38</td><td>2319.9900</td><td>1265.6195</td></tr><tr><td>780</td><td>Mountain-200 Silver, 42</td><td>2319.9900</td><td>1265.6195</td></tr><tr><td>781</td><td>Mountain-200 Silver, 46</td><td>2319.9900</td><td>1265.6195</td></tr><tr><td>782</td><td>Mountain-200 Black, 38</td><td>2294.9900</td><td>1251.9813</td></tr><tr><td>783</td><td>Mountain-200 Black, 42</td><td>2294.9900</td><td>1251.9813</td></tr><tr><td>784</td><td>Mountain-200 Black, 46</td><td>2294.9900</td><td>1251.9813</td></tr><tr><td>785</td><td>Mountain-300 Black, 38</td><td>1079.9900</td><td>598.4354</td></tr><tr><td>786</td><td>Mountain-300 Black, 40</td><td>1079.9900</td><td>598.4354</td></tr><tr><td>787</td><td>Mountain-300 Black, 44</td><td>1079.9900</td><td>598.4354</td></tr><tr><td>788</td><td>Mountain-300 Black, 48</td><td>1079.9900</td><td>598.4354</td></tr><tr><td>789</td><td>Road-250 Red, 44</td><td>2443.3500</td><td>1518.7864</td></tr><tr><td>790</td><td>Road-250 Red, 48</td><td>2443.3500</td><td>1518.7864</td></tr><tr><td>791</td><td>Road-250 Red, 52</td><td>2443.3500</td><td>1518.7864</td></tr><tr><td>792</td><td>Road-250 Red, 58</td><td>2443.3500</td><td>1554.9479</td></tr><tr><td>793</td><td>Road-250 Black, 44</td><td>2443.3500</td><td>1554.9479</td></tr><tr><td>794</td><td>Road-250 Black, 48</td><td>2443.3500</td><td>1554.9479</td></tr><tr><td>795</td><td>Road-250 Black, 52</td><td>2443.3500</td><td>1554.9479</td></tr><tr><td>796</td><td>Road-250 Black, 58</td><td>2443.3500</td><td>1554.9479</td></tr><tr><td>797</td><td>Road-550-W Yellow, 38</td><td>1120.4900</td><td>713.0798</td></tr><tr><td>798</td><td>Road-550-W Yellow, 40</td><td>1120.4900</td><td>713.0798</td></tr><tr><td>799</td><td>Road-550-W Yellow, 42</td><td>1120.4900</td><td>713.0798</td></tr><tr><td>800</td><td>Road-550-W Yellow, 44</td><td>1120.4900</td><td>713.0798</td></tr><tr><td>801</td><td>Road-550-W Yellow, 48</td><td>1120.4900</td><td>713.0798</td></tr><tr><td>802</td><td>LL Fork</td><td>148.2200</td><td>65.8097</td></tr><tr><td>803</td><td>ML Fork</td><td>175.4900</td><td>77.9176</td></tr><tr><td>804</td><td>HL Fork</td><td>229.4900</td><td>101.8936</td></tr><tr><td>805</td><td>LL Headset</td><td>34.2000</td><td>15.1848</td></tr><tr><td>806</td><td>ML Headset</td><td>102.2900</td><td>45.4168</td></tr><tr><td>807</td><td>HL Headset</td><td>124.7300</td><td>55.3801</td></tr><tr><td>808</td><td>LL Mountain Handlebars</td><td>44.5400</td><td>19.7758</td></tr><tr><td>809</td><td>ML Mountain Handlebars</td><td>61.9200</td><td>27.4925</td></tr><tr><td>810</td><td>HL Mountain Handlebars</td><td>120.2700</td><td>53.3999</td></tr><tr><td>811</td><td>LL Road Handlebars</td><td>44.5400</td><td>19.7758</td></tr><tr><td>812</td><td>ML Road Handlebars</td><td>61.9200</td><td>27.4925</td></tr><tr><td>813</td><td>HL Road Handlebars</td><td>120.2700</td><td>53.3999</td></tr><tr><td>814</td><td>ML Mountain Frame - Black, 38</td><td>348.7600</td><td>185.8193</td></tr><tr><td>815</td><td>LL Mountain Front Wheel</td><td>60.7450</td><td>26.9708</td></tr><tr><td>816</td><td>ML Mountain Front Wheel</td><td>209.0250</td><td>92.8071</td></tr><tr><td>817</td><td>HL Mountain Front Wheel</td><td>300.2150</td><td>133.2955</td></tr><tr><td>818</td><td>LL Road Front Wheel</td><td>85.5650</td><td>37.9909</td></tr><tr><td>819</td><td>ML Road Front Wheel</td><td>248.3850</td><td>110.2829</td></tr><tr><td>820</td><td>HL Road Front Wheel</td><td>330.0600</td><td>146.5466</td></tr><tr><td>821</td><td>Touring Front Wheel</td><td>218.0100</td><td>96.7964</td></tr><tr><td>822</td><td>ML Road Frame-W - Yellow, 38</td><td>594.8300</td><td>360.9428</td></tr><tr><td>823</td><td>LL Mountain Rear Wheel</td><td>87.7450</td><td>38.9588</td></tr><tr><td>824</td><td>ML Mountain Rear Wheel</td><td>236.0250</td><td>104.7951</td></tr><tr><td>825</td><td>HL Mountain Rear Wheel</td><td>327.2150</td><td>145.2835</td></tr><tr><td>826</td><td>LL Road Rear Wheel</td><td>112.5650</td><td>49.9789</td></tr><tr><td>827</td><td>ML Road Rear Wheel</td><td>275.3850</td><td>122.2709</td></tr><tr><td>828</td><td>HL Road Rear Wheel</td><td>357.0600</td><td>158.5346</td></tr><tr><td>829</td><td>Touring Rear Wheel</td><td>245.0100</td><td>108.7844</td></tr><tr><td>830</td><td>ML Mountain Frame - Black, 40</td><td>348.7600</td><td>185.8193</td></tr><tr><td>831</td><td>ML Mountain Frame - Black, 44</td><td>348.7600</td><td>185.8193</td></tr><tr><td>832</td><td>ML Mountain Frame - Black, 48</td><td>348.7600</td><td>185.8193</td></tr><tr><td>833</td><td>ML Road Frame-W - Yellow, 40</td><td>594.8300</td><td>360.9428</td></tr><tr><td>834</td><td>ML Road Frame-W - Yellow, 42</td><td>594.8300</td><td>360.9428</td></tr><tr><td>835</td><td>ML Road Frame-W - Yellow, 44</td><td>594.8300</td><td>360.9428</td></tr><tr><td>836</td><td>ML Road Frame-W - Yellow, 48</td><td>594.8300</td><td>360.9428</td></tr><tr><td>837</td><td>HL Road Frame - Black, 62</td><td>1431.5000</td><td>868.6342</td></tr><tr><td>838</td><td>HL Road Frame - Black, 44</td><td>1431.5000</td><td>868.6342</td></tr><tr><td>839</td><td>HL Road Frame - Black, 48</td><td>1431.5000</td><td>868.6342</td></tr><tr><td>840</td><td>HL Road Frame - Black, 52</td><td>1431.5000</td><td>868.6342</td></tr><tr><td>841</td><td>Men's Sports Shorts, S</td><td>59.9900</td><td>24.7459</td></tr><tr><td>842</td><td>Touring-Panniers, Large</td><td>125.0000</td><td>51.5625</td></tr><tr><td>843</td><td>Cable Lock</td><td>25.0000</td><td>10.3125</td></tr><tr><td>844</td><td>Minipump</td><td>19.9900</td><td>8.2459</td></tr><tr><td>845</td><td>Mountain Pump</td><td>24.9900</td><td>10.3084</td></tr><tr><td>846</td><td>Taillights - Battery-Powered</td><td>13.9900</td><td>5.7709</td></tr><tr><td>847</td><td>Headlights - Dual-Beam</td><td>34.9900</td><td>14.4334</td></tr><tr><td>848</td><td>Headlights - Weatherproof</td><td>44.9900</td><td>18.5584</td></tr><tr><td>849</td><td>Men's Sports Shorts, M</td><td>59.9900</td><td>24.7459</td></tr><tr><td>850</td><td>Men's Sports Shorts, L</td><td>59.9900</td><td>24.7459</td></tr><tr><td>851</td><td>Men's Sports Shorts, XL</td><td>59.9900</td><td>24.7459</td></tr><tr><td>852</td><td>Women's Tights, S</td><td>74.9900</td><td>30.9334</td></tr><tr><td>853</td><td>Women's Tights, M</td><td>74.9900</td><td>30.9334</td></tr><tr><td>854</td><td>Women's Tights, L</td><td>74.9900</td><td>30.9334</td></tr><tr><td>855</td><td>Men's Bib-Shorts, S</td><td>89.9900</td><td>37.1209</td></tr><tr><td>856</td><td>Men's Bib-Shorts, M</td><td>89.9900</td><td>37.1209</td></tr><tr><td>857</td><td>Men's Bib-Shorts, L</td><td>89.9900</td><td>37.1209</td></tr><tr><td>858</td><td>Half-Finger Gloves, S</td><td>24.4900</td><td>9.1593</td></tr><tr><td>859</td><td>Half-Finger Gloves, M</td><td>24.4900</td><td>9.1593</td></tr><tr><td>860</td><td>Half-Finger Gloves, L</td><td>24.4900</td><td>9.1593</td></tr><tr><td>861</td><td>Full-Finger Gloves, S</td><td>37.9900</td><td>15.6709</td></tr><tr><td>862</td><td>Full-Finger Gloves, M</td><td>37.9900</td><td>15.6709</td></tr><tr><td>863</td><td>Full-Finger Gloves, L</td><td>37.9900</td><td>15.6709</td></tr><tr><td>864</td><td>Classic Vest, S</td><td>63.5000</td><td>23.7490</td></tr><tr><td>865</td><td>Classic Vest, M</td><td>63.5000</td><td>23.7490</td></tr><tr><td>866</td><td>Classic Vest, L</td><td>63.5000</td><td>23.7490</td></tr><tr><td>867</td><td>Women's Mountain Shorts, S</td><td>69.9900</td><td>26.1763</td></tr><tr><td>868</td><td>Women's Mountain Shorts, M</td><td>69.9900</td><td>26.1763</td></tr><tr><td>869</td><td>Women's Mountain Shorts, L</td><td>69.9900</td><td>26.1763</td></tr><tr><td>870</td><td>Water Bottle - 30 oz.</td><td>4.9900</td><td>1.8663</td></tr><tr><td>871</td><td>Mountain Bottle Cage</td><td>9.9900</td><td>3.7363</td></tr><tr><td>872</td><td>Road Bottle Cage</td><td>8.9900</td><td>3.3623</td></tr><tr><td>873</td><td>Patch Kit/8 Patches</td><td>2.2900</td><td>0.8565</td></tr><tr><td>874</td><td>Racing Socks, M</td><td>8.9900</td><td>3.3623</td></tr><tr><td>875</td><td>Racing Socks, L</td><td>8.9900</td><td>3.3623</td></tr><tr><td>876</td><td>Hitch Rack - 4-Bike</td><td>120.0000</td><td>44.8800</td></tr><tr><td>877</td><td>Bike Wash - Dissolver</td><td>7.9500</td><td>2.9733</td></tr><tr><td>878</td><td>Fender Set - Mountain</td><td>21.9800</td><td>8.2205</td></tr><tr><td>879</td><td>All-Purpose Bike Stand</td><td>159.0000</td><td>59.4660</td></tr><tr><td>880</td><td>Hydration Pack - 70 oz.</td><td>54.9900</td><td>20.5663</td></tr><tr><td>881</td><td>Short-Sleeve Classic Jersey, S</td><td>53.9900</td><td>41.5723</td></tr><tr><td>882</td><td>Short-Sleeve Classic Jersey, M</td><td>53.9900</td><td>41.5723</td></tr><tr><td>883</td><td>Short-Sleeve Classic Jersey, L</td><td>53.9900</td><td>41.5723</td></tr><tr><td>884</td><td>Short-Sleeve Classic Jersey, XL</td><td>53.9900</td><td>41.5723</td></tr><tr><td>885</td><td>HL Touring Frame - Yellow, 60</td><td>1003.9100</td><td>601.7437</td></tr><tr><td>886</td><td>LL Touring Frame - Yellow, 62</td><td>333.4200</td><td>199.8519</td></tr><tr><td>887</td><td>HL Touring Frame - Yellow, 46</td><td>1003.9100</td><td>601.7437</td></tr><tr><td>888</td><td>HL Touring Frame - Yellow, 50</td><td>1003.9100</td><td>601.7437</td></tr><tr><td>889</td><td>HL Touring Frame - Yellow, 54</td><td>1003.9100</td><td>601.7437</td></tr><tr><td>890</td><td>HL Touring Frame - Blue, 46</td><td>1003.9100</td><td>601.7437</td></tr><tr><td>891</td><td>HL Touring Frame - Blue, 50</td><td>1003.9100</td><td>601.7437</td></tr><tr><td>892</td><td>HL Touring Frame - Blue, 54</td><td>1003.9100</td><td>601.7437</td></tr><tr><td>893</td><td>HL Touring Frame - Blue, 60</td><td>1003.9100</td><td>601.7437</td></tr><tr><td>894</td><td>Rear Derailleur</td><td>121.4600</td><td>53.9282</td></tr><tr><td>895</td><td>LL Touring Frame - Blue, 50</td><td>333.4200</td><td>199.8519</td></tr><tr><td>896</td><td>LL Touring Frame - Blue, 54</td><td>333.4200</td><td>199.8519</td></tr><tr><td>897</td><td>LL Touring Frame - Blue, 58</td><td>333.4200</td><td>199.8519</td></tr><tr><td>898</td><td>LL Touring Frame - Blue, 62</td><td>333.4200</td><td>199.8519</td></tr><tr><td>899</td><td>LL Touring Frame - Yellow, 44</td><td>333.4200</td><td>199.8519</td></tr><tr><td>900</td><td>LL Touring Frame - Yellow, 50</td><td>333.4200</td><td>199.8519</td></tr><tr><td>901</td><td>LL Touring Frame - Yellow, 54</td><td>333.4200</td><td>199.8519</td></tr><tr><td>902</td><td>LL Touring Frame - Yellow, 58</td><td>333.4200</td><td>199.8519</td></tr><tr><td>903</td><td>LL Touring Frame - Blue, 44</td><td>333.4200</td><td>199.8519</td></tr><tr><td>904</td><td>ML Mountain Frame-W - Silver, 40</td><td>364.0900</td><td>199.3757</td></tr><tr><td>905</td><td>ML Mountain Frame-W - Silver, 42</td><td>364.0900</td><td>199.3757</td></tr><tr><td>906</td><td>ML Mountain Frame-W - Silver, 46</td><td>364.0900</td><td>199.3757</td></tr><tr><td>907</td><td>Rear Brakes</td><td>106.5000</td><td>47.2860</td></tr><tr><td>908</td><td>LL Mountain Seat/Saddle</td><td>27.1200</td><td>12.0413</td></tr><tr><td>909</td><td>ML Mountain Seat/Saddle</td><td>39.1400</td><td>17.3782</td></tr><tr><td>910</td><td>HL Mountain Seat/Saddle</td><td>52.6400</td><td>23.3722</td></tr><tr><td>911</td><td>LL Road Seat/Saddle</td><td>27.1200</td><td>12.0413</td></tr><tr><td>912</td><td>ML Road Seat/Saddle</td><td>39.1400</td><td>17.3782</td></tr><tr><td>913</td><td>HL Road Seat/Saddle</td><td>52.6400</td><td>23.3722</td></tr><tr><td>914</td><td>LL Touring Seat/Saddle</td><td>27.1200</td><td>12.0413</td></tr><tr><td>915</td><td>ML Touring Seat/Saddle</td><td>39.1400</td><td>17.3782</td></tr><tr><td>916</td><td>HL Touring Seat/Saddle</td><td>52.6400</td><td>23.3722</td></tr><tr><td>917</td><td>LL Mountain Frame - Silver, 42</td><td>264.0500</td><td>144.5938</td></tr><tr><td>918</td><td>LL Mountain Frame - Silver, 44</td><td>264.0500</td><td>144.5938</td></tr><tr><td>919</td><td>LL Mountain Frame - Silver, 48</td><td>264.0500</td><td>144.5938</td></tr><tr><td>920</td><td>LL Mountain Frame - Silver, 52</td><td>264.0500</td><td>144.5938</td></tr><tr><td>921</td><td>Mountain Tire Tube</td><td>4.9900</td><td>1.8663</td></tr><tr><td>922</td><td>Road Tire Tube</td><td>3.9900</td><td>1.4923</td></tr><tr><td>923</td><td>Touring Tire Tube</td><td>4.9900</td><td>1.8663</td></tr><tr><td>924</td><td>LL Mountain Frame - Black, 42</td><td>249.7900</td><td>136.7850</td></tr><tr><td>925</td><td>LL Mountain Frame - Black, 44</td><td>249.7900</td><td>136.7850</td></tr><tr><td>926</td><td>LL Mountain Frame - Black, 48</td><td>249.7900</td><td>136.7850</td></tr><tr><td>927</td><td>LL Mountain Frame - Black, 52</td><td>249.7900</td><td>136.7850</td></tr><tr><td>928</td><td>LL Mountain Tire</td><td>24.9900</td><td>9.3463</td></tr><tr><td>929</td><td>ML Mountain Tire</td><td>29.9900</td><td>11.2163</td></tr><tr><td>930</td><td>HL Mountain Tire</td><td>35.0000</td><td>13.0900</td></tr><tr><td>931</td><td>LL Road Tire</td><td>21.4900</td><td>8.0373</td></tr><tr><td>932</td><td>ML Road Tire</td><td>24.9900</td><td>9.3463</td></tr><tr><td>933</td><td>HL Road Tire</td><td>32.6000</td><td>12.1924</td></tr><tr><td>934</td><td>Touring Tire</td><td>28.9900</td><td>10.8423</td></tr><tr><td>935</td><td>LL Mountain Pedal</td><td>40.4900</td><td>17.9776</td></tr><tr><td>936</td><td>ML Mountain Pedal</td><td>62.0900</td><td>27.5680</td></tr><tr><td>937</td><td>HL Mountain Pedal</td><td>80.9900</td><td>35.9596</td></tr><tr><td>938</td><td>LL Road Pedal</td><td>40.4900</td><td>17.9776</td></tr><tr><td>939</td><td>ML Road Pedal</td><td>62.0900</td><td>27.5680</td></tr><tr><td>940</td><td>HL Road Pedal</td><td>80.9900</td><td>35.9596</td></tr><tr><td>941</td><td>Touring Pedal</td><td>80.9900</td><td>35.9596</td></tr><tr><td>942</td><td>ML Mountain Frame-W - Silver, 38</td><td>364.0900</td><td>199.3757</td></tr><tr><td>943</td><td>LL Mountain Frame - Black, 40</td><td>249.7900</td><td>136.7850</td></tr><tr><td>944</td><td>LL Mountain Frame - Silver, 40</td><td>264.0500</td><td>144.5938</td></tr><tr><td>945</td><td>Front Derailleur</td><td>91.4900</td><td>40.6216</td></tr><tr><td>946</td><td>LL Touring Handlebars</td><td>46.0900</td><td>20.4640</td></tr><tr><td>947</td><td>HL Touring Handlebars</td><td>91.5700</td><td>40.6571</td></tr><tr><td>948</td><td>Front Brakes</td><td>106.5000</td><td>47.2860</td></tr><tr><td>949</td><td>LL Crankset</td><td>175.4900</td><td>77.9176</td></tr><tr><td>950</td><td>ML Crankset</td><td>256.4900</td><td>113.8816</td></tr><tr><td>951</td><td>HL Crankset</td><td>404.9900</td><td>179.8156</td></tr><tr><td>952</td><td>Chain</td><td>20.2400</td><td>8.9866</td></tr><tr><td>953</td><td>Touring-2000 Blue, 60</td><td>1214.8500</td><td>755.1508</td></tr><tr><td>954</td><td>Touring-1000 Yellow, 46</td><td>2384.0700</td><td>1481.9379</td></tr><tr><td>955</td><td>Touring-1000 Yellow, 50</td><td>2384.0700</td><td>1481.9379</td></tr><tr><td>956</td><td>Touring-1000 Yellow, 54</td><td>2384.0700</td><td>1481.9379</td></tr><tr><td>957</td><td>Touring-1000 Yellow, 60</td><td>2384.0700</td><td>1481.9379</td></tr><tr><td>958</td><td>Touring-3000 Blue, 54</td><td>742.3500</td><td>461.4448</td></tr><tr><td>959</td><td>Touring-3000 Blue, 58</td><td>742.3500</td><td>461.4448</td></tr><tr><td>960</td><td>Touring-3000 Blue, 62</td><td>742.3500</td><td>461.4448</td></tr><tr><td>961</td><td>Touring-3000 Yellow, 44</td><td>742.3500</td><td>461.4448</td></tr><tr><td>962</td><td>Touring-3000 Yellow, 50</td><td>742.3500</td><td>461.4448</td></tr><tr><td>963</td><td>Touring-3000 Yellow, 54</td><td>742.3500</td><td>461.4448</td></tr><tr><td>964</td><td>Touring-3000 Yellow, 58</td><td>742.3500</td><td>461.4448</td></tr><tr><td>965</td><td>Touring-3000 Yellow, 62</td><td>742.3500</td><td>461.4448</td></tr><tr><td>966</td><td>Touring-1000 Blue, 46</td><td>2384.0700</td><td>1481.9379</td></tr><tr><td>967</td><td>Touring-1000 Blue, 50</td><td>2384.0700</td><td>1481.9379</td></tr><tr><td>968</td><td>Touring-1000 Blue, 54</td><td>2384.0700</td><td>1481.9379</td></tr><tr><td>969</td><td>Touring-1000 Blue, 60</td><td>2384.0700</td><td>1481.9379</td></tr><tr><td>970</td><td>Touring-2000 Blue, 46</td><td>1214.8500</td><td>755.1508</td></tr><tr><td>971</td><td>Touring-2000 Blue, 50</td><td>1214.8500</td><td>755.1508</td></tr><tr><td>972</td><td>Touring-2000 Blue, 54</td><td>1214.8500</td><td>755.1508</td></tr><tr><td>973</td><td>Road-350-W Yellow, 40</td><td>1700.9900</td><td>1082.5100</td></tr><tr><td>974</td><td>Road-350-W Yellow, 42</td><td>1700.9900</td><td>1082.5100</td></tr><tr><td>975</td><td>Road-350-W Yellow, 44</td><td>1700.9900</td><td>1082.5100</td></tr><tr><td>976</td><td>Road-350-W Yellow, 48</td><td>1700.9900</td><td>1082.5100</td></tr><tr><td>977</td><td>Road-750 Black, 58</td><td>539.9900</td><td>343.6496</td></tr><tr><td>978</td><td>Touring-3000 Blue, 44</td><td>742.3500</td><td>461.4448</td></tr><tr><td>979</td><td>Touring-3000 Blue, 50</td><td>742.3500</td><td>461.4448</td></tr><tr><td>980</td><td>Mountain-400-W Silver, 38</td><td>769.4900</td><td>419.7784</td></tr><tr><td>981</td><td>Mountain-400-W Silver, 40</td><td>769.4900</td><td>419.7784</td></tr><tr><td>982</td><td>Mountain-400-W Silver, 42</td><td>769.4900</td><td>419.7784</td></tr><tr><td>983</td><td>Mountain-400-W Silver, 46</td><td>769.4900</td><td>419.7784</td></tr><tr><td>984</td><td>Mountain-500 Silver, 40</td><td>564.9900</td><td>308.2179</td></tr><tr><td>985</td><td>Mountain-500 Silver, 42</td><td>564.9900</td><td>308.2179</td></tr><tr><td>986</td><td>Mountain-500 Silver, 44</td><td>564.9900</td><td>308.2179</td></tr><tr><td>987</td><td>Mountain-500 Silver, 48</td><td>564.9900</td><td>308.2179</td></tr><tr><td>988</td><td>Mountain-500 Silver, 52</td><td>564.9900</td><td>308.2179</td></tr><tr><td>989</td><td>Mountain-500 Black, 40</td><td>539.9900</td><td>294.5797</td></tr><tr><td>990</td><td>Mountain-500 Black, 42</td><td>539.9900</td><td>294.5797</td></tr><tr><td>991</td><td>Mountain-500 Black, 44</td><td>539.9900</td><td>294.5797</td></tr><tr><td>992</td><td>Mountain-500 Black, 48</td><td>539.9900</td><td>294.5797</td></tr><tr><td>993</td><td>Mountain-500 Black, 52</td><td>539.9900</td><td>294.5797</td></tr><tr><td>994</td><td>LL Bottom Bracket</td><td>53.9900</td><td>23.9716</td></tr><tr><td>995</td><td>ML Bottom Bracket</td><td>101.2400</td><td>44.9506</td></tr><tr><td>996</td><td>HL Bottom Bracket</td><td>121.4900</td><td>53.9416</td></tr><tr><td>997</td><td>Road-750 Black, 44</td><td>539.9900</td><td>343.6496</td></tr><tr><td>998</td><td>Road-750 Black, 48</td><td>539.9900</td><td>343.6496</td></tr><tr><td>999</td><td>Road-750 Black, 52</td><td>539.9900</td><td>343.6496</td></tr></tbody></table></div>"
      ]
     },
     "metadata": {
      "application/vnd.databricks.v1+output": {
       "addedWidgets": {},
       "aggData": [],
       "aggError": "",
       "aggOverflow": false,
       "aggSchema": [],
       "aggSeriesLimitReached": false,
       "aggType": "",
       "arguments": {},
       "columnCustomDisplayInfos": {},
       "data": [
        [
         680,
         "HL Road Frame - Black, 58",
         "1431.5000",
         "1059.3100"
        ],
        [
         706,
         "HL Road Frame - Red, 58",
         "1431.5000",
         "1059.3100"
        ],
        [
         707,
         "Sport-100 Helmet, Red",
         "34.9900",
         "13.0863"
        ],
        [
         708,
         "Sport-100 Helmet, Black",
         "34.9900",
         "13.0863"
        ],
        [
         709,
         "Mountain Bike Socks, M",
         "9.5000",
         "3.3963"
        ],
        [
         710,
         "Mountain Bike Socks, L",
         "9.5000",
         "3.3963"
        ],
        [
         711,
         "Sport-100 Helmet, Blue",
         "34.9900",
         "13.0863"
        ],
        [
         712,
         "AWC Logo Cap",
         "8.9900",
         "6.9223"
        ],
        [
         713,
         "Long-Sleeve Logo Jersey, S",
         "49.9900",
         "38.4923"
        ],
        [
         714,
         "Long-Sleeve Logo Jersey, M",
         "49.9900",
         "38.4923"
        ],
        [
         715,
         "Long-Sleeve Logo Jersey, L",
         "49.9900",
         "38.4923"
        ],
        [
         716,
         "Long-Sleeve Logo Jersey, XL",
         "49.9900",
         "38.4923"
        ],
        [
         717,
         "HL Road Frame - Red, 62",
         "1431.5000",
         "868.6342"
        ],
        [
         718,
         "HL Road Frame - Red, 44",
         "1431.5000",
         "868.6342"
        ],
        [
         719,
         "HL Road Frame - Red, 48",
         "1431.5000",
         "868.6342"
        ],
        [
         720,
         "HL Road Frame - Red, 52",
         "1431.5000",
         "868.6342"
        ],
        [
         721,
         "HL Road Frame - Red, 56",
         "1431.5000",
         "868.6342"
        ],
        [
         722,
         "LL Road Frame - Black, 58",
         "337.2200",
         "204.6251"
        ],
        [
         723,
         "LL Road Frame - Black, 60",
         "337.2200",
         "204.6251"
        ],
        [
         724,
         "LL Road Frame - Black, 62",
         "337.2200",
         "204.6251"
        ],
        [
         725,
         "LL Road Frame - Red, 44",
         "337.2200",
         "187.1571"
        ],
        [
         726,
         "LL Road Frame - Red, 48",
         "337.2200",
         "187.1571"
        ],
        [
         727,
         "LL Road Frame - Red, 52",
         "337.2200",
         "187.1571"
        ],
        [
         728,
         "LL Road Frame - Red, 58",
         "337.2200",
         "187.1571"
        ],
        [
         729,
         "LL Road Frame - Red, 60",
         "337.2200",
         "187.1571"
        ],
        [
         730,
         "LL Road Frame - Red, 62",
         "337.2200",
         "187.1571"
        ],
        [
         731,
         "ML Road Frame - Red, 44",
         "594.8300",
         "352.1394"
        ],
        [
         732,
         "ML Road Frame - Red, 48",
         "594.8300",
         "352.1394"
        ],
        [
         733,
         "ML Road Frame - Red, 52",
         "594.8300",
         "352.1394"
        ],
        [
         734,
         "ML Road Frame - Red, 58",
         "594.8300",
         "352.1394"
        ],
        [
         735,
         "ML Road Frame - Red, 60",
         "594.8300",
         "352.1394"
        ],
        [
         736,
         "LL Road Frame - Black, 44",
         "337.2200",
         "204.6251"
        ],
        [
         737,
         "LL Road Frame - Black, 48",
         "337.2200",
         "204.6251"
        ],
        [
         738,
         "LL Road Frame - Black, 52",
         "337.2200",
         "204.6251"
        ],
        [
         739,
         "HL Mountain Frame - Silver, 42",
         "1364.5000",
         "747.2002"
        ],
        [
         740,
         "HL Mountain Frame - Silver, 44",
         "1364.5000",
         "706.8110"
        ],
        [
         741,
         "HL Mountain Frame - Silver, 48",
         "1364.5000",
         "706.8110"
        ],
        [
         742,
         "HL Mountain Frame - Silver, 46",
         "1364.5000",
         "747.2002"
        ],
        [
         743,
         "HL Mountain Frame - Black, 42",
         "1349.6000",
         "739.0410"
        ],
        [
         744,
         "HL Mountain Frame - Black, 44",
         "1349.6000",
         "699.0928"
        ],
        [
         745,
         "HL Mountain Frame - Black, 48",
         "1349.6000",
         "699.0928"
        ],
        [
         746,
         "HL Mountain Frame - Black, 46",
         "1349.6000",
         "739.0410"
        ],
        [
         747,
         "HL Mountain Frame - Black, 38",
         "1349.6000",
         "739.0410"
        ],
        [
         748,
         "HL Mountain Frame - Silver, 38",
         "1364.5000",
         "747.2002"
        ],
        [
         749,
         "Road-150 Red, 62",
         "3578.2700",
         "2171.2942"
        ],
        [
         750,
         "Road-150 Red, 44",
         "3578.2700",
         "2171.2942"
        ],
        [
         751,
         "Road-150 Red, 48",
         "3578.2700",
         "2171.2942"
        ],
        [
         752,
         "Road-150 Red, 52",
         "3578.2700",
         "2171.2942"
        ],
        [
         753,
         "Road-150 Red, 56",
         "3578.2700",
         "2171.2942"
        ],
        [
         754,
         "Road-450 Red, 58",
         "1457.9900",
         "884.7083"
        ],
        [
         755,
         "Road-450 Red, 60",
         "1457.9900",
         "884.7083"
        ],
        [
         756,
         "Road-450 Red, 44",
         "1457.9900",
         "884.7083"
        ],
        [
         757,
         "Road-450 Red, 48",
         "1457.9900",
         "884.7083"
        ],
        [
         758,
         "Road-450 Red, 52",
         "1457.9900",
         "884.7083"
        ],
        [
         759,
         "Road-650 Red, 58",
         "782.9900",
         "486.7066"
        ],
        [
         760,
         "Road-650 Red, 60",
         "782.9900",
         "486.7066"
        ],
        [
         761,
         "Road-650 Red, 62",
         "782.9900",
         "486.7066"
        ],
        [
         762,
         "Road-650 Red, 44",
         "782.9900",
         "486.7066"
        ],
        [
         763,
         "Road-650 Red, 48",
         "782.9900",
         "486.7066"
        ],
        [
         764,
         "Road-650 Red, 52",
         "782.9900",
         "486.7066"
        ],
        [
         765,
         "Road-650 Black, 58",
         "782.9900",
         "486.7066"
        ],
        [
         766,
         "Road-650 Black, 60",
         "782.9900",
         "486.7066"
        ],
        [
         767,
         "Road-650 Black, 62",
         "782.9900",
         "486.7066"
        ],
        [
         768,
         "Road-650 Black, 44",
         "782.9900",
         "486.7066"
        ],
        [
         769,
         "Road-650 Black, 48",
         "782.9900",
         "486.7066"
        ],
        [
         770,
         "Road-650 Black, 52",
         "782.9900",
         "486.7066"
        ],
        [
         771,
         "Mountain-100 Silver, 38",
         "3399.9900",
         "1912.1544"
        ],
        [
         772,
         "Mountain-100 Silver, 42",
         "3399.9900",
         "1912.1544"
        ],
        [
         773,
         "Mountain-100 Silver, 44",
         "3399.9900",
         "1912.1544"
        ],
        [
         774,
         "Mountain-100 Silver, 48",
         "3399.9900",
         "1912.1544"
        ],
        [
         775,
         "Mountain-100 Black, 38",
         "3374.9900",
         "1898.0944"
        ],
        [
         776,
         "Mountain-100 Black, 42",
         "3374.9900",
         "1898.0944"
        ],
        [
         777,
         "Mountain-100 Black, 44",
         "3374.9900",
         "1898.0944"
        ],
        [
         778,
         "Mountain-100 Black, 48",
         "3374.9900",
         "1898.0944"
        ],
        [
         779,
         "Mountain-200 Silver, 38",
         "2319.9900",
         "1265.6195"
        ],
        [
         780,
         "Mountain-200 Silver, 42",
         "2319.9900",
         "1265.6195"
        ],
        [
         781,
         "Mountain-200 Silver, 46",
         "2319.9900",
         "1265.6195"
        ],
        [
         782,
         "Mountain-200 Black, 38",
         "2294.9900",
         "1251.9813"
        ],
        [
         783,
         "Mountain-200 Black, 42",
         "2294.9900",
         "1251.9813"
        ],
        [
         784,
         "Mountain-200 Black, 46",
         "2294.9900",
         "1251.9813"
        ],
        [
         785,
         "Mountain-300 Black, 38",
         "1079.9900",
         "598.4354"
        ],
        [
         786,
         "Mountain-300 Black, 40",
         "1079.9900",
         "598.4354"
        ],
        [
         787,
         "Mountain-300 Black, 44",
         "1079.9900",
         "598.4354"
        ],
        [
         788,
         "Mountain-300 Black, 48",
         "1079.9900",
         "598.4354"
        ],
        [
         789,
         "Road-250 Red, 44",
         "2443.3500",
         "1518.7864"
        ],
        [
         790,
         "Road-250 Red, 48",
         "2443.3500",
         "1518.7864"
        ],
        [
         791,
         "Road-250 Red, 52",
         "2443.3500",
         "1518.7864"
        ],
        [
         792,
         "Road-250 Red, 58",
         "2443.3500",
         "1554.9479"
        ],
        [
         793,
         "Road-250 Black, 44",
         "2443.3500",
         "1554.9479"
        ],
        [
         794,
         "Road-250 Black, 48",
         "2443.3500",
         "1554.9479"
        ],
        [
         795,
         "Road-250 Black, 52",
         "2443.3500",
         "1554.9479"
        ],
        [
         796,
         "Road-250 Black, 58",
         "2443.3500",
         "1554.9479"
        ],
        [
         797,
         "Road-550-W Yellow, 38",
         "1120.4900",
         "713.0798"
        ],
        [
         798,
         "Road-550-W Yellow, 40",
         "1120.4900",
         "713.0798"
        ],
        [
         799,
         "Road-550-W Yellow, 42",
         "1120.4900",
         "713.0798"
        ],
        [
         800,
         "Road-550-W Yellow, 44",
         "1120.4900",
         "713.0798"
        ],
        [
         801,
         "Road-550-W Yellow, 48",
         "1120.4900",
         "713.0798"
        ],
        [
         802,
         "LL Fork",
         "148.2200",
         "65.8097"
        ],
        [
         803,
         "ML Fork",
         "175.4900",
         "77.9176"
        ],
        [
         804,
         "HL Fork",
         "229.4900",
         "101.8936"
        ],
        [
         805,
         "LL Headset",
         "34.2000",
         "15.1848"
        ],
        [
         806,
         "ML Headset",
         "102.2900",
         "45.4168"
        ],
        [
         807,
         "HL Headset",
         "124.7300",
         "55.3801"
        ],
        [
         808,
         "LL Mountain Handlebars",
         "44.5400",
         "19.7758"
        ],
        [
         809,
         "ML Mountain Handlebars",
         "61.9200",
         "27.4925"
        ],
        [
         810,
         "HL Mountain Handlebars",
         "120.2700",
         "53.3999"
        ],
        [
         811,
         "LL Road Handlebars",
         "44.5400",
         "19.7758"
        ],
        [
         812,
         "ML Road Handlebars",
         "61.9200",
         "27.4925"
        ],
        [
         813,
         "HL Road Handlebars",
         "120.2700",
         "53.3999"
        ],
        [
         814,
         "ML Mountain Frame - Black, 38",
         "348.7600",
         "185.8193"
        ],
        [
         815,
         "LL Mountain Front Wheel",
         "60.7450",
         "26.9708"
        ],
        [
         816,
         "ML Mountain Front Wheel",
         "209.0250",
         "92.8071"
        ],
        [
         817,
         "HL Mountain Front Wheel",
         "300.2150",
         "133.2955"
        ],
        [
         818,
         "LL Road Front Wheel",
         "85.5650",
         "37.9909"
        ],
        [
         819,
         "ML Road Front Wheel",
         "248.3850",
         "110.2829"
        ],
        [
         820,
         "HL Road Front Wheel",
         "330.0600",
         "146.5466"
        ],
        [
         821,
         "Touring Front Wheel",
         "218.0100",
         "96.7964"
        ],
        [
         822,
         "ML Road Frame-W - Yellow, 38",
         "594.8300",
         "360.9428"
        ],
        [
         823,
         "LL Mountain Rear Wheel",
         "87.7450",
         "38.9588"
        ],
        [
         824,
         "ML Mountain Rear Wheel",
         "236.0250",
         "104.7951"
        ],
        [
         825,
         "HL Mountain Rear Wheel",
         "327.2150",
         "145.2835"
        ],
        [
         826,
         "LL Road Rear Wheel",
         "112.5650",
         "49.9789"
        ],
        [
         827,
         "ML Road Rear Wheel",
         "275.3850",
         "122.2709"
        ],
        [
         828,
         "HL Road Rear Wheel",
         "357.0600",
         "158.5346"
        ],
        [
         829,
         "Touring Rear Wheel",
         "245.0100",
         "108.7844"
        ],
        [
         830,
         "ML Mountain Frame - Black, 40",
         "348.7600",
         "185.8193"
        ],
        [
         831,
         "ML Mountain Frame - Black, 44",
         "348.7600",
         "185.8193"
        ],
        [
         832,
         "ML Mountain Frame - Black, 48",
         "348.7600",
         "185.8193"
        ],
        [
         833,
         "ML Road Frame-W - Yellow, 40",
         "594.8300",
         "360.9428"
        ],
        [
         834,
         "ML Road Frame-W - Yellow, 42",
         "594.8300",
         "360.9428"
        ],
        [
         835,
         "ML Road Frame-W - Yellow, 44",
         "594.8300",
         "360.9428"
        ],
        [
         836,
         "ML Road Frame-W - Yellow, 48",
         "594.8300",
         "360.9428"
        ],
        [
         837,
         "HL Road Frame - Black, 62",
         "1431.5000",
         "868.6342"
        ],
        [
         838,
         "HL Road Frame - Black, 44",
         "1431.5000",
         "868.6342"
        ],
        [
         839,
         "HL Road Frame - Black, 48",
         "1431.5000",
         "868.6342"
        ],
        [
         840,
         "HL Road Frame - Black, 52",
         "1431.5000",
         "868.6342"
        ],
        [
         841,
         "Men's Sports Shorts, S",
         "59.9900",
         "24.7459"
        ],
        [
         842,
         "Touring-Panniers, Large",
         "125.0000",
         "51.5625"
        ],
        [
         843,
         "Cable Lock",
         "25.0000",
         "10.3125"
        ],
        [
         844,
         "Minipump",
         "19.9900",
         "8.2459"
        ],
        [
         845,
         "Mountain Pump",
         "24.9900",
         "10.3084"
        ],
        [
         846,
         "Taillights - Battery-Powered",
         "13.9900",
         "5.7709"
        ],
        [
         847,
         "Headlights - Dual-Beam",
         "34.9900",
         "14.4334"
        ],
        [
         848,
         "Headlights - Weatherproof",
         "44.9900",
         "18.5584"
        ],
        [
         849,
         "Men's Sports Shorts, M",
         "59.9900",
         "24.7459"
        ],
        [
         850,
         "Men's Sports Shorts, L",
         "59.9900",
         "24.7459"
        ],
        [
         851,
         "Men's Sports Shorts, XL",
         "59.9900",
         "24.7459"
        ],
        [
         852,
         "Women's Tights, S",
         "74.9900",
         "30.9334"
        ],
        [
         853,
         "Women's Tights, M",
         "74.9900",
         "30.9334"
        ],
        [
         854,
         "Women's Tights, L",
         "74.9900",
         "30.9334"
        ],
        [
         855,
         "Men's Bib-Shorts, S",
         "89.9900",
         "37.1209"
        ],
        [
         856,
         "Men's Bib-Shorts, M",
         "89.9900",
         "37.1209"
        ],
        [
         857,
         "Men's Bib-Shorts, L",
         "89.9900",
         "37.1209"
        ],
        [
         858,
         "Half-Finger Gloves, S",
         "24.4900",
         "9.1593"
        ],
        [
         859,
         "Half-Finger Gloves, M",
         "24.4900",
         "9.1593"
        ],
        [
         860,
         "Half-Finger Gloves, L",
         "24.4900",
         "9.1593"
        ],
        [
         861,
         "Full-Finger Gloves, S",
         "37.9900",
         "15.6709"
        ],
        [
         862,
         "Full-Finger Gloves, M",
         "37.9900",
         "15.6709"
        ],
        [
         863,
         "Full-Finger Gloves, L",
         "37.9900",
         "15.6709"
        ],
        [
         864,
         "Classic Vest, S",
         "63.5000",
         "23.7490"
        ],
        [
         865,
         "Classic Vest, M",
         "63.5000",
         "23.7490"
        ],
        [
         866,
         "Classic Vest, L",
         "63.5000",
         "23.7490"
        ],
        [
         867,
         "Women's Mountain Shorts, S",
         "69.9900",
         "26.1763"
        ],
        [
         868,
         "Women's Mountain Shorts, M",
         "69.9900",
         "26.1763"
        ],
        [
         869,
         "Women's Mountain Shorts, L",
         "69.9900",
         "26.1763"
        ],
        [
         870,
         "Water Bottle - 30 oz.",
         "4.9900",
         "1.8663"
        ],
        [
         871,
         "Mountain Bottle Cage",
         "9.9900",
         "3.7363"
        ],
        [
         872,
         "Road Bottle Cage",
         "8.9900",
         "3.3623"
        ],
        [
         873,
         "Patch Kit/8 Patches",
         "2.2900",
         "0.8565"
        ],
        [
         874,
         "Racing Socks, M",
         "8.9900",
         "3.3623"
        ],
        [
         875,
         "Racing Socks, L",
         "8.9900",
         "3.3623"
        ],
        [
         876,
         "Hitch Rack - 4-Bike",
         "120.0000",
         "44.8800"
        ],
        [
         877,
         "Bike Wash - Dissolver",
         "7.9500",
         "2.9733"
        ],
        [
         878,
         "Fender Set - Mountain",
         "21.9800",
         "8.2205"
        ],
        [
         879,
         "All-Purpose Bike Stand",
         "159.0000",
         "59.4660"
        ],
        [
         880,
         "Hydration Pack - 70 oz.",
         "54.9900",
         "20.5663"
        ],
        [
         881,
         "Short-Sleeve Classic Jersey, S",
         "53.9900",
         "41.5723"
        ],
        [
         882,
         "Short-Sleeve Classic Jersey, M",
         "53.9900",
         "41.5723"
        ],
        [
         883,
         "Short-Sleeve Classic Jersey, L",
         "53.9900",
         "41.5723"
        ],
        [
         884,
         "Short-Sleeve Classic Jersey, XL",
         "53.9900",
         "41.5723"
        ],
        [
         885,
         "HL Touring Frame - Yellow, 60",
         "1003.9100",
         "601.7437"
        ],
        [
         886,
         "LL Touring Frame - Yellow, 62",
         "333.4200",
         "199.8519"
        ],
        [
         887,
         "HL Touring Frame - Yellow, 46",
         "1003.9100",
         "601.7437"
        ],
        [
         888,
         "HL Touring Frame - Yellow, 50",
         "1003.9100",
         "601.7437"
        ],
        [
         889,
         "HL Touring Frame - Yellow, 54",
         "1003.9100",
         "601.7437"
        ],
        [
         890,
         "HL Touring Frame - Blue, 46",
         "1003.9100",
         "601.7437"
        ],
        [
         891,
         "HL Touring Frame - Blue, 50",
         "1003.9100",
         "601.7437"
        ],
        [
         892,
         "HL Touring Frame - Blue, 54",
         "1003.9100",
         "601.7437"
        ],
        [
         893,
         "HL Touring Frame - Blue, 60",
         "1003.9100",
         "601.7437"
        ],
        [
         894,
         "Rear Derailleur",
         "121.4600",
         "53.9282"
        ],
        [
         895,
         "LL Touring Frame - Blue, 50",
         "333.4200",
         "199.8519"
        ],
        [
         896,
         "LL Touring Frame - Blue, 54",
         "333.4200",
         "199.8519"
        ],
        [
         897,
         "LL Touring Frame - Blue, 58",
         "333.4200",
         "199.8519"
        ],
        [
         898,
         "LL Touring Frame - Blue, 62",
         "333.4200",
         "199.8519"
        ],
        [
         899,
         "LL Touring Frame - Yellow, 44",
         "333.4200",
         "199.8519"
        ],
        [
         900,
         "LL Touring Frame - Yellow, 50",
         "333.4200",
         "199.8519"
        ],
        [
         901,
         "LL Touring Frame - Yellow, 54",
         "333.4200",
         "199.8519"
        ],
        [
         902,
         "LL Touring Frame - Yellow, 58",
         "333.4200",
         "199.8519"
        ],
        [
         903,
         "LL Touring Frame - Blue, 44",
         "333.4200",
         "199.8519"
        ],
        [
         904,
         "ML Mountain Frame-W - Silver, 40",
         "364.0900",
         "199.3757"
        ],
        [
         905,
         "ML Mountain Frame-W - Silver, 42",
         "364.0900",
         "199.3757"
        ],
        [
         906,
         "ML Mountain Frame-W - Silver, 46",
         "364.0900",
         "199.3757"
        ],
        [
         907,
         "Rear Brakes",
         "106.5000",
         "47.2860"
        ],
        [
         908,
         "LL Mountain Seat/Saddle",
         "27.1200",
         "12.0413"
        ],
        [
         909,
         "ML Mountain Seat/Saddle",
         "39.1400",
         "17.3782"
        ],
        [
         910,
         "HL Mountain Seat/Saddle",
         "52.6400",
         "23.3722"
        ],
        [
         911,
         "LL Road Seat/Saddle",
         "27.1200",
         "12.0413"
        ],
        [
         912,
         "ML Road Seat/Saddle",
         "39.1400",
         "17.3782"
        ],
        [
         913,
         "HL Road Seat/Saddle",
         "52.6400",
         "23.3722"
        ],
        [
         914,
         "LL Touring Seat/Saddle",
         "27.1200",
         "12.0413"
        ],
        [
         915,
         "ML Touring Seat/Saddle",
         "39.1400",
         "17.3782"
        ],
        [
         916,
         "HL Touring Seat/Saddle",
         "52.6400",
         "23.3722"
        ],
        [
         917,
         "LL Mountain Frame - Silver, 42",
         "264.0500",
         "144.5938"
        ],
        [
         918,
         "LL Mountain Frame - Silver, 44",
         "264.0500",
         "144.5938"
        ],
        [
         919,
         "LL Mountain Frame - Silver, 48",
         "264.0500",
         "144.5938"
        ],
        [
         920,
         "LL Mountain Frame - Silver, 52",
         "264.0500",
         "144.5938"
        ],
        [
         921,
         "Mountain Tire Tube",
         "4.9900",
         "1.8663"
        ],
        [
         922,
         "Road Tire Tube",
         "3.9900",
         "1.4923"
        ],
        [
         923,
         "Touring Tire Tube",
         "4.9900",
         "1.8663"
        ],
        [
         924,
         "LL Mountain Frame - Black, 42",
         "249.7900",
         "136.7850"
        ],
        [
         925,
         "LL Mountain Frame - Black, 44",
         "249.7900",
         "136.7850"
        ],
        [
         926,
         "LL Mountain Frame - Black, 48",
         "249.7900",
         "136.7850"
        ],
        [
         927,
         "LL Mountain Frame - Black, 52",
         "249.7900",
         "136.7850"
        ],
        [
         928,
         "LL Mountain Tire",
         "24.9900",
         "9.3463"
        ],
        [
         929,
         "ML Mountain Tire",
         "29.9900",
         "11.2163"
        ],
        [
         930,
         "HL Mountain Tire",
         "35.0000",
         "13.0900"
        ],
        [
         931,
         "LL Road Tire",
         "21.4900",
         "8.0373"
        ],
        [
         932,
         "ML Road Tire",
         "24.9900",
         "9.3463"
        ],
        [
         933,
         "HL Road Tire",
         "32.6000",
         "12.1924"
        ],
        [
         934,
         "Touring Tire",
         "28.9900",
         "10.8423"
        ],
        [
         935,
         "LL Mountain Pedal",
         "40.4900",
         "17.9776"
        ],
        [
         936,
         "ML Mountain Pedal",
         "62.0900",
         "27.5680"
        ],
        [
         937,
         "HL Mountain Pedal",
         "80.9900",
         "35.9596"
        ],
        [
         938,
         "LL Road Pedal",
         "40.4900",
         "17.9776"
        ],
        [
         939,
         "ML Road Pedal",
         "62.0900",
         "27.5680"
        ],
        [
         940,
         "HL Road Pedal",
         "80.9900",
         "35.9596"
        ],
        [
         941,
         "Touring Pedal",
         "80.9900",
         "35.9596"
        ],
        [
         942,
         "ML Mountain Frame-W - Silver, 38",
         "364.0900",
         "199.3757"
        ],
        [
         943,
         "LL Mountain Frame - Black, 40",
         "249.7900",
         "136.7850"
        ],
        [
         944,
         "LL Mountain Frame - Silver, 40",
         "264.0500",
         "144.5938"
        ],
        [
         945,
         "Front Derailleur",
         "91.4900",
         "40.6216"
        ],
        [
         946,
         "LL Touring Handlebars",
         "46.0900",
         "20.4640"
        ],
        [
         947,
         "HL Touring Handlebars",
         "91.5700",
         "40.6571"
        ],
        [
         948,
         "Front Brakes",
         "106.5000",
         "47.2860"
        ],
        [
         949,
         "LL Crankset",
         "175.4900",
         "77.9176"
        ],
        [
         950,
         "ML Crankset",
         "256.4900",
         "113.8816"
        ],
        [
         951,
         "HL Crankset",
         "404.9900",
         "179.8156"
        ],
        [
         952,
         "Chain",
         "20.2400",
         "8.9866"
        ],
        [
         953,
         "Touring-2000 Blue, 60",
         "1214.8500",
         "755.1508"
        ],
        [
         954,
         "Touring-1000 Yellow, 46",
         "2384.0700",
         "1481.9379"
        ],
        [
         955,
         "Touring-1000 Yellow, 50",
         "2384.0700",
         "1481.9379"
        ],
        [
         956,
         "Touring-1000 Yellow, 54",
         "2384.0700",
         "1481.9379"
        ],
        [
         957,
         "Touring-1000 Yellow, 60",
         "2384.0700",
         "1481.9379"
        ],
        [
         958,
         "Touring-3000 Blue, 54",
         "742.3500",
         "461.4448"
        ],
        [
         959,
         "Touring-3000 Blue, 58",
         "742.3500",
         "461.4448"
        ],
        [
         960,
         "Touring-3000 Blue, 62",
         "742.3500",
         "461.4448"
        ],
        [
         961,
         "Touring-3000 Yellow, 44",
         "742.3500",
         "461.4448"
        ],
        [
         962,
         "Touring-3000 Yellow, 50",
         "742.3500",
         "461.4448"
        ],
        [
         963,
         "Touring-3000 Yellow, 54",
         "742.3500",
         "461.4448"
        ],
        [
         964,
         "Touring-3000 Yellow, 58",
         "742.3500",
         "461.4448"
        ],
        [
         965,
         "Touring-3000 Yellow, 62",
         "742.3500",
         "461.4448"
        ],
        [
         966,
         "Touring-1000 Blue, 46",
         "2384.0700",
         "1481.9379"
        ],
        [
         967,
         "Touring-1000 Blue, 50",
         "2384.0700",
         "1481.9379"
        ],
        [
         968,
         "Touring-1000 Blue, 54",
         "2384.0700",
         "1481.9379"
        ],
        [
         969,
         "Touring-1000 Blue, 60",
         "2384.0700",
         "1481.9379"
        ],
        [
         970,
         "Touring-2000 Blue, 46",
         "1214.8500",
         "755.1508"
        ],
        [
         971,
         "Touring-2000 Blue, 50",
         "1214.8500",
         "755.1508"
        ],
        [
         972,
         "Touring-2000 Blue, 54",
         "1214.8500",
         "755.1508"
        ],
        [
         973,
         "Road-350-W Yellow, 40",
         "1700.9900",
         "1082.5100"
        ],
        [
         974,
         "Road-350-W Yellow, 42",
         "1700.9900",
         "1082.5100"
        ],
        [
         975,
         "Road-350-W Yellow, 44",
         "1700.9900",
         "1082.5100"
        ],
        [
         976,
         "Road-350-W Yellow, 48",
         "1700.9900",
         "1082.5100"
        ],
        [
         977,
         "Road-750 Black, 58",
         "539.9900",
         "343.6496"
        ],
        [
         978,
         "Touring-3000 Blue, 44",
         "742.3500",
         "461.4448"
        ],
        [
         979,
         "Touring-3000 Blue, 50",
         "742.3500",
         "461.4448"
        ],
        [
         980,
         "Mountain-400-W Silver, 38",
         "769.4900",
         "419.7784"
        ],
        [
         981,
         "Mountain-400-W Silver, 40",
         "769.4900",
         "419.7784"
        ],
        [
         982,
         "Mountain-400-W Silver, 42",
         "769.4900",
         "419.7784"
        ],
        [
         983,
         "Mountain-400-W Silver, 46",
         "769.4900",
         "419.7784"
        ],
        [
         984,
         "Mountain-500 Silver, 40",
         "564.9900",
         "308.2179"
        ],
        [
         985,
         "Mountain-500 Silver, 42",
         "564.9900",
         "308.2179"
        ],
        [
         986,
         "Mountain-500 Silver, 44",
         "564.9900",
         "308.2179"
        ],
        [
         987,
         "Mountain-500 Silver, 48",
         "564.9900",
         "308.2179"
        ],
        [
         988,
         "Mountain-500 Silver, 52",
         "564.9900",
         "308.2179"
        ],
        [
         989,
         "Mountain-500 Black, 40",
         "539.9900",
         "294.5797"
        ],
        [
         990,
         "Mountain-500 Black, 42",
         "539.9900",
         "294.5797"
        ],
        [
         991,
         "Mountain-500 Black, 44",
         "539.9900",
         "294.5797"
        ],
        [
         992,
         "Mountain-500 Black, 48",
         "539.9900",
         "294.5797"
        ],
        [
         993,
         "Mountain-500 Black, 52",
         "539.9900",
         "294.5797"
        ],
        [
         994,
         "LL Bottom Bracket",
         "53.9900",
         "23.9716"
        ],
        [
         995,
         "ML Bottom Bracket",
         "101.2400",
         "44.9506"
        ],
        [
         996,
         "HL Bottom Bracket",
         "121.4900",
         "53.9416"
        ],
        [
         997,
         "Road-750 Black, 44",
         "539.9900",
         "343.6496"
        ],
        [
         998,
         "Road-750 Black, 48",
         "539.9900",
         "343.6496"
        ],
        [
         999,
         "Road-750 Black, 52",
         "539.9900",
         "343.6496"
        ]
       ],
       "datasetInfos": [],
       "dbfsResultPath": null,
       "isJsonSchema": true,
       "metadata": {},
       "overflow": false,
       "plotOptions": {
        "customPlotOptions": {},
        "displayType": "table",
        "pivotAggregation": null,
        "pivotColumns": null,
        "xColumns": null,
        "yColumns": null
       },
       "removedWidgets": [],
       "schema": [
        {
         "metadata": "{\"scale\":0}",
         "name": "ProductID",
         "type": "\"integer\""
        },
        {
         "metadata": "{\"scale\":0}",
         "name": "Name",
         "type": "\"string\""
        },
        {
         "metadata": "{\"scale\":4}",
         "name": "ListPrice",
         "type": "\"decimal(19,4)\""
        },
        {
         "metadata": "{\"scale\":4}",
         "name": "StandardCost",
         "type": "\"decimal(19,4)\""
        }
       ],
       "type": "table"
      }
     },
     "output_type": "display_data"
    }
   ],
   "source": [
    "%sql\n",
    "SELECT ProductID, Name, ListPrice, StandardCost\n",
    "FROM precios_mayores\n",
    "WHERE ListPrice > StandardCost"
   ]
  }
 ],
 "metadata": {
  "application/vnd.databricks.v1+notebook": {
   "dashboards": [],
   "environmentMetadata": null,
   "language": "python",
   "notebookMetadata": {
    "mostRecentlyExecutedCommandWithImplicitDF": {
     "commandId": 1936967486766270,
     "dataframes": [
      "_sqldf"
     ]
    },
    "pythonIndentUnit": 4
   },
   "notebookName": "actividad_1-Notebook_4",
   "widgets": {}
  }
 },
 "nbformat": 4,
 "nbformat_minor": 0
}
